{
 "cells": [
  {
   "cell_type": "code",
   "execution_count": 12,
   "id": "86744f73",
   "metadata": {},
   "outputs": [],
   "source": [
    "import cv2\n",
    "import pdf2image\n",
    "from PIL import Image\n",
    "import numpy as np\n",
    "from pytesseract import pytesseract\n",
    "import matplotlib as mpl\n",
    "import ipywidgets as widgets\n",
    "from ipywidgets import interact, interactive, fixed, interact_manual\n",
    "import pandas as pd\n",
    "import re\n",
    "\n",
    "mpl.rcParams['image.cmap'] = 'gray'\n",
    "\n",
    "path_to_tesseract = r\"C:\\Program Files\\Tesseract-OCR\\tesseract.exe\"\n",
    "pytesseract.tesseract_cmd = path_to_tesseract"
   ]
  },
  {
   "cell_type": "code",
   "execution_count": 13,
   "id": "712679f5",
   "metadata": {},
   "outputs": [],
   "source": [
    "start_pdf = 2\n",
    "end_pdf = 2"
   ]
  },
  {
   "cell_type": "code",
   "execution_count": 14,
   "id": "49513775",
   "metadata": {},
   "outputs": [],
   "source": [
    "def convert_pdf_to_image(file, dpi):\n",
    "    images_list = []\n",
    "    images = pdf2image.convert_from_path(file, dpi = dpi, poppler_path = r\"C:\\Users\\Amandeep Singh\\Downloads\\Release-23.05.0-0\\poppler-23.05.0\\Library\\bin\")\n",
    "    \n",
    "    for i, image in enumerate(images):\n",
    "        image_np = cv2.cvtColor(np.array(image), cv2.COLOR_RGB2BGR)\n",
    "        images_list.append(image_np)\n",
    "        \n",
    "    return images_list"
   ]
  },
  {
   "cell_type": "code",
   "execution_count": 15,
   "id": "d425aebe",
   "metadata": {},
   "outputs": [],
   "source": [
    "def f(x):\n",
    "    global horizontal_lines_img, verticle_lines_img, kernel\n",
    "    kernel_length = np.array(img).shape[1]//x\n",
    "\n",
    "    verticle_kernel = cv2.getStructuringElement(cv2.MORPH_RECT, (1, kernel_length))\n",
    "    hori_kernel = cv2.getStructuringElement(cv2.MORPH_RECT, (kernel_length, 1))\n",
    "    \n",
    "    kernel = cv2.getStructuringElement(cv2.MORPH_RECT, (3, 3))\n",
    "    img_temp1 = cv2.erode(img_bin, verticle_kernel, iterations=3)\n",
    "    verticle_lines_img = cv2.dilate(img_temp1, verticle_kernel, iterations=3)\n",
    "    \n",
    "    cv2.imwrite(\"Images/verticle_lines.jpg\",verticle_lines_img)\n",
    "    img_temp2 = cv2.erode(img_bin, hori_kernel, iterations=3)\n",
    "    horizontal_lines_img = cv2.dilate(img_temp2, hori_kernel, iterations=3)"
   ]
  },
  {
   "cell_type": "code",
   "execution_count": 16,
   "id": "c785499a",
   "metadata": {},
   "outputs": [],
   "source": [
    "def sort_contours(cnts, method):\n",
    "    boundingBoxes = [cv2.boundingRect(c) for c in cnts]\n",
    "    (cnts, boundingBoxes) = zip(*sorted(zip(cnts, boundingBoxes),key=lambda b:[b[1][1],b[1][0]] , reverse=False))\n",
    "    return (cnts, boundingBoxes)"
   ]
  },
  {
   "cell_type": "code",
   "execution_count": 17,
   "id": "1ace039c",
   "metadata": {},
   "outputs": [
    {
     "name": "stdout",
     "output_type": "stream",
     "text": [
      "started\n"
     ]
    },
    {
     "data": {
      "application/vnd.jupyter.widget-view+json": {
       "model_id": "9b119a53ea694ef7b28abdc039d8503f",
       "version_major": 2,
       "version_minor": 0
      },
      "text/plain": [
       "interactive(children=(IntSlider(value=50, description='x', max=255, min=1), Output()), _dom_classes=('widget-i…"
      ]
     },
     "metadata": {},
     "output_type": "display_data"
    },
    {
     "name": "stdout",
     "output_type": "stream",
     "text": [
      "{'Name': 'ಥಮಾಬಾಯಿ ತಿರೊಳೆ', 'FatherName': '', 'HusbandName': 'ಹರಿ', 'MotherName': '', 'num': 0}\n",
      "{'Name': 'ರಾದಾಬಾಯಿ ಕಾಂಬಳೆ', 'FatherName': '', 'HusbandName': 'ಶ್ರೀಪತಿ ಬ', 'MotherName': '', 'num': 1}\n",
      "{'Name': 'ಬಾಳಾಸೊಲೋಹಾರ', 'FatherName': 'ರಾಯಗಾಡ ತ್', 'HusbandName': '', 'MotherName': '', 'num': 2}\n",
      "{'Name': 'ವಿಲಾಸ ಕಾಂಬಳೆ', 'FatherName': 'ಜಾನಬಾ  ಓ', 'HusbandName': '', 'MotherName': '', 'num': 3}\n",
      "{'Name': 'ಮಹಾದೇವ ಸಾಲ್ಕೆ', 'FatherName': 'ದತ್ತು', 'HusbandName': '', 'MotherName': '', 'num': 4}\n",
      "{'Name': 'ಗಣವಂತಿ ಕಂಬಾರ', 'FatherName': '', 'HusbandName': 'ನಾಮದೇವ', 'MotherName': '', 'num': 5}\n",
      "{'Name': 'ಲಕ್ಷ್ಮಿ ಲೋಹಾರ', 'FatherName': '', 'HusbandName': 'ಬಾಳಾಸೊ', 'MotherName': '', 'num': 6}\n",
      "{'Name': 'ಬಾಳಾಸೋ ಮಗದುಮ್ಮ', 'FatherName': 'ರಾಮಚಂದ್ರ  ಇ', 'HusbandName': '', 'MotherName': '', 'num': 7}\n",
      "{'Name': 'ಪಾಂಡುವನಿರೆ', 'FatherName': 'ಬಾಳು', 'HusbandName': '', 'MotherName': '', 'num': 8}\n",
      "{'Name': 'ಮಂದಾಕಿನಿ ವನಿರೆ', 'FatherName': '', 'HusbandName': 'ಪಾಂಡು ೯ ಇ', 'MotherName': '', 'num': 9}\n",
      "{'Name': 'ಉತ್ತಮ ಪವಾರ', 'FatherName': 'ಸೆಖಾರಾಮ', 'HusbandName': '', 'MotherName': '', 'num': 10}\n",
      "{'Name': 'ಉಜ್ವಲಾ ಕಾಂಬಳೆ', 'FatherName': '', 'HusbandName': 'ಭಾವಸೊ', 'MotherName': '', 'num': 11}\n",
      "{'Name': 'ಪ್ರಕಾಶ ಸುತಾರ', 'FatherName': 'ಶಿವಾಜಿ ಸುತಾರ', 'HusbandName': '', 'MotherName': '', 'num': 12}\n",
      "{'Name': 'ಸುಬಾಷ ಕಾಂಬಳೆ', 'FatherName': 'ಶ್ರೀಪತಿ', 'HusbandName': '', 'MotherName': '', 'num': 13}\n",
      "{'Name': 'ಅರುಣ ಕಾಂಬಳೆ', 'FatherName': 'ಶಿವಾಜಿ', 'HusbandName': '', 'MotherName': '', 'num': 14}\n",
      "{'Name': 'ಬಾಬಾಸೋ ಪವಾರ', 'FatherName': 'ಬಲವಂತ', 'HusbandName': '', 'MotherName': '', 'num': 15}\n",
      "{'Name': 'ಗೋವಿಂದ ಕಾಂಬಳೆ', 'FatherName': 'ಶ್ರೀಪತಿ', 'HusbandName': '', 'MotherName': '', 'num': 16}\n",
      "{'Name': 'ಕವಿತಾ ಕಾಂಬಳೆ', 'FatherName': '', 'HusbandName': 'ಅರುಣ', 'MotherName': '', 'num': 17}\n",
      "{'Name': 'ಶಿಲಾದೇವಿ ಧನಾನಂದ', 'FatherName': '', 'HusbandName': 'ರಾಜಾರಾಮ ೭  ಧನಾನಂದ ಹಿ', 'MotherName': '', 'num': 18}\n",
      "{'Name': 'ಶೀಲಾ ಮಗದುವು', 'FatherName': '', 'HusbandName': 'ಶರದ', 'MotherName': '', 'num': 19}\n",
      "{'Name': 'ಉಜ್ವಲಾ ಕಾಂಬಳೆ', 'FatherName': '', 'HusbandName': 'ಸುಬಾಷ', 'MotherName': '', 'num': 20}\n",
      "{'Name': 'ರಾಖಿ ಮಗದುಮ್ಮ', 'FatherName': '', 'HusbandName': 'ಭಾಗೇಶ', 'MotherName': '', 'num': 21}\n",
      "{'Name': 'ಕಾಂಚನ ಸುತಾರ', 'FatherName': '', 'HusbandName': 'ಚಂದ್ರಕಾಂತ', 'MotherName': '', 'num': 22}\n",
      "{'Name': 'ಸಾಗರ ಕಾಂಬಳೆ', 'FatherName': 'ಭೀಮರಾವ', 'HusbandName': '', 'MotherName': '', 'num': 23}\n",
      "{'Name': 'ಉಮೇಶ ಕಾಂಬಳೆ', 'FatherName': 'ಈಶ್ವರ', 'HusbandName': '', 'MotherName': '', 'num': 24}\n",
      "{'Name': 'ಸಂಗೀತಾ ಮಗದುಮ್ಮ', 'FatherName': '', 'HusbandName': 'ಮಹಾದೇವ', 'MotherName': '', 'num': 25}\n",
      "{'Name': 'ಸಾರೀಕಾ ಪವಾರ', 'FatherName': '', 'HusbandName': 'ಚಂದ್ರೆಕಾಂತ “ಲ್', 'MotherName': '', 'num': 26}\n",
      "{'Name': 'ಸರಿತಾಪವಾರ', 'FatherName': '', 'HusbandName': 'ನವನಾಥ', 'MotherName': '', 'num': 27}\n",
      "{'Name': 'ಸಾದನಾ ನೆಲವಡೆ', 'FatherName': '', 'HusbandName': 'ಶತ್ರುಘ್ನ', 'MotherName': '', 'num': 28}\n",
      "{'Name': 'ಉಮೇಶ ಪಾಟೀಲ', 'FatherName': 'ಜ್ಯೊತಿರಾಮ', 'HusbandName': '', 'MotherName': '', 'num': 29}\n"
     ]
    },
    {
     "data": {
      "application/vnd.jupyter.widget-view+json": {
       "model_id": "99a3aecd898443af838da9679597e88c",
       "version_major": 2,
       "version_minor": 0
      },
      "text/plain": [
       "interactive(children=(IntSlider(value=50, description='x', max=255, min=1), Output()), _dom_classes=('widget-i…"
      ]
     },
     "metadata": {},
     "output_type": "display_data"
    },
    {
     "name": "stdout",
     "output_type": "stream",
     "text": [
      "{'Name': 'ಸವಿತಾನಲವಡೆ', 'FatherName': '', 'HusbandName': 'ಅನೀಲ', 'MotherName': '', 'num': 30}\n",
      "{'Name': 'ರಾಜಶ್ರೀ ಕಾಂಬಳೆ', 'FatherName': '', 'HusbandName': 'ರವೀಂದ್ರ', 'MotherName': '', 'num': 31}\n",
      "{'Name': 'ನೀಲಕಂಠ ಗೊರಡೆ', 'FatherName': 'ಯಶವಂತ', 'HusbandName': '', 'MotherName': '', 'num': 32}\n",
      "{'Name': 'ಸುನಂದಾ ಪಾಟೀಲ', 'FatherName': 'ಚೇತನ', 'HusbandName': '', 'MotherName': '', 'num': 33}\n",
      "{'Name': 'ಬಾರತಿ ಮಗೆದುವ', 'FatherName': '', 'HusbandName': 'ಅಣ್ಣಾಸೋ', 'MotherName': '', 'num': 34}\n",
      "{'Name': 'ಪ್ರವೀಣ ಪಾಟೀಲ', 'FatherName': 'ಆತ್ಮಾರಾಮ', 'HusbandName': '', 'MotherName': '', 'num': 35}\n",
      "{'Name': 'ವಿಶಾಲ ನಲವಡೆ', 'FatherName': 'ಅಶೋಕ', 'HusbandName': '', 'MotherName': '', 'num': 36}\n",
      "{'Name': 'ದಿಗಂಬರ ಕಾಂಬಳೆ', 'FatherName': 'ಪ್ರಲ್ಹಾದ', 'HusbandName': '', 'MotherName': '', 'num': 37}\n",
      "{'Name': 'ಶುಭಾಂಗಿ ಪಾಟೀಲ', 'FatherName': 'ರಾಜಾರಾಮ', 'HusbandName': '', 'MotherName': '', 'num': 38}\n",
      "{'Name': 'ಅನೀಲ ಪಾಟೀಲ', 'FatherName': 'ಶಿವಾಜಿ  ಓ', 'HusbandName': '', 'MotherName': '', 'num': 39}\n",
      "{'Name': 'ಅಜೀತ ಕಾಂಬಳೆ', 'FatherName': 'ಬಾಳು  ಇ', 'HusbandName': '', 'MotherName': '', 'num': 40}\n",
      "{'Name': 'ಕೃಷ್ಣಾತ ಕಾಂಬಳೆ', 'FatherName': 'ಸದಾಶೀವ ಅ ಫ್', 'HusbandName': '', 'MotherName': '', 'num': 41}\n",
      "{'Name': 'ಸಂದ್ಯಾ ಪವಾರ', 'FatherName': '', 'HusbandName': 'ವಿನೋದ ೭', 'MotherName': '', 'num': 42}\n",
      "{'Name': 'ಸವಿತಾ ತಿರುವತ್', 'FatherName': 'ಸಂಬಾಜಿ', 'HusbandName': '', 'MotherName': '', 'num': 43}\n",
      "{'Name': 'ಪೂಜಾ ಪಾಟೀಲ', 'FatherName': '', 'HusbandName': 'ಸತಿಶ', 'MotherName': '', 'num': 44}\n",
      "{'Name': 'ಬಾಳುಗುರವ', 'FatherName': 'ಕೃಷ್ಣಾತ', 'HusbandName': '', 'MotherName': '', 'num': 45}\n",
      "{'Name': 'ಶುಬಾಂಗಿ ಶಲಾಕೆ', 'FatherName': '', 'HusbandName': 'ಮಾರುತಿ', 'MotherName': '', 'num': 46}\n",
      "{'Name': 'ಮಧುಮತಿ ಮಗದುಮ್ಮ', 'FatherName': 'ಸಂದೀಪ', 'HusbandName': '', 'MotherName': '', 'num': 47}\n",
      "{'Name': 'ಶುಭಾಂಗಿ ಕಾಂಬಳೆ', 'FatherName': '', 'HusbandName': 'ದಾದಾಸೊ', 'MotherName': '', 'num': 48}\n",
      "{'Name': 'ಬಾಳಾಸಾಹೇಬ ಮಗದುಮ್ಮ', 'FatherName': 'ಸಖಾರಾಮ', 'HusbandName': '', 'MotherName': '', 'num': 49}\n",
      "{'Name': 'ಸಚಿನ ಮಗದುವು', 'FatherName': 'ರಾಮಚಂದ್ರ', 'HusbandName': '', 'MotherName': '', 'num': 50}\n",
      "{'Name': 'ಶ್ರೀಮಂತ ಕಾಂಬಳೆ', 'FatherName': 'ದಗಡು ಹ್', 'HusbandName': '', 'MotherName': '', 'num': 51}\n",
      "{'Name': 'ಸಿಕಂದರ ಕಾಂಬಳೆ', 'FatherName': 'ಸಾತಪ್ಪಾ ಹ್', 'HusbandName': '', 'MotherName': '', 'num': 52}\n",
      "{'Name': 'ಅಕ್ಷಯ ಕಾಂಬಳೆ', 'FatherName': 'ವಿನಾಯಕ', 'HusbandName': '', 'MotherName': '', 'num': 53}\n",
      "{'Name': 'ಸಂಜಯ ಕಾಂಬಳೆ', 'FatherName': 'ಆನಂದ', 'HusbandName': '', 'MotherName': '', 'num': 54}\n",
      "{'Name': 'ಮಲ್ಲೇಶ ಕಾಂಬಳೆ', 'FatherName': 'ಮನೋಹರ ೮', 'HusbandName': '', 'MotherName': '', 'num': 55}\n",
      "{'Name': 'ಅಶ್ಫಾಕೆ ನದಾಫ', 'FatherName': 'ರಾವಸೋ ನದಾಫ', 'HusbandName': '', 'MotherName': '', 'num': 56}\n",
      "{'Name': 'ಅಜೀತ ನಲವಡೆ', 'FatherName': 'ಸದಾಶಿವ', 'HusbandName': '', 'MotherName': '', 'num': 57}\n",
      "{'Name': 'ಸ್ವಾನಂದ ಶಿಂಗೆ', 'FatherName': 'ಮಾರುತಿ', 'HusbandName': '', 'MotherName': '', 'num': 58}\n",
      "{'Name': 'ಮಾಧುರಿ ನಲವಡೆ', 'FatherName': 'ತಾತ್ಕಾಸೋ', 'HusbandName': '', 'MotherName': '', 'num': 59}\n"
     ]
    },
    {
     "data": {
      "application/vnd.jupyter.widget-view+json": {
       "model_id": "f625acf07a3d4cdb98c896ab655abe0a",
       "version_major": 2,
       "version_minor": 0
      },
      "text/plain": [
       "interactive(children=(IntSlider(value=50, description='x', max=255, min=1), Output()), _dom_classes=('widget-i…"
      ]
     },
     "metadata": {},
     "output_type": "display_data"
    },
    {
     "name": "stdout",
     "output_type": "stream",
     "text": [
      "{'Name': 'ಅಜಿಂಕ್ಯ ಕಾಂಬಳೆ', 'FatherName': 'ಅಶೋಕ ಟ್', 'HusbandName': '', 'MotherName': '', 'num': 60}\n",
      "{'Name': 'ಸೊನಾಲಿ ಪವಾರ', 'FatherName': '', 'HusbandName': 'ವಿಕ್ಕಿ', 'MotherName': '', 'num': 61}\n",
      "{'Name': 'ಮಾರುತಿ ಕಾಂಬಳೆ', 'FatherName': 'ಸಖಾರಾಮ', 'HusbandName': '', 'MotherName': '', 'num': 62}\n",
      "{'Name': 'ಗೀತಾ ಪೋವಾರ', 'FatherName': '', 'HusbandName': 'ಚಂದ್ರಕಾಂತ', 'MotherName': '', 'num': 63}\n",
      "{'Name': 'ಜ್ಯೋತಿ ಲೋಹಾರ', 'FatherName': '', 'HusbandName': 'ಯುವರಾಜ', 'MotherName': '', 'num': 64}\n",
      "{'Name': 'ಪಂಕಜ ನಲವಡೆ', 'FatherName': 'ಲಕ್ಷ್ಮಣ ನಲವಡೆ ೯ ಲ್', 'HusbandName': '', 'MotherName': '', 'num': 65}\n",
      "{'Name': 'ಸಂತೋಷ ಪಾಟೀಲ', 'FatherName': 'ಬಾಪುಸೋ', 'HusbandName': '', 'MotherName': '', 'num': 66}\n",
      "{'Name': 'ಅಲ್ಕಾ ಲೋಹಾರ', 'FatherName': '', 'HusbandName': 'ರವೀಂದ್ರ ಲೋಹಾರ', 'MotherName': '', 'num': 67}\n",
      "{'Name': 'ರೋಹಿತ ತಿರವತ', 'FatherName': 'ಬಾಳಾಸೋ', 'HusbandName': '', 'MotherName': '', 'num': 68}\n",
      "{'Name': 'ಪೊಜಾ ಪಾಟೀಲ', 'FatherName': 'ಸ್ರೀಕಾಂತ ಪಾಟೀಲ', 'HusbandName': '', 'MotherName': '', 'num': 69}\n",
      "{'Name': 'ಸುಕನ್ಯಾ ಪವಾರ', 'FatherName': 'ಸದಾಶಿವ ಪವಾರ', 'HusbandName': '', 'MotherName': '', 'num': 70}\n",
      "{'Name': 'ಅಜಯ ತಿರೋಳೆ', 'FatherName': 'ಸುರೇಶ ಶಿರೋಳೆ ೭', 'HusbandName': '', 'MotherName': '', 'num': 71}\n",
      "{'Name': 'ಅಕ್ಷಯ ಕಾಂಬಳೆ', 'FatherName': 'ನಾರಾಯಣ ಟ್', 'HusbandName': '', 'MotherName': '', 'num': 72}\n",
      "{'Name': 'ಅನೀಲ ಕಾಂಬಳೆ', 'FatherName': 'ಸದಾಶಿವ', 'HusbandName': '', 'MotherName': '', 'num': 73}\n",
      "{'Name': 'ದಿಗ್ವಿಜಯ ಕುಂಬಾರ', 'FatherName': 'ದತ್ತಾತ್ರಯ ೭', 'HusbandName': '', 'MotherName': '', 'num': 74}\n",
      "{'Name': 'ಪೂಜಾ ಮಗದ್ದುವು', 'FatherName': '', 'HusbandName': 'ನರಸಿಂಹ', 'MotherName': '', 'num': 75}\n",
      "{'Name': 'ಅನಿತಾ ಕಾಂಬಳೆ', 'FatherName': '', 'HusbandName': 'ಕೃಷ್ಣಾ', 'MotherName': '', 'num': 76}\n",
      "{'Name': 'ಮನೀಷಾ ಮಗದುಮ್ಮ', 'FatherName': 'ರಾವಸಾಹೇಬ ಲ್', 'HusbandName': '', 'MotherName': '', 'num': 77}\n",
      "{'Name': 'ಸಾಗರ ಕಾಂಬಳೆ', 'FatherName': 'ಜಲಿಂದರೆ ೭', 'HusbandName': '', 'MotherName': '', 'num': 78}\n",
      "{'Name': 'ಪ್ರಿಯಾಂಕಾ ಕಾಂಬಳೆ', 'FatherName': '', 'HusbandName': 'ಸನ್ನಿ', 'MotherName': '', 'num': 79}\n",
      "{'Name': 'ಅನಿಕೇತ ಕಾಂಬಳೆ', 'FatherName': 'ದೀಪಕ', 'HusbandName': '', 'MotherName': '', 'num': 80}\n",
      "{'Name': 'ಸಂಜಯ ಕಾಂಬಳೆ', 'FatherName': 'ದೇವಪ್ಪಾ ಕಾಂಬಳೆ ೯ ಇ', 'HusbandName': '', 'MotherName': '', 'num': 81}\n",
      "{'Name': 'ಪೂತಲಾಬಾಯಿ ಮಗದುಮ್ಮ', 'FatherName': '', 'HusbandName': 'ರಾಜಾರಾಮ  ಇ ಮಗದುಮ್ಮ', 'MotherName': '', 'num': 82}\n",
      "{'Name': 'ಪುಷ್ಪಾ ಕಾಂಬಳೆ', 'FatherName': '', 'HusbandName': 'ಚಂದ್ರಕಾಂತ ಕಾಂಬಳೆ | ನಟ', 'MotherName': '', 'num': 83}\n",
      "{'Name': 'ಯಶವಂತ ಪಾಟೀಲ', 'FatherName': 'ಬಾಳು ಪಾಟೀಲ', 'HusbandName': '', 'MotherName': '', 'num': 84}\n",
      "{'Name': 'ಗೀತಾ ಮಗದುಮ್ಮ', 'FatherName': '', 'HusbandName': 'ಗೋವಿಂದ   ಮಗದುಮ್ಮ ಓ', 'MotherName': '', 'num': 85}\n",
      "{'Name': 'ಪ್ರವೀಣ ಗುರವ', 'FatherName': 'ನಗೋಜಿ ಗುರವ ೭', 'HusbandName': '', 'MotherName': '', 'num': 86}\n",
      "{'Name': 'ಗೀತಾ ಮಗದುಮ್ಮ', 'FatherName': '', 'HusbandName': 'ಉಮೇಶ ಮಗದುಮ್ಮ | ನ.', 'MotherName': '', 'num': 87}\n",
      "{'Name': 'ಸುಚಾತಾ ಶೇಳಕೆ', 'FatherName': '', 'HusbandName': 'ವಿನೋದ್ ಶೇಳಕೆ ೯ ್', 'MotherName': '', 'num': 88}\n",
      "{'FatherName': 'ಮಧುಕರ್ ಕಾಂಬಳೆ', 'HusbandName': '', 'MotherName': '', 'num': 89}\n"
     ]
    },
    {
     "data": {
      "application/vnd.jupyter.widget-view+json": {
       "model_id": "408963a557c6490eab80cf651c49f5a5",
       "version_major": 2,
       "version_minor": 0
      },
      "text/plain": [
       "interactive(children=(IntSlider(value=50, description='x', max=255, min=1), Output()), _dom_classes=('widget-i…"
      ]
     },
     "metadata": {},
     "output_type": "display_data"
    },
    {
     "name": "stdout",
     "output_type": "stream",
     "text": [
      "{'Name': 'ಮಾಲಿಕಾ ನದಾಫ್', 'FatherName': '', 'HusbandName': 'ದಸ್ತಗಿರ ನದಾಫ್ ೯', 'MotherName': '', 'num': 90}\n",
      "{'Name': 'ಸುನಿಲ ಪಾಟೀಲ', 'FatherName': 'ಶಿವಾಜಿ ಪಾಟೀಲ', 'HusbandName': '', 'MotherName': '', 'num': 91}\n",
      "{'Name': 'ರೊಪಾಲಿ ಮಗದುಮ್ಮ', 'FatherName': '', 'HusbandName': 'ರಾಜು ಮಗದುಮ್ಮ', 'MotherName': '', 'num': 92}\n",
      "{'Name': 'ನಾಗೇಶ ಕಾಂಬಳೆ', 'FatherName': 'ಆನಂದ ಕಾಂಬಳೆ', 'HusbandName': '', 'MotherName': '', 'num': 93}\n",
      "{'Name': 'ಅಣಪೂರ್ಣಾ ಪೊವಾರ್', 'FatherName': '', 'HusbandName': 'ಗೌತಮ ಪೊವಾರ್', 'MotherName': '', 'num': 94}\n",
      "{'Name': 'ತೇಜಶ್ವಿನಿ ಶಿರೋಳೆ', 'FatherName': '', 'HusbandName': 'ಸಂತೋಷ ತಿರೋಳೆ', 'MotherName': '', 'num': 95}\n",
      "{'Name': 'ವಾಸಂತಿ ಸುತಾರ', 'FatherName': '', 'HusbandName': 'ಉಮೇಶ ಸುತಾರ', 'MotherName': '', 'num': 96}\n",
      "{'Name': 'ವರ್ಷಾಮಾನೆ', 'FatherName': '', 'HusbandName': 'ನಿಶಾಂತ ಮಾನೆ', 'MotherName': '', 'num': 97}\n",
      "{'Name': 'ಸಚಿನ ಪಾಟೀಲ', 'FatherName': 'ಶಂಕರ ಪಾಟೀಲ', 'HusbandName': '', 'MotherName': '', 'num': 98}\n",
      "{'Name': 'ದೇವಚಂದ್ರ ಕಾಂಬಳೆ', 'FatherName': 'ಸಂಜಯ ಕಾಂಬಳೆ', 'HusbandName': '', 'MotherName': '', 'num': 99}\n",
      "{'Name': 'ಮಾಧುರಿ ಮಗದುಮ್ಮ', 'FatherName': '', 'HusbandName': '', 'MotherName': 'ಸತೀಶ ಮಗದುಮ್ಮ', 'num': 100}\n",
      "{'Name': 'ಸುನೀತಾ ಪಾಟೀಲ', 'FatherName': 'ಪಾಂಡುರಂಗ ಹ್ ಪಾಟೀಲ ಟ್', 'HusbandName': '', 'MotherName': '', 'num': 101}\n",
      "{'Name': 'ಮಾಧುರಿ ಪವಾರ', 'FatherName': '', 'HusbandName': 'ರಾಮಚಂದ್ರ ಪವಾರ', 'MotherName': '', 'num': 102}\n",
      "{'Name': 'ಸುರಜ ಚೌಗುಲೆ', 'FatherName': 'ಆನಂದ ಚೌಗುಲೆ', 'HusbandName': '', 'MotherName': '', 'num': 103}\n",
      "{'Name': 'ಸುರೇಖಾಚಾಗುಲೆ', 'FatherName': '', 'HusbandName': 'ಗೋರಖನಾಥ   ಚೌಗುಲೆ ಓ', 'MotherName': '', 'num': 104}\n",
      "{'Name': 'ಅಜಿತ ಕಾಂಬಳೆ', 'FatherName': 'ಆನಂದ ಕಾಂಬಳೆ ಹ್', 'HusbandName': '', 'MotherName': '', 'num': 105}\n",
      "{'Name': 'ರಾಹುಲ ಚಾಗಲೆ', 'FatherName': 'ಸಂಜಯ ಚೌಗುಲೆ', 'HusbandName': '', 'MotherName': '', 'num': 106}\n",
      "{'Name': 'ಪ್ರಮೋದ ವನೀರೆ', 'FatherName': 'ಢೋಂದಿರಾಮ   ವನೀರೆ ಓ', 'HusbandName': '', 'MotherName': '', 'num': 107}\n",
      "{'Name': 'ಅಶ್ವಿನಿ ಮಗದುಮ್ಮ', 'FatherName': '', 'HusbandName': 'ಅಮಿತ ಮಗದುಮ್ಮ', 'MotherName': '', 'num': 108}\n",
      "{'Name': 'ರಾಹುಲ ಕಾಂಬಳೆ', 'FatherName': 'ಸಂಜಯ ಕಾಂಬಳೆ', 'HusbandName': '', 'MotherName': '', 'num': 109}\n",
      "{'Name': 'ಅಮೋಲ ಮರದಾನೆ', 'FatherName': 'ಆನಂದ ಮರದನೆ', 'HusbandName': '', 'MotherName': '', 'num': 110}\n",
      "{'Name': 'ಅಮೋಲ ಪವಾರ', 'FatherName': 'ಅಪ್ಪಾಸೊ ಪವಾರ', 'HusbandName': '', 'MotherName': '', 'num': 111}\n",
      "{'Name': 'ಸವಿತಾ ಪವಾರ', 'FatherName': '', 'HusbandName': 'ವಿಶ್ವನಾಥ ಪವಾರ', 'MotherName': '', 'num': 112}\n",
      "{'Name': 'ಚಂದ್ರಕಾಂತ ಪವಾರ', 'FatherName': 'ರಾಜಾರಾಮ ಪವಾರ | ಕ್ಲ', 'HusbandName': '', 'MotherName': '', 'num': 113}\n",
      "{'Name': 'ಪೂರ್ಣೆಮಾ ಶಿಂಗೆ', 'FatherName': 'ಮಾರುತಿ ಶಿಂಗೆ “ಚ್', 'HusbandName': '', 'MotherName': '', 'num': 114}\n",
      "{'Name': 'ಉಮಾ ಶೇಳಕೆ', 'FatherName': '', 'HusbandName': 'ಆತೀಶ ಶೇಳಕೆ ಬ ಇ', 'MotherName': '', 'num': 115}\n",
      "{'Name': 'ವಿಕೀ ಪೊವಾರ', 'FatherName': 'ಕೃಷ್ಣಾತ ಪೊವಾರ್', 'HusbandName': '', 'MotherName': '', 'num': 116}\n",
      "{'Name': 'ಅಂಜನಾ ಕಾಂಬಳೆ', 'FatherName': '', 'HusbandName': 'ಉಮೇಶ ಕಾಂಬಳೆ ೯', 'MotherName': '', 'num': 117}\n",
      "{'FatherName': 'ರಾಮಚಂದ್ರ  ಇ ನಲವಡೆ ಟ್', 'HusbandName': '', 'MotherName': '', 'num': 118}\n",
      "{'Name': 'ನಿವಾಸ ಕಾಂಬಳೆ', 'FatherName': 'ಗೋವಿಂದ ಕಾಂಬಳೆ ಹ್', 'HusbandName': '', 'MotherName': '', 'num': 119}\n"
     ]
    },
    {
     "data": {
      "application/vnd.jupyter.widget-view+json": {
       "model_id": "2bc7493ea4c34f3384fb90a3d345f0e1",
       "version_major": 2,
       "version_minor": 0
      },
      "text/plain": [
       "interactive(children=(IntSlider(value=50, description='x', max=255, min=1), Output()), _dom_classes=('widget-i…"
      ]
     },
     "metadata": {},
     "output_type": "display_data"
    },
    {
     "name": "stdout",
     "output_type": "stream",
     "text": [
      "{'Name': 'ವಿಪ್ರೆಲ್ ಮಗದುವು', 'FatherName': 'ಸಖಾರಾಮ ಟ್ ಮಗದುವು ಓ', 'HusbandName': '', 'MotherName': '', 'num': 120}\n",
      "{'Name': 'ರೇಣುಕಾ ಕಾಂಬಳೆ', 'FatherName': '', 'HusbandName': 'ಗೌತಮ ಕಾಂಬಳೆ ೭', 'MotherName': '', 'num': 121}\n",
      "{'Name': 'ಹ್ರುಟುಚಾ', 'FatherName': 'ಮಹದೇವ್ ಫ್ ತಿರೋಲೇ ಓ', 'HusbandName': '', 'MotherName': '', 'num': 122}\n",
      "{'Name': 'ದೇವದಾಸ ಸಂಕಪಾಲ', 'FatherName': 'ರಾಮಚಂದ್ರ', 'HusbandName': '', 'MotherName': '', 'num': 123}\n",
      "{'Name': 'ಸಂದೀಪ ಕಾಂಬಳೆ', 'FatherName': 'ಸಾತಪ್ಪ', 'HusbandName': '', 'MotherName': '', 'num': 124}\n",
      "{'Name': 'ಸಾರೀಕಾ ಸೆಳಕೆ', 'FatherName': '', 'HusbandName': 'ದತ್ತಾತ್ರೆಯ', 'MotherName': '', 'num': 125}\n",
      "{'Name': 'ಲಕ್ಷ್ಮೀ ಕಾಂಬಳೆ', 'FatherName': '', 'HusbandName': 'ತಾನಾಜಿ', 'MotherName': '', 'num': 126}\n",
      "{'Name': 'ಅಶ್ವೀನಿ ಕಾಂಬಳೆ', 'FatherName': '', 'HusbandName': 'ಅಮರ', 'MotherName': '', 'num': 127}\n",
      "{'Name': 'ಛಾಯಾ ಕಾಂಬಳೆ', 'FatherName': 'ಸಂಜಯ', 'HusbandName': '', 'MotherName': '', 'num': 128}\n",
      "{'Name': 'ಮೇಘಾಚಾಗಲೆ', 'FatherName': '_ ಅನೀಲ', 'HusbandName': '', 'MotherName': '', 'num': 129}\n",
      "{'Name': 'ಅವಿನಾಶ ಕಾಂಬಳೆ', 'FatherName': 'ವಸಂತ', 'HusbandName': '', 'MotherName': '', 'num': 130}\n",
      "{'Name': 'ದಾದಾಸೊಕಾಂಬಳೆ', 'FatherName': 'ದಗಡು ಹ್', 'HusbandName': '', 'MotherName': '', 'num': 131}\n",
      "{'Name': 'ಕವಿತಾಗೊರವ', 'FatherName': 'ಪ್ರವೀಣ ೭', 'HusbandName': '', 'MotherName': '', 'num': 132}\n",
      "{'Name': 'ಸ್ನೇಹಲತಾ ಮಗದುವು', 'FatherName': 'ಸವಬಾ ಣು', 'HusbandName': '', 'MotherName': '', 'num': 133}\n",
      "{'Name': 'ಸರಿತಾ ಮಗದುವು', 'FatherName': '', 'HusbandName': 'ಬಾಬಾಸೊ', 'MotherName': '', 'num': 134}\n",
      "{'Name': 'ಅಕ್ಕಾತಾಯಿ ಶಿರೋಳ', 'FatherName': '', 'HusbandName': 'ಮಹೇಶ', 'MotherName': '', 'num': 135}\n",
      "{'Name': 'ವಿನಾಯಕ ಮಗದುವು', 'FatherName': 'ದತ್ತಾತ್ರೇಯ', 'HusbandName': '', 'MotherName': '', 'num': 136}\n",
      "{'Name': 'ತೇಜಶ್ವೀನಿ ಪಾಟೀಲ', 'FatherName': '', 'HusbandName': 'ಅಮೂಲ ಹ್', 'MotherName': '', 'num': 137}\n",
      "{'Name': 'ಗಣೇಶ ಮಗದುವು', 'FatherName': 'ದಾದಾಸೊ', 'HusbandName': '', 'MotherName': '', 'num': 138}\n",
      "{'Name': 'ಅಜೀತ ಮಗಡುವು', 'FatherName': 'ರಾಮಚಂದ್ರ ಗಲ ಇ', 'HusbandName': '', 'MotherName': '', 'num': 139}\n",
      "{'Name': 'ಸಂತೋಷ', 'FatherName': 'ವಸಂತ', 'HusbandName': '', 'MotherName': '', 'num': 140}\n",
      "{'Name': 'ಜ್ಯೋತಿ ಸುತಾರ', 'FatherName': '', 'HusbandName': 'ತುಳಸಿದಾಸ ಆ ಫ್', 'MotherName': '', 'num': 141}\n",
      "{'Name': 'ಪೂಜಾ ಪಾಟೀಲ', 'FatherName': '', 'HusbandName': 'ಅನೀಲ', 'MotherName': '', 'num': 142}\n",
      "{'Name': 'ಗುರುಪ್ರಸಾದ ಕಾಂಬಳೆ', 'FatherName': 'ಮೊಹನ', 'HusbandName': '', 'MotherName': '', 'num': 143}\n",
      "{'Name': 'ಸುರೇಶ ಪಾಟೀಲ', 'FatherName': 'ಸುಭಾಷ', 'HusbandName': '', 'MotherName': '', 'num': 144}\n",
      "{'Name': 'ವಿಶಾಲ ಕಾಂಬಳೆ', 'FatherName': 'ದಿಲಿಪ', 'HusbandName': '', 'MotherName': '', 'num': 145}\n",
      "{'Name': 'ನಿತಾಚಾಗಲೆ', 'FatherName': '', 'HusbandName': 'ನವನಾಥ', 'MotherName': '', 'num': 146}\n",
      "{'Name': 'ಶಂಕರ ಘಾಳೆ', 'FatherName': 'ಬಸಪ್ಪಾ ಹ್', 'HusbandName': '', 'MotherName': '', 'num': 147}\n",
      "{'Name': 'ಸಾದನಾ ಕಾಂಬಳೆ', 'FatherName': '', 'HusbandName': 'ಗಣೇಶ', 'MotherName': '', 'num': 148}\n",
      "{'Name': 'ಹೃತುರಾಜ ಶಿರೋಳೆ', 'FatherName': 'ಮಹಾದೇವ  ಇ', 'HusbandName': '', 'MotherName': '', 'num': 149}\n"
     ]
    },
    {
     "data": {
      "application/vnd.jupyter.widget-view+json": {
       "model_id": "f7b4507cfa754f65b6ee934acc56c133",
       "version_major": 2,
       "version_minor": 0
      },
      "text/plain": [
       "interactive(children=(IntSlider(value=50, description='x', max=255, min=1), Output()), _dom_classes=('widget-i…"
      ]
     },
     "metadata": {},
     "output_type": "display_data"
    },
    {
     "name": "stdout",
     "output_type": "stream",
     "text": [
      "{'Name': 'ಸುಮನ ಶಿರೊಳೆ ಗೆಂಡನ ಹೆಸರು ಸದಾಶಿವ ನಾ', 'FatherName': '', 'HusbandName': '', 'MotherName': '', 'num': 150}\n",
      "{'Name': 'ಮಹಾದೇವ ತಿರೊಳೆ', 'FatherName': 'ಹರೀ  ಇ', 'HusbandName': '', 'MotherName': '', 'num': 151}\n",
      "{'Name': 'ಸುಹಾಸ ತಿರೊಳೆ', 'FatherName': 'ಸದಾಶಿವ', 'HusbandName': '', 'MotherName': '', 'num': 152}\n",
      "{'Name': 'ಮಂಗಲ ಶಿರೊಳೆ', 'FatherName': '', 'HusbandName': 'ಮಹಾದೇವ', 'MotherName': '', 'num': 153}\n",
      "{'Name': 'ವಿಜಯಲಕ್ಷ್ಮೀ ತಿರೋಳೆ', 'FatherName': '', 'HusbandName': 'ಸುಹಾಸ', 'MotherName': '', 'num': 154}\n",
      "{'Name': 'ಕೇಶವ ತಿರೊಳೆ', 'FatherName': 'ಲಕ್ಷ್ಮಣ ೮', 'HusbandName': '', 'MotherName': '', 'num': 155}\n",
      "{'Name': 'ಸಂಜುತಾಯಿ ಶಿರೊಳೆ', 'FatherName': '', 'HusbandName': 'ಕೇಶವ', 'MotherName': '', 'num': 156}\n",
      "{'Name': 'ಮಹೇಶ ಶಿರೋಳ', 'FatherName': 'ಕೇಶವ', 'HusbandName': '', 'MotherName': '', 'num': 157}\n",
      "{'Name': 'ಸುರೇಶ ಶಿರೊಳೆ', 'FatherName': 'ಪಾಂಡುರಂಗ', 'HusbandName': '', 'MotherName': '', 'num': 158}\n",
      "{'Name': 'ಸುಮನ ಶಿರೊಳೆ', 'FatherName': '', 'HusbandName': 'ಸುರೇಶ', 'MotherName': '', 'num': 159}\n",
      "{'Name': 'ಅಶೀಶ ಕಾಂಬಳೆ', 'FatherName': 'ದಿನಕರ', 'HusbandName': '', 'MotherName': '', 'num': 160}\n",
      "{'Name': 'ಮಯೂರಿ ಪೋವಾರ', 'FatherName': '', 'HusbandName': 'ಸುರೇಶ', 'MotherName': '', 'num': 161}\n",
      "{'Name': 'ಬಳವಂತ ಪೊವಾರ', 'FatherName': 'ಸುಬರಾವ ೯', 'HusbandName': '', 'MotherName': '', 'num': 162}\n",
      "{'Name': 'ಫ್ರಲವಂತಿ ಪೊವಾರ', 'FatherName': '', 'HusbandName': 'ಬಳವಂತ', 'MotherName': '', 'num': 163}\n",
      "{'Name': 'ಸಾವಿತ್ರಿ ಘಾಳೆ', 'FatherName': '', 'HusbandName': 'ಬಸಪ್ಪಾ', 'MotherName': '', 'num': 164}\n",
      "{'Name': 'ಸುರೇಶ ಪೋವಾರ', 'FatherName': 'ಬಳವಂತ  ಓ', 'HusbandName': '', 'MotherName': '', 'num': 165}\n",
      "{'Name': 'ರಮೇಶ ಪೋವಾರ', 'FatherName': 'ಬಳವಂತ', 'HusbandName': '', 'MotherName': '', 'num': 166}\n",
      "{'Name': 'ಶಾಂತಾಬಾಯಿ ಪೊವಾರ', 'FatherName': '', 'HusbandName': 'ಬಾಬುರಾವ “ಟ್', 'MotherName': '', 'num': 167}\n",
      "{'Name': 'ರಾಜೇಂದ್ರ ಪೊವಾರ', 'FatherName': 'ಬಾಬುರಾವ', 'HusbandName': '', 'MotherName': '', 'num': 168}\n",
      "{'Name': 'ಆನಂದ ಪೊವಾರ', 'FatherName': 'ಬಾಬುರಾವ', 'HusbandName': '', 'MotherName': '', 'num': 169}\n",
      "{'Name': 'ವಂದನಾ ಪೊವಾರ', 'FatherName': '', 'HusbandName': 'ರಾಜೇಂದ್ರ', 'MotherName': '', 'num': 170}\n",
      "{'Name': 'ಪದ್ಮ ಶ್ರೀ ಪೋವಾರ', 'FatherName': '', 'HusbandName': 'ಆನಂದ', 'MotherName': '', 'num': 171}\n",
      "{'Name': 'ಚಂದ್ರಕಾಂತ ಪೋವಾರ', 'FatherName': 'ಬಾಬುರಾವ', 'HusbandName': '', 'MotherName': '', 'num': 172}\n",
      "{'Name': 'ಅಣ್ಣಾಸೋ ಪೊವಾರ', 'FatherName': 'ಸುಬರಾವ', 'HusbandName': '', 'MotherName': '', 'num': 173}\n",
      "{'Name': 'ಸುಮನ ಪೊವಾರ', 'FatherName': '', 'HusbandName': 'ಅಣ್ಣಾಸೋ', 'MotherName': '', 'num': 174}\n",
      "{'Name': 'ರವೀಂದ್ರ ಪೊವಾರ', 'FatherName': 'ಅಣ್ಣಾಸೋ', 'HusbandName': '', 'MotherName': '', 'num': 175}\n",
      "{'Name': 'ಉದಯ ಪೊವಾರ', 'FatherName': 'ಅಣ್ಣಾಸೋ', 'HusbandName': '', 'MotherName': '', 'num': 176}\n",
      "{'Name': 'ಪ್ರಕಾಶ ಪೊವಾರ', 'FatherName': 'ಅಣ್ಣಾಸೋ', 'HusbandName': '', 'MotherName': '', 'num': 177}\n",
      "{'Name': 'ವಂದನಾ ಪೊವಾರ', 'FatherName': '', 'HusbandName': 'ರವೀಂದ್ರ', 'MotherName': '', 'num': 178}\n",
      "{'Name': 'ಸಂಗೀತಾ ಪೋವಾರ', 'FatherName': '', 'HusbandName': 'ಉದಯ', 'MotherName': '', 'num': 179}\n"
     ]
    },
    {
     "data": {
      "application/vnd.jupyter.widget-view+json": {
       "model_id": "7f1f390a2fd746b9a8cc28f763f275b3",
       "version_major": 2,
       "version_minor": 0
      },
      "text/plain": [
       "interactive(children=(IntSlider(value=50, description='x', max=255, min=1), Output()), _dom_classes=('widget-i…"
      ]
     },
     "metadata": {},
     "output_type": "display_data"
    },
    {
     "name": "stdout",
     "output_type": "stream",
     "text": [
      "{'Name': 'ವೈಶಾಲಿ ಪೊವಾರ', 'FatherName': '', 'HusbandName': 'ಪ್ರಕಾಶ', 'MotherName': '', 'num': 180}\n",
      "{'Name': 'ಖುಷಿಕೇಶ ಪೋವಾರ್', 'FatherName': 'ಉದಯ್   ಪೋವಾರ್ ಓಂ', 'HusbandName': '', 'MotherName': '', 'num': 181}\n",
      "{'Name': 'ವಂದನಾ ಮಗದುವು', 'FatherName': '', 'HusbandName': 'ರಾಮಚಂದ್ರ', 'MotherName': '', 'num': 182}\n",
      "{'Name': 'ರಾಮಚಂದ್ರ ಮಗದುಮ', 'FatherName': 'ಶಿವಗೊಂಡಾ ೯', 'HusbandName': '', 'MotherName': '', 'num': 183}\n",
      "{'Name': 'ದತ್ತಾತ್ರಯ ಮಗದುವು', 'FatherName': 'ಶಿವಗೊಂಡಾ ಅ ಫ್', 'HusbandName': '', 'MotherName': '', 'num': 184}\n",
      "{'Name': 'ಶೋಭಾ ಮಗದುವು', 'FatherName': '', 'HusbandName': 'ದತ್ತಾತ್ರಯ', 'MotherName': '', 'num': 185}\n",
      "{'Name': 'ಸೋನಾಬಾಯಿ ಪೋವಾರ', 'FatherName': '', 'HusbandName': 'ಸಖಾರಾಮ', 'MotherName': '', 'num': 186}\n",
      "{'Name': 'ಅಪ್ಪಾಸೊಪೋವಾರ', 'FatherName': 'ದಾದು', 'HusbandName': '', 'MotherName': '', 'num': 187}\n",
      "{'Name': 'ಕೃಷ್ಣಾತ ಪೋವಾರ', 'FatherName': 'ದಾದು', 'HusbandName': '', 'MotherName': '', 'num': 188}\n",
      "{'Name': 'ಕಲ್ಪನಾ ಪೋವಾರ', 'FatherName': '', 'HusbandName': 'ಅಪ್ಪಾಸೊ', 'MotherName': '', 'num': 189}\n",
      "{'Name': 'ಸಂಪತಿ ಪೋವಾರ', 'FatherName': '', 'HusbandName': 'ಕೃಷ್ಣಾತ', 'MotherName': '', 'num': 190}\n",
      "{'Name': 'ಗಳತಮ ಪೋವಾರ', 'FatherName': 'ಕ್ಷಷ್ಣಾತ [', 'HusbandName': '', 'MotherName': '', 'num': 191}\n",
      "{'Name': 'ಪ್ರೀತಮ್ ಪೋವಾರ', 'FatherName': 'ಅಪ್ಪಾಸೋ', 'HusbandName': '', 'MotherName': '', 'num': 192}\n",
      "{'Name': 'ಮಯೂರ ಪೋವಾರ', 'FatherName': 'ರಾಜಾರಾಮ', 'HusbandName': '', 'MotherName': '', 'num': 193}\n",
      "{'Name': 'ಸದಾಶಿವ ಪೋವಾರ', 'FatherName': 'ಪುಂಡಲೀಕ', 'HusbandName': '', 'MotherName': '', 'num': 194}\n",
      "{'Name': 'ಸುರೇಖಾ ಪೋವಾರ', 'FatherName': '', 'HusbandName': 'ಸದಾಶಿವ', 'MotherName': '', 'num': 195}\n",
      "{'Name': 'ಮಾರುತಿ ಪೋವಾರ', 'FatherName': 'ಪುಂಡಲೀಕ', 'HusbandName': '', 'MotherName': '', 'num': 196}\n",
      "{'Name': 'ಛಬುತಾಯಿ ಪೋವಾರ', 'FatherName': '', 'HusbandName': 'ಮಾರುತಿ', 'MotherName': '', 'num': 197}\n",
      "{'Name': 'ರಾಜಾರಾಮ ಉರ್ಫ ರಾಜು ಪೋವಾರ', 'FatherName': 'ಮಾರುತಿ ಡಿ.', 'HusbandName': '', 'MotherName': '', 'num': 198}\n",
      "{'Name': 'ಸುನೀತಾ ಪೋವಾರ', 'FatherName': '', 'HusbandName': 'ರಾಜಾರಾಮ', 'MotherName': '', 'num': 199}\n",
      "{'Name': 'ಸಂಜಯ ಪೋವಾರೆ', 'FatherName': 'ಮಾರುತಿ', 'HusbandName': '', 'MotherName': '', 'num': 200}\n",
      "{'Name': 'ಸುಧಾಕರ ಪೋವಾರ', 'FatherName': 'ಶಂಕರ', 'HusbandName': '', 'MotherName': '', 'num': 201}\n",
      "{'Name': 'ವಿಶ್ವನಾಥ ಪೋವಾರ', 'FatherName': 'ಮಾರುತಿ ೭', 'HusbandName': '', 'MotherName': '', 'num': 202}\n",
      "{'Name': 'ಸುಚಾತಾ ಪೋವಾರ', 'FatherName': '', 'HusbandName': 'ಸಂಜಯ', 'MotherName': '', 'num': 203}\n",
      "{'Name': 'ಮಧುಕರ ಪೋವಾರ', 'FatherName': 'ಪುಂಡಲೀಕ', 'HusbandName': '', 'MotherName': '', 'num': 204}\n",
      "{'Name': 'ಶಾಂತಾ ಪೋವಾರ', 'FatherName': '', 'HusbandName': 'ಮಧುಕರ', 'MotherName': '', 'num': 205}\n",
      "{'Name': 'ಪೋವಾರ', 'FatherName': 'ಮಧುಕರ “ಲ್', 'HusbandName': '', 'MotherName': '', 'num': 206}\n",
      "{'Name': 'ಸ್ವಷ್ಟೀಲ ಮಗದುಮ್ಮ', 'FatherName': 'ಸಖಾರಾಮ', 'HusbandName': '', 'MotherName': '', 'num': 207}\n",
      "{'Name': 'ಅವುಬಾಯಿ ಮಗದುವು', 'FatherName': '', 'HusbandName': 'ಬಾಳಕೃಷ್ಣ', 'MotherName': '', 'num': 208}\n",
      "{'Name': 'ಸಖಾರಾಮ ಮಗದುಮ', 'FatherName': 'ಬಾಳಕೃಷ್ಣ', 'HusbandName': '', 'MotherName': '', 'num': 209}\n"
     ]
    },
    {
     "data": {
      "application/vnd.jupyter.widget-view+json": {
       "model_id": "f42c9d4f3d30426eab42ccdf5d060abf",
       "version_major": 2,
       "version_minor": 0
      },
      "text/plain": [
       "interactive(children=(IntSlider(value=50, description='x', max=255, min=1), Output()), _dom_classes=('widget-i…"
      ]
     },
     "metadata": {},
     "output_type": "display_data"
    },
    {
     "name": "stdout",
     "output_type": "stream",
     "text": [
      "{'Name': 'ಪುಷ್ಪಾ ಮಗದುವು', 'FatherName': '', 'HusbandName': 'ಸಖಾರಾಮ', 'MotherName': '', 'num': 210}\n",
      "{'Name': 'ಶಿವಾಜಿ ಮಗದುವು', 'FatherName': 'ಬಾಳಕೃಷ್ಣ', 'HusbandName': '', 'MotherName': '', 'num': 211}\n",
      "{'Name': '', 'FatherName': '', 'HusbandName': '', 'MotherName': 'ಮಗದುಮ ಗಂಡನ  ಶಿವಾಜಿ', 'num': 212}\n",
      "{'Name': 'ಯುವರಾಜ ವಾಡಕರ', 'FatherName': 'ಮಾರುತಿ', 'HusbandName': '', 'MotherName': '', 'num': 213}\n",
      "{'Name': 'ಮಹಾದೇವ ಪೊವಾರ', 'FatherName': 'ಅಂತು', 'HusbandName': '', 'MotherName': '', 'num': 214}\n",
      "{'Name': 'ಸುಗೆಂದಾ ಪೊವಾರ', 'FatherName': '', 'HusbandName': 'ಮಹಾದೇವ ೮', 'MotherName': '', 'num': 215}\n",
      "{'Name': 'ಗುಣಾಬಾಯಿ ಪೊವಾರ', 'FatherName': '', 'HusbandName': 'ಮಹಾದೇವ', 'MotherName': '', 'num': 216}\n",
      "{'Name': 'ಜೀಜಾಬಾಯಿ ಪೊವಾರ', 'FatherName': '', 'HusbandName': 'ಯಶವಂತ', 'MotherName': '', 'num': 217}\n",
      "{'Name': 'ಕಲ್ಪನಾ ಬೆನಕೆ', 'FatherName': '', 'HusbandName': 'ಪುಂಡಲೀಕ', 'MotherName': '', 'num': 218}\n",
      "{'Name': 'ಜ್ಞಾನದೇವ ಪೋವಾರ', 'FatherName': 'ಮಹಾರ್ದೇವ', 'HusbandName': '', 'MotherName': '', 'num': 219}\n",
      "{'Name': 'ಹರಿ ಪೊವಾರ', 'FatherName': 'ಶಂಕರ', 'HusbandName': '', 'MotherName': '', 'num': 220}\n",
      "{'Name': 'ಪ್ರಮೀಳಾ ಗಳತಗೆ', 'FatherName': '', 'HusbandName': 'ರವಿಂದ್ರ', 'MotherName': '', 'num': 221}\n",
      "{'Name': 'ಬೈರು ಪೋವಾರ', 'FatherName': 'ಮಹಾದೇವ', 'HusbandName': '', 'MotherName': '', 'num': 222}\n",
      "{'Name': 'ಆನಂದ ಪೋವಾರ', 'FatherName': 'ಯಶವಂತ', 'HusbandName': '', 'MotherName': '', 'num': 223}\n",
      "{'Name': 'ವೈಶಾಲಿ ಪೋವಾರ', 'FatherName': '', 'HusbandName': 'ಜ್ಞಾನರ್ದೇವ', 'MotherName': '', 'num': 224}\n",
      "{'Name': 'ಅಶ್ವಿನಿ ಪೋವಾರ', 'FatherName': '', 'HusbandName': 'ಭೈರು', 'MotherName': '', 'num': 225}\n",
      "{'Name': 'ತಾನಾಜಿ ಪೋವಾರ', 'FatherName': 'ಮಹಾದೇವ', 'HusbandName': '', 'MotherName': '', 'num': 226}\n",
      "{'Name': 'ಸುವರ್ಣಾ ಪೋವಾರ', 'FatherName': 'ಹರೀಶ “ಟ್', 'HusbandName': '', 'MotherName': '', 'num': 227}\n",
      "{'Name': 'ಅರ್ಚನಾ ಪೋವಾರ', 'FatherName': '', 'HusbandName': 'ಅನಂದ', 'MotherName': '', 'num': 228}\n",
      "{'Name': 'ಗೋಕುಲಾ ಪೋವಾರ', 'FatherName': '', 'HusbandName': 'ತಾನಾಜಿ', 'MotherName': '', 'num': 229}\n",
      "{'Name': 'ಓಂಕಾರ ಗಳತಗೆ', 'FatherName': 'ರವಿಂದ್ರ', 'HusbandName': '', 'MotherName': '', 'num': 230}\n",
      "{'Name': 'ವಿಜಯ ಮಗದುವು', 'FatherName': 'ರಾಮಚಂದ್ರ', 'HusbandName': '', 'MotherName': '', 'num': 231}\n",
      "{'Name': 'ಓಂಕಾರ್ ಅನಿಲ್ ಮಗದುವು ಮಗದಮ', 'FatherName': 'ಅನಿಲ್ ಸ', 'HusbandName': '', 'MotherName': '', 'num': 232}\n",
      "{'Name': 'ಪೂಜಾ ಪಾಟೀಲ', 'FatherName': 'ಬಾಬಾಸೋ ಅ ಲ್', 'HusbandName': '', 'MotherName': '', 'num': 233}\n",
      "{'Name': 'ಸಾವುಬಾಯಿ ಪೊವಾರ', 'FatherName': '', 'HusbandName': 'ಬಳವಂತ', 'MotherName': '', 'num': 234}\n",
      "{'Name': 'ರೂಪಾಲಿ ಪೋವಾರ', 'FatherName': '', 'HusbandName': 'ಬಾಬಾಸೋ', 'MotherName': '', 'num': 235}\n",
      "{'Name': 'ಆಕಾಶ ಪೋವಾರ', 'FatherName': 'ಬಾಬಾಸಾಹೇಬ ೭', 'HusbandName': '', 'MotherName': '', 'num': 236}\n",
      "{'Name': 'ಸುನಿತಾ ಪೋವಾರ', 'FatherName': '', 'HusbandName': 'ಕೃಷ್ಣಾತ ೯', 'MotherName': '', 'num': 237}\n",
      "{'Name': 'ಸದಾಶಿವ ಪಾಟೀಲ', 'FatherName': 'ದಾದು ಬ', 'HusbandName': '', 'MotherName': '', 'num': 238}\n",
      "{'Name': 'ಶಕುಂತಲಾ ಪಾಟೀಲ', 'FatherName': '', 'HusbandName': 'ಸದಾಶಿವ', 'MotherName': '', 'num': 239}\n"
     ]
    },
    {
     "data": {
      "application/vnd.jupyter.widget-view+json": {
       "model_id": "66ca0ff6fb5543fda5034563b6f84410",
       "version_major": 2,
       "version_minor": 0
      },
      "text/plain": [
       "interactive(children=(IntSlider(value=50, description='x', max=255, min=1), Output()), _dom_classes=('widget-i…"
      ]
     },
     "metadata": {},
     "output_type": "display_data"
    },
    {
     "name": "stdout",
     "output_type": "stream",
     "text": [
      "{'Name': 'ಉತ್ತಮ ಕಾಂಬಳೆ', 'FatherName': 'ಲಹು ಜ್', 'HusbandName': '', 'MotherName': '', 'num': 240}\n",
      "{'Name': 'ಕಾಂಚನಾ ಕಾಂಬಳೆ', 'FatherName': '', 'HusbandName': 'ಉತ್ತಮ ನಾಂ', 'MotherName': '', 'num': 241}\n",
      "{'Name': 'ಅನೀತಾ ಪಾಟೀಲ', 'FatherName': 'ಆನಂದ', 'HusbandName': '', 'MotherName': '', 'num': 242}\n",
      "{'Name': 'ವಿಶ್ವಾಸ ಪಾಟೀಲ', 'FatherName': 'ಸದಾಶಿವ ಪಾಟೀಲ', 'HusbandName': '', 'MotherName': '', 'num': 243}\n",
      "{'Name': 'ಯೋಗಿತಾಶಿರೋಳೆ', 'FatherName': '', 'HusbandName': 'ಸಚಿನ', 'MotherName': '', 'num': 244}\n",
      "{'Name': 'ಮಹಾದೇವ ಮಹಾಕಾಳೆ', 'FatherName': 'ರಾವಸಾಬ ೯ ಲ್ ಮಹಾಕಾಳೆ ಓ', 'HusbandName': '', 'MotherName': '', 'num': 245}\n",
      "{'Name': 'ಶಾಂತಾ ಪೊವಾರ', 'FatherName': '', 'HusbandName': 'ಸೀತಾರಾಮ', 'MotherName': '', 'num': 246}\n",
      "{'Name': 'ದಾದಾಸೊ ಪೊವಾರ', 'FatherName': 'ಸೀತಾರಾಮ  ಇ', 'HusbandName': '', 'MotherName': '', 'num': 247}\n",
      "{'Name': 'ಬಾಳಾಸೊ ಪೊವಾರ', 'FatherName': 'ಸೀತಾರಾಮ', 'HusbandName': '', 'MotherName': '', 'num': 248}\n",
      "{'Name': 'ಕಿಶೋರಿ ಪೊವಾರ', 'FatherName': '', 'HusbandName': 'ದಾದಾಸೊ', 'MotherName': '', 'num': 249}\n",
      "{'Name': 'ಶೋಭಾ ಪೊವಾರ', 'FatherName': '', 'HusbandName': 'ಬಾಳಾಸೋ  ಇ', 'MotherName': '', 'num': 250}\n",
      "{'Name': 'ದತ್ತಾತ್ರಯ ಪೊವಾರ', 'FatherName': 'ದಾದಾಸೋ ಅ ಲ್', 'HusbandName': '', 'MotherName': '', 'num': 251}\n",
      "{'Name': 'ಗಾಯತ್ರಿ', 'FatherName': 'ಬಾಲಾಸೋ   ಪೋವರ್ ಡಿ.', 'HusbandName': '', 'MotherName': '', 'num': 252}\n",
      "{'Name': 'ರಾಕೇಶ', 'FatherName': 'ಬಾಲಾಸೋ   ಪೋವರ್ ಓ', 'HusbandName': '', 'MotherName': '', 'num': 253}\n",
      "{'Name': 'ಬಾಳಾಸೋ ಪೋವಾರ', 'FatherName': 'ನಾನಬಾ', 'HusbandName': '', 'MotherName': '', 'num': 254}\n",
      "{'Name': 'ಮಾಲುಬಾಯಿ ಪೋವಾರ', 'FatherName': '', 'HusbandName': 'ಬಾಳಾಸೋ ಆ ಲ್', 'MotherName': '', 'num': 255}\n",
      "{'Name': 'ನಾರಾಯಣ ಪೊವಾರ', 'FatherName': 'ನಾನಬಾ', 'HusbandName': '', 'MotherName': '', 'num': 256}\n",
      "{'Name': 'ನಿತಿನ ಪೊವಾರ', 'FatherName': 'ಬಾಳಾಸೊ ೮', 'HusbandName': '', 'MotherName': '', 'num': 257}\n",
      "{'Name': 'ಸಚಿನ ಪೊವಾರ', 'FatherName': 'ಬಾಳಾಸೊ', 'HusbandName': '', 'MotherName': '', 'num': 258}\n",
      "{'Name': 'ಆದಿತ್ಯಾ ಮಗದುವು', 'FatherName': 'ಬಾಳಾಸಾಹೇಬ', 'HusbandName': '', 'MotherName': '', 'num': 259}\n",
      "{'Name': 'ಆನಂದ ಪೊವಾರ', 'FatherName': 'ಲಕ್ಷ್ಮಣ ಅ ಲ್', 'HusbandName': '', 'MotherName': '', 'num': 260}\n",
      "{'Name': 'ಕಲಾವತಿ ಪೋವಾರ', 'FatherName': '', 'HusbandName': 'ಆನಂದ', 'MotherName': '', 'num': 261}\n",
      "{'Name': 'ಭರತ ಪೋವಾರ', 'FatherName': 'ಆನಂದಾ', 'HusbandName': '', 'MotherName': '', 'num': 262}\n",
      "{'Name': 'ಮಾಧುರಿ ಪವಾರ', 'FatherName': '', 'HusbandName': 'ಭರತ', 'MotherName': '', 'num': 263}\n",
      "{'Name': 'ವೈಶಾಲಿ ಗೋರಡೆ', 'FatherName': '', 'HusbandName': 'ಪೋಪಟ ಚ್', 'MotherName': '', 'num': 264}\n",
      "{'Name': 'ಮಾರುತಿ ಪೊವಾರ', 'FatherName': 'ಬಾಳಗೊಂಡಾ', 'HusbandName': '', 'MotherName': '', 'num': 265}\n",
      "{'Name': 'ಅನಂದಿ ಪೊವಾರ', 'FatherName': '', 'HusbandName': 'ಮಾರುತಿ', 'MotherName': '', 'num': 266}\n",
      "{'Name': 'ಶಿವಗೊಂಡಾ ಪೊವಾರ', 'FatherName': 'ಬಾಳಗೊಂಡಾ ೯', 'HusbandName': '', 'MotherName': '', 'num': 267}\n",
      "{'Name': 'ಸಂಗೀತಾ ಪೋವಾರ', 'FatherName': '', 'HusbandName': 'ಶಿವಗೊಂಡಾ', 'MotherName': '', 'num': 268}\n",
      "{'Name': 'ಅರ್ಚನಾ ಕಾಂಬಳೆ', 'FatherName': '', 'HusbandName': 'ಕುಂಡಲಿಕ ಲ್', 'MotherName': '', 'num': 269}\n"
     ]
    },
    {
     "data": {
      "application/vnd.jupyter.widget-view+json": {
       "model_id": "38d66f5923aa4bb1aae1e3095dceac2c",
       "version_major": 2,
       "version_minor": 0
      },
      "text/plain": [
       "interactive(children=(IntSlider(value=50, description='x', max=255, min=1), Output()), _dom_classes=('widget-i…"
      ]
     },
     "metadata": {},
     "output_type": "display_data"
    },
    {
     "name": "stdout",
     "output_type": "stream",
     "text": [
      "{'Name': 'ಪ್ರಸಾದ ಪಾಟೀಲ', 'FatherName': 'ಬಾಬಾಸೋ ಟ್', 'HusbandName': '', 'MotherName': '', 'num': 270}\n",
      "{'Name': 'ಕಿಶೋರ ಪೋವಾರ', 'FatherName': 'ಮಾರುತಿ ನ ಇ', 'HusbandName': '', 'MotherName': '', 'num': 271}\n",
      "{'Name': 'ಅಣ್ಣಪ್ಪ ಪೊವಾರ', 'FatherName': 'ರಾಮಗೊಂಡಾ ಫ್', 'HusbandName': '', 'MotherName': '', 'num': 272}\n",
      "{'Name': 'ರಾಮಚಂದ್ರ ಪೊವಾರ', 'FatherName': 'ಅಣ್ಣಪ್ಪ', 'HusbandName': '', 'MotherName': '', 'num': 273}\n",
      "{'Name': 'ವಿವೇಕ ಪವಾರ', 'FatherName': 'ರವಿಂದ್ರ ೭', 'HusbandName': '', 'MotherName': '', 'num': 274}\n",
      "{'Name': 'ಹೌಸಾಬಾಯಿ ಪೊವಾರ', 'FatherName': '', 'HusbandName': 'ಬಾಳಕೃಷ್ಣ', 'MotherName': '', 'num': 275}\n",
      "{'Name': 'ರಘುನಾಥ ಪೊವಾರ', 'FatherName': 'ಬಾಳಕೃಷ್ಣ', 'HusbandName': '', 'MotherName': '', 'num': 276}\n",
      "{'Name': 'ಯಶವಂತ ಪೊವಾರ', 'FatherName': '| ಬಾಳಕೃಷ್ಣ', 'HusbandName': '', 'MotherName': '', 'num': 277}\n",
      "{'Name': 'ಅಂಜನಾ ಪೊವಾರ', 'FatherName': '', 'HusbandName': 'ರಘುನಾಥ', 'MotherName': '', 'num': 278}\n",
      "{'Name': 'ವತ್ಸಲಾ ಮಗದುವು', 'FatherName': '', 'HusbandName': 'ಬಾಪು', 'MotherName': '', 'num': 279}\n",
      "{'Name': 'ಬಿಪಿನ ಮಗದುಮ', 'FatherName': 'ಬಾಪು', 'HusbandName': '', 'MotherName': '', 'num': 280}\n",
      "{'Name': 'ನೀತಿನ ಮಗದುಮ್', 'FatherName': 'ಬಾಪು', 'HusbandName': '', 'MotherName': '', 'num': 281}\n",
      "{'Name': 'ದ್ರಾಕ್ಷಾಯನಿ ಮಗದುಮ್ಮ', 'FatherName': '', 'HusbandName': 'ಬಿಪಿನ', 'MotherName': '', 'num': 282}\n",
      "{'Name': 'ಯೋಗಿತಾ ಮಗದುಮ್ಮ', 'FatherName': '', 'HusbandName': 'ನಿತೀನ', 'MotherName': '', 'num': 283}\n",
      "{'Name': 'ಇಂದುತಾಯಿ ಮಗದುಮ್', 'FatherName': '', 'HusbandName': 'ಬಾಬುರಾವ', 'MotherName': '', 'num': 284}\n",
      "{'Name': 'ಗೀತಾ ಮಗದುಮ್ಮ', 'FatherName': '', 'HusbandName': 'ಶಿವಾಜಿ', 'MotherName': '', 'num': 285}\n",
      "{'Name': 'ಅಶೋಕ ಮಗದುಮ್', 'FatherName': 'ಸದಾಶಿವ', 'HusbandName': '', 'MotherName': '', 'num': 286}\n",
      "{'Name': 'ಸುಲೋಚನಾ ಮಗದುಮ್', 'FatherName': '', 'HusbandName': 'ಅಶೋಕ ೮', 'MotherName': '', 'num': 287}\n",
      "{'Name': 'ಅಮೀತ ಮಗದುವು', 'FatherName': 'ಅಶೋಕ', 'HusbandName': '', 'MotherName': '', 'num': 288}\n",
      "{'Name': 'ಅಜೀತ ಮಗದುಮ್', 'FatherName': 'ಅಶೋಕ  ಇ', 'HusbandName': '', 'MotherName': '', 'num': 289}\n",
      "{'Name': 'ಸ್ವಾತಿ', 'FatherName': '', 'HusbandName': 'ಅಜಿತ ಮಗದೂಮ', 'MotherName': '', 'num': 290}\n",
      "{'Name': 'ಶಿವಪ್ರಸಾದ ಪಾಟೀಲ', 'FatherName': 'ಕೃಷ್ಣಾತ ಹ್', 'HusbandName': '', 'MotherName': '', 'num': 291}\n",
      "{'Name': 'ಸಂಗೀತಾ ಮಗದುಮ್ಮ', 'FatherName': '', 'HusbandName': 'ಈಶ್ವರ ಹ್', 'MotherName': '', 'num': 292}\n",
      "{'Name': 'ಕಲ್ಪನಾ ಮಗದುಮ್', 'FatherName': '', 'HusbandName': 'ಬಾಳಾಸಾಹೇಬ ಅ ಲ್', 'MotherName': '', 'num': 293}\n",
      "{'Name': 'ಸಚೀನ ಮಗದುಮ್', 'FatherName': 'ಮಲಗೊಂಡಾ ೯', 'HusbandName': '', 'MotherName': '', 'num': 294}\n",
      "{'Name': 'ಪ್ರಭಾವತಿ ಮಗದುಮ್', 'FatherName': '', 'HusbandName': 'ಮಹಾದೇವ', 'MotherName': '', 'num': 295}\n",
      "{'Name': 'ರಾವಸೊಮಗದುಮ್', 'FatherName': 'ಮಹಾದೇವ', 'HusbandName': '', 'MotherName': '', 'num': 296}\n",
      "{'Name': 'ವಿಮಲ ಮಗದುಮ್', 'FatherName': '', 'HusbandName': 'ರಾವಸೊ', 'MotherName': '', 'num': 297}\n",
      "{'Name': 'ರಾಜುಮಗದುಮ್ಮ', 'FatherName': 'ಮಹಾದೇವ', 'HusbandName': '', 'MotherName': '', 'num': 298}\n",
      "{'Name': 'ವಿಲಾಸ ಮಗದುಮ್', 'FatherName': 'ಬಾಳಾರಾಮ', 'HusbandName': '', 'MotherName': '', 'num': 299}\n"
     ]
    },
    {
     "data": {
      "application/vnd.jupyter.widget-view+json": {
       "model_id": "319cd9d44aec4412b970854517d57eb5",
       "version_major": 2,
       "version_minor": 0
      },
      "text/plain": [
       "interactive(children=(IntSlider(value=50, description='x', max=255, min=1), Output()), _dom_classes=('widget-i…"
      ]
     },
     "metadata": {},
     "output_type": "display_data"
    },
    {
     "name": "stdout",
     "output_type": "stream",
     "text": [
      "{'Name': 'ಅಲಕಾ ಮಗದುಮ್', 'FatherName': '', 'HusbandName': 'ವಿಲಾಸ', 'MotherName': '', 'num': 300}\n",
      "{'Name': 'ಈಶ್ವರ ಮಗದುಮ್', 'FatherName': 'ವಿಲಾಸ ೭', 'HusbandName': '', 'MotherName': '', 'num': 301}\n",
      "{'Name': 'ಸೇವಂತಾ ಮಗದುಮ್ಮ', 'FatherName': '', 'HusbandName': 'ಪಾಂಡುರಂಗ ೭', 'MotherName': '', 'num': 302}\n",
      "{'Name': 'ಅನಿಲ್ ಆರೇಕರ', 'FatherName': 'ಪಾಂಡುರಂಗ', 'HusbandName': '', 'MotherName': '', 'num': 303}\n",
      "{'Name': 'ರೂಪಾಲಿ ಮುಗದುವು', 'FatherName': '', 'HusbandName': 'ಅನಿಲ', 'MotherName': '', 'num': 304}\n",
      "{'Name': 'ರೋಹಿನಿ ಪಾಟೀಲ', 'FatherName': '', 'HusbandName': 'ಸಚೀನ', 'MotherName': '', 'num': 305}\n",
      "{'Name': 'ಉಮಾ ಪಾಟೀಲ', 'FatherName': 'ಸಂತೊಷ ಪಾಟೀಲ', 'HusbandName': '', 'MotherName': '', 'num': 306}\n",
      "{'Name': 'ಕೃಷ್ಣಾ ನಲ್ಲವಡೆ', 'FatherName': 'ಗಣಪತಿ', 'HusbandName': '', 'MotherName': '', 'num': 307}\n",
      "{'Name': 'ಪದ್ಮಾ ನಲ್ಲವಡೆ', 'FatherName': '', 'HusbandName': 'ಕೃಷ್ಣಾ', 'MotherName': '', 'num': 308}\n",
      "{'Name': 'ಅಕ್ಕುಬಾಯಿ ಗೊರಡೆ', 'FatherName': '', 'HusbandName': 'ಧೂಳಪ್ಪ', 'MotherName': '', 'num': 309}\n",
      "{'Name': 'ಸಜಕ್ಕಾ ಗೊರಡೆ', 'FatherName': '', 'HusbandName': 'ಯಶವಂತ', 'MotherName': '', 'num': 310}\n",
      "{'Name': 'ಪೋಪಟ ಗೊರಡೆ', 'FatherName': 'ಯಶವಂತೆ', 'HusbandName': '', 'MotherName': '', 'num': 311}\n",
      "{'Name': 'ರುಷಿಕೇಷ ವನಿರೆ', 'FatherName': 'ರಘುನಾಥ', 'HusbandName': '', 'MotherName': '', 'num': 312}\n",
      "{'Name': 'ಅಶ್ವಿನಿ ಪಾಟೀಲ', 'FatherName': 'ಅಶೋಕ', 'HusbandName': '', 'MotherName': '', 'num': 313}\n",
      "{'Name': 'ರುಷಿಕೇಶ ನಲವಡೆ', 'FatherName': 'ಆನಂದಾ', 'HusbandName': '', 'MotherName': '', 'num': 314}\n",
      "{'Name': 'ಗಣವಂತಿ ಮಗದುಮ್', 'FatherName': '', 'HusbandName': 'ಮಲಗೊಂಡಾ', 'MotherName': '', 'num': 315}\n",
      "{'Name': 'ಮನೋಹರ ಮಗದುಮ್', 'FatherName': 'ಮಲಗೊಂಡಾ', 'HusbandName': '', 'MotherName': '', 'num': 316}\n",
      "{'Name': 'ಶರದ ಮಗದುಮ್', 'FatherName': 'ಮಲಗೊಂಡಾ ಲ್', 'HusbandName': '', 'MotherName': '', 'num': 317}\n",
      "{'Name': 'ಸುಮನ ಮಗದುಮ್', 'FatherName': '', 'HusbandName': 'ಮನೋಹರ ೭', 'MotherName': '', 'num': 318}\n",
      "{'Name': 'ಜ್ಯೂತಿ ಚೌಗುಲೆ', 'FatherName': '', 'HusbandName': 'ಸುರಜ', 'MotherName': '', 'num': 319}\n",
      "{'Name': 'ಪೂಜಾಚ್ೌಗುಲೆ', 'FatherName': '', 'HusbandName': 'ಆನಂದಾ', 'MotherName': '', 'num': 320}\n",
      "{'Name': 'ವಸಂತ ಮಗದುಮ', 'FatherName': 'ನರಹರಿ', 'HusbandName': '', 'MotherName': '', 'num': 321}\n",
      "{'Name': 'ಅವುಬಾಯಿ ಮಗದುಮ್', 'FatherName': '', 'HusbandName': 'ವಸಂತ', 'MotherName': '', 'num': 322}\n",
      "{'Name': 'ಆನಂದ ಮಗದುವು', 'FatherName': 'ವಸಂತ', 'HusbandName': '', 'MotherName': '', 'num': 323}\n",
      "{'Name': 'ಸುಜಾತಾ ಮಗದುಮ್', 'FatherName': '', 'HusbandName': 'ಆನಂದ ೭', 'MotherName': '', 'num': 324}\n",
      "{'Name': 'ಸುಪ್ರಿಯಾ ವನೆರೆ', 'FatherName': '', 'HusbandName': 'ಪ್ರಕಾಶ', 'MotherName': '', 'num': 325}\n",
      "{'Name': 'ಶುಭಾಂಗಿ ಮಗದುಮ್ಮ', 'FatherName': 'ಅನಂದ', 'HusbandName': '', 'MotherName': '', 'num': 326}\n",
      "{'Name': 'ಶುಭಂ', 'FatherName': 'ಅನಂದ ಮಗದೂಮ |', 'HusbandName': '', 'MotherName': '', 'num': 327}\n",
      "{'Name': 'ಅಸ್ಮೀತಾ ಮಗದುವು', 'FatherName': '', 'HusbandName': 'ಮಹಾದೇವ', 'MotherName': '', 'num': 328}\n",
      "{'Name': 'ಮಾಲುಬಾಯಿ ಪಾಟೀಲ', 'FatherName': '', 'HusbandName': 'ತುಕಾರಾಮ', 'MotherName': '', 'num': 329}\n"
     ]
    },
    {
     "data": {
      "application/vnd.jupyter.widget-view+json": {
       "model_id": "6a8b1d37e09247d3879f4331666b10a5",
       "version_major": 2,
       "version_minor": 0
      },
      "text/plain": [
       "interactive(children=(IntSlider(value=50, description='x', max=255, min=1), Output()), _dom_classes=('widget-i…"
      ]
     },
     "metadata": {},
     "output_type": "display_data"
    },
    {
     "name": "stdout",
     "output_type": "stream",
     "text": [
      "{'Name': 'ರಘುನಾಥ ಮಗದುಮ್', 'FatherName': 'ದತ್ತು [', 'HusbandName': '', 'MotherName': '', 'num': 330}\n",
      "{'Name': 'ದ್ರೌಾಪದಾ ಮಗದುಮ್', 'FatherName': '', 'HusbandName': 'ರಘುನಾಥ', 'MotherName': '', 'num': 331}\n",
      "{'Name': 'ಚಂದ್ರಕಾಂತ ಪಾಟೀಲ', 'FatherName': 'ಪುಂಡಲೀಕ', 'HusbandName': '', 'MotherName': '', 'num': 332}\n",
      "{'Name': 'ಸಂಜಯ ಪಾಟೀಲ', 'FatherName': 'ತಾಯಗೊಂಡ', 'HusbandName': '', 'MotherName': '', 'num': 333}\n",
      "{'Name': 'ಮಹಾದೇವ ಮಗದುವು', 'FatherName': 'ರಾಜಾರಾಮ', 'HusbandName': '', 'MotherName': '', 'num': 334}\n",
      "{'Name': 'ಮಗದುಮ್ ದತ್ತಾತ್ರೇಯ', 'FatherName': 'ರಘುನಾಥ', 'HusbandName': '', 'MotherName': '', 'num': 335}\n",
      "{'Name': 'ಉಜ್ವಲಾ ಪಾಟೀಲ', 'FatherName': '', 'HusbandName': 'ಸಂಜು', 'MotherName': '', 'num': 336}\n",
      "{'Name': 'ಧನಶ್ರೀ ಮಗದುಮ್ಮ', 'FatherName': '| ಬಾಬಾಸೋ', 'HusbandName': '', 'MotherName': '', 'num': 337}\n",
      "{'Name': 'ರಾಜಾರಾಮ ಮಗದುಮ್', 'FatherName': 'ಬಾಳಕೃಷ್ಣ', 'HusbandName': '', 'MotherName': '', 'num': 338}\n",
      "{'Name': 'ಸದಾಶಿವ ಮಗದುಮ್', 'FatherName': 'ರಾಜಾರಾಮ', 'HusbandName': '', 'MotherName': '', 'num': 339}\n",
      "{'Name': 'ಛಬುತಾಯಿ ಮಗದುಮ್', 'FatherName': '', 'HusbandName': 'ಸದಾಶಿವ', 'MotherName': '', 'num': 340}\n",
      "{'Name': 'ಬಯಾಬಾಯಿ ಮಗದುಮ್', 'FatherName': '', 'HusbandName': 'ಗಣಪತಿ ಅ ಫ್', 'MotherName': '', 'num': 341}\n",
      "{'Name': 'ರೆಘುನಾಥ ಮಗದುಮ್', 'FatherName': 'ಗಣಪತಿ', 'HusbandName': '', 'MotherName': '', 'num': 342}\n",
      "{'Name': 'ರಾಮಚಂದ್ರ ಮಗದುಮ್', 'FatherName': 'ಗಣಪತಿ', 'HusbandName': '', 'MotherName': '', 'num': 343}\n",
      "{'Name': 'ವಿಮಲ ಮಗದುಮ್', 'FatherName': '', 'HusbandName': 'ರಘುನಾಥ', 'MotherName': '', 'num': 344}\n",
      "{'Name': 'ಸುಕಮಾರ ಮಗದುಮ', 'FatherName': 'ರಾಮಚಂದ್ರ', 'HusbandName': '', 'MotherName': '', 'num': 345}\n",
      "{'Name': 'ಭರೆತ ಮಗೆದುಮ್', 'FatherName': 'ರಘುನಾಥ ೭', 'HusbandName': '', 'MotherName': '', 'num': 346}\n",
      "{'Name': 'ಸಂದೀಪ ಮಗದುಮ್', 'FatherName': 'ರಘುನಾಥ', 'HusbandName': '', 'MotherName': '', 'num': 347}\n",
      "{'Name': 'ಸುಮಾತಾಯಿ ಮಗದುಮ್', 'FatherName': '', 'HusbandName': 'ರಾಮಚಂದ್ರ', 'MotherName': '', 'num': 348}\n",
      "{'Name': 'ನೇಮಾತಾಯಿ )', 'FatherName': '', 'HusbandName': 'ರಾಮಚಂದ್ರ', 'MotherName': '', 'num': 349}\n",
      "{'Name': 'ಅಕ್ಕಾತಾಯಿ ಮಗದುಮ್', 'FatherName': '', 'HusbandName': 'ಯಶವಂತ', 'MotherName': '', 'num': 350}\n",
      "{'Name': 'ಬಾಳುವಮುಗದುಮ್', 'FatherName': 'ಯಶವಂತ ಲ ಇ', 'HusbandName': '', 'MotherName': '', 'num': 351}\n",
      "{'Name': 'ಸುವರ್ಣಾ ಮಗೆದುಮ್', 'FatherName': '', 'HusbandName': 'ಬಾಳು  ಇ', 'MotherName': '', 'num': 352}\n",
      "{'Name': 'ಪ್ರಶಾಂತ ಮಗದುಮ್', 'FatherName': 'ಜ್ಞಾನದೇವ  ಇ', 'HusbandName': '', 'MotherName': '', 'num': 353}\n",
      "{'Name': 'ಜ್ಞಾ ನದ್ದೇವ ಮಗದುಮ್', 'FatherName': 'ದಾದು', 'HusbandName': '', 'MotherName': '', 'num': 354}\n",
      "{'Name': 'ಇಂದುತಾಯಿ ಮಗದುಮ್', 'FatherName': '', 'HusbandName': 'ಜ್ಞಾನದೇವ', 'MotherName': '', 'num': 355}\n",
      "{'Name': 'ಕುಮಾರ ಚವಾನ', 'FatherName': 'ಆನಂದ ಚವಾನ', 'HusbandName': '', 'MotherName': '', 'num': 356}\n",
      "{'Name': 'ಕರೀಶ್ಮಾ ಚವಾನ', 'FatherName': 'ತಾನಾಜಿ ಚವಾನ |', 'HusbandName': '', 'MotherName': '', 'num': 357}\n",
      "{'Name': 'ಸುಪರಿಯಾ', 'FatherName': '', 'HusbandName': '_ ಅನಿಲ್ ಪಾಟಿಲ್', 'MotherName': '', 'num': 358}\n",
      "{'Name': 'ಬಾಬುರಾವ ಪಾಟೀಲ', 'FatherName': 'ದತ್ತಾತ್ರಯ', 'HusbandName': '', 'MotherName': '', 'num': 359}\n"
     ]
    },
    {
     "data": {
      "application/vnd.jupyter.widget-view+json": {
       "model_id": "3f12ee34918140ada4ed3afdcb02fffe",
       "version_major": 2,
       "version_minor": 0
      },
      "text/plain": [
       "interactive(children=(IntSlider(value=50, description='x', max=255, min=1), Output()), _dom_classes=('widget-i…"
      ]
     },
     "metadata": {},
     "output_type": "display_data"
    },
    {
     "name": "stdout",
     "output_type": "stream",
     "text": [
      "{'Name': 'ಮಾಲನ ಪಾಟೀಲ', 'FatherName': '', 'HusbandName': 'ಬಾಬುರಾವ', 'MotherName': '', 'num': 360}\n",
      "{'Name': 'ವನಶ್ರೀ ಚೌಗುಲೆ', 'FatherName': '', 'HusbandName': 'ಚಂದ್ರಕಾಂತ', 'MotherName': '', 'num': 361}\n",
      "{'Name': 'ಸ್ನೇಹಲ ಚೌಗುಲೆ', 'FatherName': '', 'HusbandName': 'ಸೂರ್ಯಕಾಂತ', 'MotherName': '', 'num': 362}\n",
      "{'Name': 'ಶಿವಾಜಿ ಪಾಟೀಲ', 'FatherName': 'ದೌಲು', 'HusbandName': '', 'MotherName': '', 'num': 363}\n",
      "{'Name': 'ಸುಶೀಲಾ ಪಾಟೀಲ', 'FatherName': '', 'HusbandName': 'ಶಿವಾಜಿ', 'MotherName': '', 'num': 364}\n",
      "{'Name': 'ವಸಂತ ಕುರಣೆ', 'FatherName': 'ರಾಮಚಂದ್ರ', 'HusbandName': '', 'MotherName': '', 'num': 365}\n",
      "{'Name': 'ಛಬುತಾಯಿ ಕುರಣೆ', 'FatherName': 'ವಸಂತ ೭', 'HusbandName': '', 'MotherName': '', 'num': 366}\n",
      "{'Name': 'ಶಾಂತಾ ಪಾಟೀಲ', 'FatherName': '', 'HusbandName': 'ನಿವೃತ್ತಿ', 'MotherName': '', 'num': 367}\n",
      "{'Name': 'ಶ್ರೀಮಂತಿ ಪಾಟೀಲ', 'FatherName': '', 'HusbandName': 'ನಿವೃತ್ತಿ', 'MotherName': '', 'num': 368}\n",
      "{'Name': 'ರಾಮದಾಸ ಪಾಟೀಲ', 'FatherName': 'ನಿವೃತ್ತಿ', 'HusbandName': '', 'MotherName': '', 'num': 369}\n",
      "{'Name': 'ವೀರೇಂದ್ರ ಪಾಟೀಲ', 'FatherName': 'ಕೃಷ್ಣಾ', 'HusbandName': '', 'MotherName': '', 'num': 370}\n",
      "{'Name': 'ಸಂಯೋಜಿತಾ ಪಾಟೀಲ', 'FatherName': 'ರಾಮದಾಸ ಅ ಫ್', 'HusbandName': '', 'MotherName': '', 'num': 371}\n",
      "{'Name': 'ಮಾರುತಿ ಪಾಟೀಲ', 'FatherName': 'ದಾದು', 'HusbandName': '', 'MotherName': '', 'num': 372}\n",
      "{'Name': 'ಶಂಕರ ಪಾಟೀಲ', 'FatherName': 'ದಾದು', 'HusbandName': '', 'MotherName': '', 'num': 373}\n",
      "{'Name': 'ಸ್ವಾತಿ ಪಾಟೀಲ', 'FatherName': '', 'HusbandName': 'ಶಂಕರ', 'MotherName': '', 'num': 374}\n",
      "{'Name': 'ವಿಶ್ವನಾಥ ಪಾಟೀಲ', 'FatherName': 'ಮಾರುತಿ', 'HusbandName': '', 'MotherName': '', 'num': 375}\n",
      "{'Name': 'ಅಪ್ಪಾಸೋ ಪಾಟೀಲ', 'FatherName': 'ಮಾರುತಿ', 'HusbandName': '', 'MotherName': '', 'num': 376}\n",
      "{'Name': 'ಪೂರ್ಣಿಮಾ ಪಾಟೀಲ', 'FatherName': '', 'HusbandName': 'ವಿರೇಂದ್ರ', 'MotherName': '', 'num': 377}\n",
      "{'Name': 'ಸಂದಸ್ಯಾನಿ ಪಾಟೀಲ', 'FatherName': '', 'HusbandName': 'ವಿಶ್ವನಾಥ', 'MotherName': '', 'num': 378}\n",
      "{'Name': 'ವಿದ್ಯಾ ಪಾಟೀಲ', 'FatherName': '', 'HusbandName': 'ಅಪ್ಪಾಸೋ', 'MotherName': '', 'num': 379}\n",
      "{'Name': 'ಅಕ್ಕಾತಾಯಿ ಪಾಟೀಲ', 'FatherName': '', 'HusbandName': 'ಕೃಷ್ಣಾ', 'MotherName': '', 'num': 380}\n",
      "{'Name': 'ಬಾಳಾಸೊಪಾಟೀಲ', 'FatherName': 'ನರಹರಿ', 'HusbandName': '', 'MotherName': '', 'num': 381}\n",
      "{'Name': 'ಭಾಗೀರಥಿ ಪಾಟೀಲ', 'FatherName': '', 'HusbandName': 'ಬಾಳಾಸೊ', 'MotherName': '', 'num': 382}\n",
      "{'Name': 'ಗಣಪತಿ ಪಾಟೀಲ', 'FatherName': 'ನರಹರಿ', 'HusbandName': '', 'MotherName': '', 'num': 383}\n",
      "{'Name': 'ನರಹರಿ ಪಾಟೀಲ', 'FatherName': 'ಬಾಳಾಸೊ', 'HusbandName': '', 'MotherName': '', 'num': 384}\n",
      "{'Name': 'ದಯಾನಂದ ಪಾಟೀಲ', 'FatherName': 'ಗಣಪತಿ', 'HusbandName': '', 'MotherName': '', 'num': 385}\n",
      "{'Name': 'ಸುವರ್ಣಾ ಪಾಟೀಲ', 'FatherName': '', 'HusbandName': 'ನರಹರಿ', 'MotherName': '', 'num': 386}\n",
      "{'Name': 'ಉತ್ತಮ ಪಾಟೀಲ', 'FatherName': 'ಗಣಪತಿ', 'HusbandName': '', 'MotherName': '', 'num': 387}\n",
      "{'Name': 'ಸಂಗೀತಾ ಪಾಟೀಲ', 'FatherName': '', 'HusbandName': 'ದಯಾನಂದ', 'MotherName': '', 'num': 388}\n",
      "{'Name': 'ಅಮೋಲ ಪಾಟೀಲ', 'FatherName': 'ಗುಂಡೊಬಾ', 'HusbandName': '', 'MotherName': '', 'num': 389}\n"
     ]
    },
    {
     "data": {
      "application/vnd.jupyter.widget-view+json": {
       "model_id": "6ec59f0f2e244348b5003d183088f799",
       "version_major": 2,
       "version_minor": 0
      },
      "text/plain": [
       "interactive(children=(IntSlider(value=50, description='x', max=255, min=1), Output()), _dom_classes=('widget-i…"
      ]
     },
     "metadata": {},
     "output_type": "display_data"
    },
    {
     "name": "stdout",
     "output_type": "stream",
     "text": [
      "{'Name': 'ಗುಂಡೊಬಾ ಪಾಟೀಲ', 'FatherName': 'ಗೋಪಾಳ', 'HusbandName': '', 'MotherName': '', 'num': 390}\n",
      "{'Name': 'ಅಕ್ಕಾತಾಯಿ ಪಾಟಿಲ', 'FatherName': '', 'HusbandName': 'ಗುಂಡು', 'MotherName': '', 'num': 391}\n",
      "{'Name': 'ಭಾಗೀರಥಿ ನೆರಲೆ', 'FatherName': '', 'HusbandName': 'ಮಹಾದೇವ', 'MotherName': '', 'num': 392}\n",
      "{'Name': 'ಪಾಟೀಲ್ ಸಂತೋಷ', 'FatherName': 'ಗುಂಡೋಬ', 'HusbandName': '', 'MotherName': '', 'num': 393}\n",
      "{'Name': 'ಅಶೋಕ ಪಾಟೀಲ', 'FatherName': 'ಅನ್ನಾಸೊ ೭', 'HusbandName': '', 'MotherName': '', 'num': 394}\n",
      "{'Name': 'ಅವಿನಾಶ ಪಾಟೀಲ', 'FatherName': 'ಅನ್ನಾಸೊ', 'HusbandName': '', 'MotherName': '', 'num': 395}\n",
      "{'Name': 'ಸಂಗೀತಾ ಪಾಟೀಲ', 'FatherName': '', 'HusbandName': 'ಅಶೋಕ', 'MotherName': '', 'num': 396}\n",
      "{'Name': 'ಭಾಗ್ಯಶ್ರೀ ಪಾಟೀಲ', 'FatherName': '', 'HusbandName': 'ಅವಿನಾಶ', 'MotherName': '', 'num': 397}\n",
      "{'Name': 'ಓಂಕಾರ್ ಪಾಟಿಲ', 'FatherName': 'ಅಶೊಕ ಪಾಟಿಲ. |', 'HusbandName': '', 'MotherName': '', 'num': 398}\n",
      "{'Name': 'ಗಣಪತಿ ಚೌಗುಲೆ', 'FatherName': 'ರಾಮಚಂದ್ರ  ಇ', 'HusbandName': '', 'MotherName': '', 'num': 399}\n",
      "{'FatherName': 'ರಾಮಚಂದ್ರ ಗಲ ಇ', 'HusbandName': '', 'MotherName': '', 'num': 400}\n",
      "{'Name': 'ಶೋಬಾತಾಯಿ ಚೌಗುಲೆ', 'FatherName': '', 'HusbandName': 'ಗಣಪತಿ ಅ ಫ್', 'MotherName': '', 'num': 401}\n",
      "{'Name': 'ಆನಂದ ಚಾಗುಲೆ', 'FatherName': 'ರಾಮಚಂದ್ರ ೯', 'HusbandName': '', 'MotherName': '', 'num': 402}\n",
      "{'Name': 'ಸಿಂಧುತಾಯಿ ಚೌಗುಲೆ', 'FatherName': '', 'HusbandName': 'ಅನ್ನಪ್ಪ ೭', 'MotherName': '', 'num': 403}\n",
      "{'Name': 'ಸುನಿತಾಚ್ೌಗುಲೆ', 'FatherName': '', 'HusbandName': 'ಆನಂದ', 'MotherName': '', 'num': 404}\n",
      "{'Name': 'ಧೋಂಡಿರಾಮ ವನಿರೆ', 'FatherName': 'ದತ್ತು ಹ್', 'HusbandName': '', 'MotherName': '', 'num': 405}\n",
      "{'Name': 'ಗುಣವಂತಿ ಚೌಗುಲೆ', 'FatherName': '', 'HusbandName': 'ಶಿವಾಜಿ', 'MotherName': '', 'num': 406}\n",
      "{'Name': 'ಮಾಲುತಾಯಿ ವನಿರೆ', 'FatherName': '', 'HusbandName': 'ಧೋಂಡಿರಾಮ “ಟ್', 'MotherName': '', 'num': 407}\n",
      "{'Name': 'ನವನಾಥ ಚೌಗುಲೆ', 'FatherName': 'ಶಿವಾಜಿ', 'HusbandName': '', 'MotherName': '', 'num': 408}\n",
      "{'Name': 'ಬಾಬಾಸೊವನಿರೆ', 'FatherName': 'ಧೊಂಡಿರಾಮ  ಇ', 'HusbandName': '', 'MotherName': '', 'num': 409}\n",
      "{'Name': 'ಸುಖದೇವಿ ವನೀರೆ', 'FatherName': '', 'HusbandName': 'ಬಾಬಾಸೋ', 'MotherName': '', 'num': 410}\n",
      "{'Name': 'ರಘುನಾಥ ವನಿರೆ', 'FatherName': 'ಬಾಳು ೯ ಇ', 'HusbandName': '', 'MotherName': '', 'num': 411}\n",
      "{'Name': 'ಸಾವಿತ್ರಿ ವನಿರೆ', 'FatherName': '', 'HusbandName': 'ರಘುನಾಥ', 'MotherName': '', 'num': 412}\n",
      "{'Name': 'ರಾಮಚಂದ್ರ ವನಿರೆ', 'FatherName': 'ಬಾಳು', 'HusbandName': '', 'MotherName': '', 'num': 413}\n",
      "{'Name': 'ಶಾಲನ ವನಿರೆ', 'FatherName': '', 'HusbandName': 'ರಾಮಚಂದ್ರ', 'MotherName': '', 'num': 414}\n",
      "{'Name': 'ತಾನಾಜಿ ವನಿರೇ', 'FatherName': 'ರಾಮಚಂದ್ರ', 'HusbandName': '', 'MotherName': '', 'num': 415}\n",
      "{'Name': 'ರೂಪಾಲಿ ವನಿಕಿ', 'FatherName': '', 'HusbandName': 'ತಾನಾಜಿ ೭', 'MotherName': '', 'num': 416}\n",
      "{'Name': 'ಮಾರುತಿ ವನಿರೆ', 'FatherName': 'ಕೃಷ್ಣಾ', 'HusbandName': '', 'MotherName': '', 'num': 417}\n",
      "{'Name': 'ಪ್ರಕಾಶ ವನಿರೆ', 'FatherName': 'ಮಾರುತಿ', 'HusbandName': '', 'MotherName': '', 'num': 418}\n",
      "{'Name': 'ಪೂಜಾ ಮಗದುಮ್ಮ', 'FatherName': '', 'HusbandName': 'ಭರತ', 'MotherName': '', 'num': 419}\n"
     ]
    },
    {
     "data": {
      "application/vnd.jupyter.widget-view+json": {
       "model_id": "5b47b95d046e4c4eb814333075f88fad",
       "version_major": 2,
       "version_minor": 0
      },
      "text/plain": [
       "interactive(children=(IntSlider(value=50, description='x', max=255, min=1), Output()), _dom_classes=('widget-i…"
      ]
     },
     "metadata": {},
     "output_type": "display_data"
    },
    {
     "name": "stdout",
     "output_type": "stream",
     "text": [
      "{'Name': 'ಬೀರುಗೋರಡೆ', 'FatherName': 'ಅಪ್ಪಾಜಿ', 'HusbandName': '', 'MotherName': '', 'num': 420}\n",
      "{'Name': 'ತಾರಾಬಾಯಿ ಗೋರಡೆ', 'FatherName': '', 'HusbandName': 'ಬೀರು', 'MotherName': '', 'num': 421}\n",
      "{'Name': 'ಸದಾಶಿವ ಗೋರಡೆ', 'FatherName': 'ಬೀರು  ಇ', 'HusbandName': '', 'MotherName': '', 'num': 422}\n",
      "{'Name': 'ಸುನೀತಾಗೋರಡೆ', 'FatherName': '', 'HusbandName': 'ಸದಾಶಿವ', 'MotherName': '', 'num': 423}\n",
      "{'Name': 'ರೋಹನ ಚೌಗುಲೆ', 'FatherName': 'ಸಂಜಯ ಚಾಗುಲೆ ೯ ೌ್', 'HusbandName': '', 'MotherName': '', 'num': 424}\n",
      "{'Name': 'ದತ್ತಾತ್ರೇಯ ಲೋಹಾರ', 'FatherName': 'ಗೋವಿಂದ ೯ ಲ್', 'HusbandName': '', 'MotherName': '', 'num': 425}\n",
      "{'Name': 'ವೈಶಾಲಿ ಲೋಹಾರ', 'FatherName': '', 'HusbandName': 'ದತ್ತಾತ್ರೆಯ', 'MotherName': '', 'num': 426}\n",
      "{'Name': 'ಸೋನಾಬಾಯಿ ನಲ್ಲವಡೆ', 'FatherName': '', 'HusbandName': 'ರಾಮಚಂದ್ರ', 'MotherName': '', 'num': 427}\n",
      "{'Name': 'ನಾರಾಯಣ ನಲ್ಲವಡೆ', 'FatherName': 'ರಾಮಚಂದ್ರ ೭', 'HusbandName': '', 'MotherName': '', 'num': 428}\n",
      "{'Name': 'ಶಿವಾಜಿ ಪಾಟೀಲ', 'FatherName': 'ಪಾಂಡುರಂಗ ಟ್', 'HusbandName': '', 'MotherName': '', 'num': 429}\n",
      "{'Name': 'ಮಂಗಲ ಪಾಟೀಲ ಗೆಂಡನ ಹೆಸರು ಶಿವಾಜಿ', 'FatherName': '', 'HusbandName': '', 'MotherName': '', 'num': 430}\n",
      "{'Name': 'ರಂಜನಾ ಪಾಟೀಲ', 'FatherName': '', 'HusbandName': 'ಬಚ್ಚಾರಾಮ ೭', 'MotherName': '', 'num': 431}\n",
      "{'Name': 'ರವೀಂದ್ರ ಪಾಟೀಲ', 'FatherName': 'ಶಿವಾಜಿ', 'HusbandName': '', 'MotherName': '', 'num': 432}\n",
      "{'Name': 'ವೈಜಯಂತಿ ನಲವಡೆ', 'FatherName': 'ಸಂತೋಷ್ ನಲವಡೆ |', 'HusbandName': '', 'MotherName': '', 'num': 433}\n",
      "{'Name': 'ಅಜಿಂಕ್ಯಾ ಮಗದುಮ್ಮ', 'FatherName': 'ಬಾಳಾಸಾಹೇಬ ಫ್', 'HusbandName': '', 'MotherName': '', 'num': 434}\n",
      "{'Name': 'ರಾಜಾರಾಮ', 'FatherName': 'ಎಸ್ ಪಾಟಿಲ್', 'HusbandName': '', 'MotherName': '', 'num': 435}\n",
      "{'Name': 'ಭಾರತಿ ನಲ್ಲವಡೆ', 'FatherName': '', 'HusbandName': 'ದಿಲೀಪ', 'MotherName': '', 'num': 436}\n",
      "{'Name': 'ರಾಜಶ್ರೀ ನಲವಡೆ', 'FatherName': '', 'HusbandName': 'ಅತುಲ', 'MotherName': '', 'num': 437}\n",
      "{'Name': 'ಅಭಿಷೇಕ ಮೊರಡೆ', 'FatherName': 'ಬಾಹುಬಲಿ', 'HusbandName': '', 'MotherName': '', 'num': 438}\n",
      "{'Name': 'ಭಾಗೀರಥಿಬಾಯಿ ಲೋಹಾರ', 'FatherName': '', 'HusbandName': 'ಯಶವಂತ ್', 'MotherName': '', 'num': 439}\n",
      "{'Name': 'ಮಹಾದೇವಿ ಪಾಟೀಲ', 'FatherName': '', 'HusbandName': 'ಸೀತಾರಾಮ', 'MotherName': '', 'num': 440}\n",
      "{'Name': 'ಮೇಘಾ ಶೇಳಕೆ', 'FatherName': '', 'HusbandName': 'ಅಪ್ಪಾಸೋ', 'MotherName': '', 'num': 441}\n",
      "{'Name': 'ಪಾರ್ವತಿ ಶೆಳಕೆ', 'FatherName': '', 'HusbandName': 'ಮಹಾದೇವ', 'MotherName': '', 'num': 442}\n",
      "{'Name': 'ಮಾರುತಿ ಶೇಳಕೆ', 'FatherName': 'ಮಹಾದೇವ ೭', 'HusbandName': '', 'MotherName': '', 'num': 443}\n",
      "{'Name': 'ಅಪ್ಪಾಸೋ ಶೆಳಕೆ', 'FatherName': 'ಮಹಾದೇವ', 'HusbandName': '', 'MotherName': '', 'num': 444}\n",
      "{'Name': 'ಅನುಸೂಯಾ ಶೆಳಕೆ', 'FatherName': '', 'HusbandName': 'ಸದಾಶಿವ', 'MotherName': '', 'num': 445}\n",
      "{'Name': 'ಬಾಳಾಸೊಶೆಳಕೆ', 'FatherName': 'ಸದಾಶಿವ', 'HusbandName': '', 'MotherName': '', 'num': 446}\n",
      "{'Name': 'ಮಂಗಲ ಶೆಳಕೆ', 'FatherName': '', 'HusbandName': 'ಬಾಳಾಸೊ', 'MotherName': '', 'num': 447}\n",
      "{'Name': 'ದತ್ತಾತ್ರಯ ಶೆಳಕೆ', 'FatherName': 'ಸದಾಶಿವ', 'HusbandName': '', 'MotherName': '', 'num': 448}\n",
      "{'Name': 'ಅನ್ನಪ್ಪ ಮಗದುಮ್', 'FatherName': 'ಗಣಪತಿ', 'HusbandName': '', 'MotherName': '', 'num': 449}\n"
     ]
    },
    {
     "data": {
      "application/vnd.jupyter.widget-view+json": {
       "model_id": "47428203d5d04b9e978193d26bc5dba5",
       "version_major": 2,
       "version_minor": 0
      },
      "text/plain": [
       "interactive(children=(IntSlider(value=50, description='x', max=255, min=1), Output()), _dom_classes=('widget-i…"
      ]
     },
     "metadata": {},
     "output_type": "display_data"
    },
    {
     "name": "stdout",
     "output_type": "stream",
     "text": [
      "{'Name': 'ದಾದಾಸೊ ಮಗದುಮ್', 'FatherName': 'ಅನ್ನಪ್ಪ', 'HusbandName': '', 'MotherName': '', 'num': 450}\n",
      "{'Name': 'ಸುನಿತಾ ಮಗದುಮ್', 'FatherName': '', 'HusbandName': 'ದಾದಾಸೊ', 'MotherName': '', 'num': 451}\n",
      "{'Name': 'ಬಾಬಾಸೊ ಮಗದುಮ್', 'FatherName': 'ಅನ್ನಪ್ಪ ೭', 'HusbandName': '', 'MotherName': '', 'num': 452}\n",
      "{'Name': 'ಅನಿತಾ ಮಗದುಮ್', 'FatherName': '', 'HusbandName': 'ಅರವಿಂದ', 'MotherName': '', 'num': 453}\n",
      "{'Name': 'ಭಾರತಿ ಮಗುದಮು', 'FatherName': '', 'HusbandName': 'ಬಾಬಾಸೋ', 'MotherName': '', 'num': 454}\n",
      "{'Name': 'ಅತುಲ ನಲವಡೆ', 'FatherName': 'ದಿಲೀಪ ೯ ಲ್', 'HusbandName': '', 'MotherName': '', 'num': 455}\n",
      "{'Name': 'ಉಮೇಶ ಮಗದುಮ್ಮ', 'FatherName': 'ಅರವಿಂದ', 'HusbandName': '', 'MotherName': '', 'num': 456}\n",
      "{'Name': 'ಅಪ್ಪಾಸೊ ಪಾಟೀಲ', 'FatherName': '| ಪಾಂಡು', 'HusbandName': '', 'MotherName': '', 'num': 457}\n",
      "{'Name': 'ಗೋವಿಂದ ಪಾಟೀಲ', 'FatherName': 'ಪಾಂಡು', 'HusbandName': '', 'MotherName': '', 'num': 458}\n",
      "{'Name': 'ಅನೀತ ಪಾಟೀಲ', 'FatherName': 'ಗೋವಿಂದ', 'HusbandName': '', 'MotherName': '', 'num': 459}\n",
      "{'Name': 'ಪಾಂಡುರಂಗ ಪಾಟೀಲ', 'FatherName': 'ಅಪ್ಪಾಸೊ ಟ್', 'HusbandName': '', 'MotherName': '', 'num': 460}\n",
      "{'Name': 'ನಾಗೋಜಿ ಗುರವ', 'FatherName': 'ರಾಮು', 'HusbandName': '', 'MotherName': '', 'num': 461}\n",
      "{'Name': 'ಸೂರ್ಯಕಾಂತ್ ಪವರ್', 'FatherName': 'ಮಹಾದೇವ್ ಪವರ್ | ಕ್ಲ ಇ', 'HusbandName': '', 'MotherName': '', 'num': 462}\n",
      "{'Name': 'ಅಕ್ಷಯ ಕಾಂಬಲೆ', 'FatherName': 'ದಿನಕರ್ ಕಾಂಬಲೆ ೮', 'HusbandName': '', 'MotherName': '', 'num': 463}\n",
      "{'Name': 'ಕೃಷ್ಣಾಬಾಯಿ ಗುರವ', 'FatherName': '', 'HusbandName': 'ಶಿವಾ', 'MotherName': '', 'num': 464}\n",
      "{'Name': 'ವೈಶಾಲಿ ಗುರವ', 'FatherName': '', 'HusbandName': 'ರಾಜಾರಾಮ', 'MotherName': '', 'num': 465}\n",
      "{'Name': 'ಅಶ್ವಿನಿ ಪವಾರ್', 'FatherName': 'ಸುಧಾಕರ್ ಪವಾರ್', 'HusbandName': '', 'MotherName': '', 'num': 466}\n",
      "{'Name': 'ಪ್ರತೀಕ್ಷಾಗುರವ', 'FatherName': 'ರಾಜಾರಾಮ “ಟ್', 'HusbandName': '', 'MotherName': '', 'num': 467}\n",
      "{'Name': 'ರತ್ನಾಬಾಯಿ ಮಗದುಮ್', 'FatherName': '', 'HusbandName': 'ಬಾಬುರಾವ', 'MotherName': '', 'num': 468}\n",
      "{'Name': '', 'FatherName': '', 'HusbandName': '', 'MotherName': 'ಮಗದುಮ್ಮ ಗಂಡನೆ  ಕೃಷ್ಣಾಂತ', 'num': 469}\n",
      "{'Name': 'ಸಾಧನಾ ಮಗದುಮ್', 'FatherName': '', 'HusbandName': 'ಸಖಾರಾಮ', 'MotherName': '', 'num': 470}\n",
      "{'Name': 'ಸತೀಶ ಮಗದುವು', 'FatherName': 'ಕೃಷ್ಣಾತ', 'HusbandName': '', 'MotherName': '', 'num': 471}\n",
      "{'Name': 'ಪೊಜಾ ಮಗದುಮ್ಮ', 'FatherName': '', 'HusbandName': 'ಪ್ರಿತಮಕುಮಾರ   ಮಗದುಮ್ಮ', 'MotherName': '', 'num': 472}\n",
      "{'Name': '', 'FatherName': '', 'HusbandName': '', 'MotherName': 'ಮಗದುಮ್ ಗಂಡನ  ಬಾಳಾಸೊ', 'num': 473}\n",
      "{'Name': 'ವೃಷಾಲಿ ಪೋವಾರ', 'FatherName': '', 'HusbandName': 'ರಾಜೇಂದ್ರ', 'MotherName': '', 'num': 474}\n",
      "{'Name': 'ಆನಂದಾ ಮಗದುಮ್', 'FatherName': 'ಜಾನಬಾ', 'HusbandName': '', 'MotherName': '', 'num': 475}\n",
      "{'Name': 'ಮಹಾದೇವ ಮಗದುಮ್', 'FatherName': 'ಜಾನಬಾ', 'HusbandName': '', 'MotherName': '', 'num': 476}\n",
      "{'Name': 'ಸಂಜಯ ಮಗದುಮ್', 'FatherName': 'ಜಾನಬಾ', 'HusbandName': '', 'MotherName': '', 'num': 477}\n",
      "{'Name': 'ಮಗದುಮ್ ಕಲಾವತಿ', 'FatherName': '', 'HusbandName': 'ಆನಂದ', 'MotherName': '', 'num': 478}\n",
      "{'Name': 'ಅಶ್ವಿನಿ ಮಗದುಮ್', 'FatherName': '', 'HusbandName': 'ಸಂಜಯ', 'MotherName': '', 'num': 479}\n"
     ]
    },
    {
     "data": {
      "application/vnd.jupyter.widget-view+json": {
       "model_id": "33fee23bd96f49788ce4cb38a7f97bb3",
       "version_major": 2,
       "version_minor": 0
      },
      "text/plain": [
       "interactive(children=(IntSlider(value=50, description='x', max=255, min=1), Output()), _dom_classes=('widget-i…"
      ]
     },
     "metadata": {},
     "output_type": "display_data"
    },
    {
     "name": "stdout",
     "output_type": "stream",
     "text": [
      "{'Name': 'ಜನಾಬಾಯಿ ಮಗದುವು', 'FatherName': '', 'HusbandName': 'ನಾರಾಯಣ', 'MotherName': '', 'num': 480}\n",
      "{'Name': 'ಬಾಬಾಸೊ ಮಗದುಮ್ .ಪೊಪಟ', 'FatherName': 'ನಾರಾಯಣ ಓ', 'HusbandName': '', 'MotherName': '', 'num': 481}\n",
      "{'Name': 'ಅನ್ನಾಸೊಮಗದುಮ್', 'FatherName': 'ನಾರಾಯಣ', 'HusbandName': '', 'MotherName': '', 'num': 482}\n",
      "{'Name': 'ರಾವಸೋ ಮಗದುಮ', 'FatherName': 'ನಾರಾಯಣ', 'HusbandName': '', 'MotherName': '', 'num': 483}\n",
      "{'Name': 'ಸಕೀನಾ ನದಾಫ', 'FatherName': '', 'HusbandName': 'ರಾವಸಾಬ', 'MotherName': '', 'num': 484}\n",
      "{'Name': 'ಮಾರುತಿ ಸುತಾರೆ', 'FatherName': 'ಗುಂಡು ೮', 'HusbandName': '', 'MotherName': '', 'num': 485}\n",
      "{'Name': 'ಶಕುಂತಲಾ ಸುತಾರ', 'FatherName': '', 'HusbandName': 'ಮಾರುತಿ', 'MotherName': '', 'num': 486}\n",
      "{'Name': 'ಅನಿಲ ಸುತಾರ', 'FatherName': 'ಮಾರುತಿ', 'HusbandName': '', 'MotherName': '', 'num': 487}\n",
      "{'Name': 'ಪ್ರಕಾಶ ಸುತಾರ', 'FatherName': 'ಮಾರುತಿ', 'HusbandName': '', 'MotherName': '', 'num': 488}\n",
      "{'Name': 'ಸುವರ್ಣಾ ಸುತಾರ', 'FatherName': '', 'HusbandName': 'ಅನೀಲ', 'MotherName': '', 'num': 489}\n",
      "{'Name': 'ಚಂದ್ರಕಾಂತ ಸುತಾರ', 'FatherName': 'ಮಾರುತಿ', 'HusbandName': '', 'MotherName': '', 'num': 490}\n",
      "{'Name': 'ಅಶ್ವಿನಿ ಸುತಾರ', 'FatherName': '', 'HusbandName': 'ಪ್ರಕಾಶ', 'MotherName': '', 'num': 491}\n",
      "{'Name': 'ಅರ್ಚನಾ ಸುತಾರ', 'FatherName': '', 'HusbandName': 'ಪ್ರಕಾಶ', 'MotherName': '', 'num': 492}\n",
      "{'Name': 'ಓಂಕಾರ ಸುತಾರ', 'FatherName': 'ಅನಿಲ ಸುತಾರ ೮', 'HusbandName': '', 'MotherName': '', 'num': 493}\n",
      "{'Name': 'ಐಶ್ವರ್ಯ ಸುತಾರ', 'FatherName': 'ಅನಿಲ ಸುತಾರ ೭', 'HusbandName': '', 'MotherName': '', 'num': 494}\n",
      "{'Name': 'ಶಿವಾಜಿ ಸಂಕಪಾಳ', 'FatherName': 'ಬಾಬು', 'HusbandName': '', 'MotherName': '', 'num': 495}\n",
      "{'Name': 'ಅನಂದಿ ಸಂಕಪಾಳ', 'FatherName': '', 'HusbandName': 'ಶಿವಾಜಿ', 'MotherName': '', 'num': 496}\n",
      "{'Name': 'ಸಂತೋಷ ಸಂಕಪಾಳ', 'FatherName': 'ಶಿವಾಜಿ', 'HusbandName': '', 'MotherName': '', 'num': 497}\n",
      "{'Name': 'ದಲು ಉರ್ಫ ನೀಲಕಂಠ ದ', 'FatherName': 'ಬಾಳಕೃಷ್ಣ ಹುಂ', 'HusbandName': '', 'MotherName': '', 'num': 498}\n",
      "{'Name': 'ಕೃಷ್ಣಾತ ಗುರವ', 'FatherName': 'ಬಾಳಕೃಷ್ಣ', 'HusbandName': '', 'MotherName': '', 'num': 499}\n",
      "{'Name': 'ಚಿಮಾಬಾಯಿ ಗುರವ', 'FatherName': '', 'HusbandName': 'ದೌಲುಉರ್ಫ ಅ ಫ್ ನೀಲಕಂಠ ಟೌ', 'MotherName': '', 'num': 500}\n",
      "{'Name': 'ಸಖುಬಾಯಿ ಗುರವ', 'FatherName': '', 'HusbandName': 'ಕೃಷ್ಣಾತ', 'MotherName': '', 'num': 501}\n",
      "{'Name': 'ಶಿವಾಜಿ ಗುರವ', 'FatherName': 'ದೌಲು ಉರ್ಫ ೮  ನೀಲಕಂಠ ಓ', 'HusbandName': '', 'MotherName': '', 'num': 502}\n",
      "{'Name': 'ಮನಿಷಾ ಗುರವ', 'FatherName': '', 'HusbandName': 'ಶಿವಾಜಿ', 'MotherName': '', 'num': 503}\n",
      "{'Name': 'ತಾನಾಜಿ ಗುರವ', 'FatherName': 'ದೌಲು ಉರ್ಫ  ಇ ನೀಲಕಂಠ ಓಿ', 'HusbandName': '', 'MotherName': '', 'num': 504}\n",
      "{'Name': 'ಸುನೀತಾ ಗುರವ', 'FatherName': '', 'HusbandName': 'ತಾನಾಜಿ', 'MotherName': '', 'num': 505}\n",
      "{'Name': 'ಹಳಸಾಬಾಯಿ ಪಾಟೀಲ', 'FatherName': '', 'HusbandName': 'ರಾಘು', 'MotherName': '', 'num': 506}\n",
      "{'Name': 'ಕೃಷ್ಣಾತ ಪಾಟೀಲ', 'FatherName': 'ರಾಘು ॥', 'HusbandName': '', 'MotherName': '', 'num': 507}\n",
      "{'Name': 'ಸುನಿತಾ ಪಾಟೀಲ', 'FatherName': '', 'HusbandName': 'ಕೃಷ್ಣಾತ', 'MotherName': '', 'num': 508}\n",
      "{'Name': 'ಮಂಗಲ ಪಾಟೀಲ', 'FatherName': '', 'HusbandName': 'ಬಾಪುಸೊ', 'MotherName': '', 'num': 509}\n"
     ]
    },
    {
     "data": {
      "application/vnd.jupyter.widget-view+json": {
       "model_id": "6433d20ee48341a09e92339cfd233da3",
       "version_major": 2,
       "version_minor": 0
      },
      "text/plain": [
       "interactive(children=(IntSlider(value=50, description='x', max=255, min=1), Output()), _dom_classes=('widget-i…"
      ]
     },
     "metadata": {},
     "output_type": "display_data"
    },
    {
     "name": "stdout",
     "output_type": "stream",
     "text": [
      "{'Name': 'ಶಂಕರ ಪಾಟೀಲ', 'FatherName': 'ಬಾಳಾಸೊ ಟ್', 'HusbandName': '', 'MotherName': '', 'num': 510}\n",
      "{'Name': 'ಸುನಿತಾ ಪಾಟೀಲ', 'FatherName': '', 'HusbandName': 'ಶಂಕರ', 'MotherName': '', 'num': 511}\n",
      "{'Name': 'ಆನಂದ ಪಾಟೀಲ', 'FatherName': 'ಮಲಗೊಂಡಾ ಫ್', 'HusbandName': '', 'MotherName': '', 'num': 512}\n",
      "{'Name': 'ಮಂಗಲ ಪಾಟೀಲ', 'FatherName': '', 'HusbandName': 'ಆನಂದ', 'MotherName': '', 'num': 513}\n",
      "{'Name': 'ಸತೀಶ ಪಾಟೀಲ', 'FatherName': 'ಜೋತಿರಾಮ', 'HusbandName': '', 'MotherName': '', 'num': 514}\n",
      "{'Name': 'ಉಮೇಶ ಪಾಟೀಲ', 'FatherName': 'ಜೋತಿರಾಮ ಲ್', 'HusbandName': '', 'MotherName': '', 'num': 515}\n",
      "{'Name': 'ಸುಹಾಸ ಪಾಟೀಲ', 'FatherName': 'ಆನಂದಾ', 'HusbandName': '', 'MotherName': '', 'num': 516}\n",
      "{'Name': 'ಸುಚಾತಾ ಪಾಟೀಲ', 'FatherName': '', 'HusbandName': 'ಉಮೇಶ', 'MotherName': '', 'num': 517}\n",
      "{'Name': 'ಬಾಬಾಸೊಪೋವಾರ', 'FatherName': 'ಪಾಂಡು ಅ ಫ್', 'HusbandName': '', 'MotherName': '', 'num': 518}\n",
      "{'Name': 'ಸರುಬಾಯಿ ಪೋವಾರ', 'FatherName': '', 'HusbandName': 'ಬಾಬಾಸೊ', 'MotherName': '', 'num': 519}\n",
      "{'Name': 'ಮಾರುತಿ ಪೋವಾರ', 'FatherName': 'ಪಾಂಡು  ಇ', 'HusbandName': '', 'MotherName': '', 'num': 520}\n",
      "{'Name': 'ಸವಿತಾ ಪೋವಾರ', 'FatherName': '', 'HusbandName': 'ಮಾರುತಿ ಹ್', 'MotherName': '', 'num': 521}\n",
      "{'Name': 'ಅಮರ ಪೊವಾರ', 'FatherName': 'ಬಾಬಾಸೊ ೯', 'HusbandName': '', 'MotherName': '', 'num': 522}\n",
      "{'Name': 'ಸಪ್ನಾ ಪೋವಾರ', 'FatherName': '', 'HusbandName': 'ಅಮರೆ', 'MotherName': '', 'num': 523}\n",
      "{'Name': 'ಖುತಿಕಾ ಪೋವಾರ', 'FatherName': 'ಮಾರುತಿ ೯', 'HusbandName': '', 'MotherName': '', 'num': 524}\n",
      "{'Name': 'ವಸಂತ ಲೋಹಾರ', 'FatherName': 'ಗಣಪತಿ', 'HusbandName': '', 'MotherName': '', 'num': 525}\n",
      "{'Name': 'ಸಖಬಾಯಿ ಲೋಹಾರ', 'FatherName': '', 'HusbandName': 'ವಸಂತ', 'MotherName': '', 'num': 526}\n",
      "{'Name': 'ಸದಾಶಿವ ಲೋಹಾರ', 'FatherName': 'ದತ್ತು ೮', 'HusbandName': '', 'MotherName': '', 'num': 527}\n",
      "{'Name': 'ಗುಣಾಬಾಯಿ ಲೋಹಾರ', 'FatherName': '', 'HusbandName': 'ಸದಾಶಿವ', 'MotherName': '', 'num': 528}\n",
      "{'Name': 'ಲೋಹಾರ ಸಂದೀಪ', 'FatherName': 'ಸದಾಶಿವ ್', 'HusbandName': '', 'MotherName': '', 'num': 529}\n",
      "{'Name': 'ರವೀಂದ್ರ ಲೋಹಾರ', 'FatherName': 'ವಸಂತ', 'HusbandName': '', 'MotherName': '', 'num': 530}\n",
      "{'Name': 'ಜೋತಿರಾಮ ಪಾಟೀಲ', 'FatherName': 'ಗಣಪತಿ', 'HusbandName': '', 'MotherName': '', 'num': 531}\n",
      "{'Name': 'ಚಂದಾಬಾಯಿ ಪಾಟೀಲ', 'FatherName': '', 'HusbandName': 'ಜೋತಿರಾಮ', 'MotherName': '', 'num': 532}\n",
      "{'Name': 'ವಿಲಾಸ ಪಾಟೀಲ', 'FatherName': 'ಶಿವಗೊಂಡಾ', 'HusbandName': '', 'MotherName': '', 'num': 533}\n",
      "{'Name': 'ಕಲ್ಪನಾ ಪಾಟೀಲ', 'FatherName': '', 'HusbandName': 'ವಿಲಾಸ', 'MotherName': '', 'num': 534}\n",
      "{'Name': 'ಚೇತನ ಪಾಟೀಲ', 'FatherName': 'ವಿಲಾಸ', 'HusbandName': '', 'MotherName': '', 'num': 535}\n",
      "{'Name': 'ವಿಕಾಸ ಪಾಟೀಲ', 'FatherName': 'ವಿಲಾಸ', 'HusbandName': '', 'MotherName': '', 'num': 536}\n",
      "{'Name': 'ಅಕ್ಕಾತಾಯಿ ಶಿರೊಳೆ', 'FatherName': '', 'HusbandName': 'ಗುಂಡು', 'MotherName': '', 'num': 537}\n",
      "{'Name': 'ಸಂಜುತಾಯಿ ಶಿರೊಳೆ', 'FatherName': '', 'HusbandName': 'ಬಾಬುರಾವ', 'MotherName': '', 'num': 538}\n",
      "{'Name': 'ಸುಭಾಷ ತಿರೊಳೆ', 'FatherName': 'ಗುಂಡು ೮', 'HusbandName': '', 'MotherName': '', 'num': 539}\n"
     ]
    },
    {
     "data": {
      "application/vnd.jupyter.widget-view+json": {
       "model_id": "ab9538e524b84b6c908bb32fcf39d870",
       "version_major": 2,
       "version_minor": 0
      },
      "text/plain": [
       "interactive(children=(IntSlider(value=50, description='x', max=255, min=1), Output()), _dom_classes=('widget-i…"
      ]
     },
     "metadata": {},
     "output_type": "display_data"
    },
    {
     "name": "stdout",
     "output_type": "stream",
     "text": [
      "{'Name': 'ಸುವರ್ಣಶಿರೋಳೆ', 'FatherName': '', 'HusbandName': 'ಸುಭಾಷ', 'MotherName': '', 'num': 540}\n",
      "{'Name': 'ಬಾಬುರಾವ ಶಿರೊಳೆ', 'FatherName': 'ಗುಂಡು', 'HusbandName': '', 'MotherName': '', 'num': 541}\n",
      "{'Name': 'ಅಮೃತ ಶಿರೋಳೆ', 'FatherName': '', 'HusbandName': 'ಚಂದ್ರಕಾಂತ ಶಿರೋಳೆ', 'MotherName': '', 'num': 542}\n",
      "{'Name': 'ಯಶವಂತ ಶಿರೊಳೆ', 'FatherName': 'ಗುಂಡು', 'HusbandName': '', 'MotherName': '', 'num': 543}\n",
      "{'Name': 'ಕಲಾವತಿ ಶಿರೊಳೆ', 'FatherName': '', 'HusbandName': 'ಯಶವಂತ', 'MotherName': '', 'num': 544}\n",
      "{'Name': 'ಸಚಿನ ಶಿರೋಳೆ', 'FatherName': 'ಯಶವಂತ ೮', 'HusbandName': '', 'MotherName': '', 'num': 545}\n",
      "{'Name': 'ಸುಶೀಲಾ ಕಾಂಬಳೇ', 'FatherName': '', 'HusbandName': 'ನಿವೃತ್ತಿ', 'MotherName': '', 'num': 546}\n",
      "{'Name': 'ಪ್ರಮೀಳಾ ಕಾಂಬಳೆ ಗೆಂಡನ ಹೆಸರು  ವಿಶಾಲ', 'FatherName': '', 'HusbandName': '', 'MotherName': '', 'num': 547}\n",
      "{'Name': 'ಪಾಂಡುರಂಗ ಮಗದುಮ್', 'FatherName': 'ಆಕಾರಾಮ ಅ ಫ್', 'HusbandName': '', 'MotherName': '', 'num': 548}\n",
      "{'Name': 'ಮಾಲನ ಮಗದುಮ್', 'FatherName': '', 'HusbandName': 'ಪಾಂಡುರಂಗ', 'MotherName': '', 'num': 549}\n",
      "{'Name': 'ತಾನಾಜಿ ಮಗದುಮ್', 'FatherName': 'ಆಕಾರಾಮ', 'HusbandName': '', 'MotherName': '', 'num': 550}\n",
      "{'Name': 'ಕೃಷ್ಣಾತ ಮಗದುಮ್', 'FatherName': 'ಆಕಾರಾಮ', 'HusbandName': '', 'MotherName': '', 'num': 551}\n",
      "{'Name': 'ಇಂದುಮಗದುಮ್', 'FatherName': '', 'HusbandName': 'ಕೃಷ್ಣಾತ ॥', 'MotherName': '', 'num': 552}\n",
      "{'Name': 'ಶೀತಲ ಮಗದುವು', 'FatherName': '', 'HusbandName': 'ತಾನಾಜಿ', 'MotherName': '', 'num': 553}\n",
      "{'Name': 'ಗೋವಿಂದ ಮಗದುವು', 'FatherName': 'ಪಾಂಡುರಂಗ', 'HusbandName': '', 'MotherName': '', 'num': 554}\n",
      "{'Name': 'ಶಿವಾಜಿ ಮಗದುಮ', 'FatherName': 'ಕೃಷ್ಣಾತ', 'HusbandName': '', 'MotherName': '', 'num': 555}\n",
      "{'Name': 'ಯುವರಾಜ ಮಗದುವು', 'FatherName': 'ಪಾಂಡುರಂಗ', 'HusbandName': '', 'MotherName': '', 'num': 556}\n",
      "{'Name': 'ಬಾಳುತಿರವತ', 'FatherName': 'ಪುಂಡಲೀಕ ಲ್', 'HusbandName': '', 'MotherName': '', 'num': 557}\n",
      "{'Name': 'ಲಕ್ಷ್ಮೀ ತಿರವತ', 'FatherName': '', 'HusbandName': 'ಮಲಗೊಂಡಾ ೭', 'MotherName': '', 'num': 558}\n",
      "{'Name': 'ಶಾರಾಬಾಯಿ ತಿರವತ', 'FatherName': '', 'HusbandName': 'ಬಾಳು ಹ್', 'MotherName': '', 'num': 559}\n",
      "{'Name': 'ತಾನಾಜಿ ತೀರವತ', 'FatherName': 'ಮಲಗೊಂಡ', 'HusbandName': '', 'MotherName': '', 'num': 560}\n",
      "{'Name': 'ವೈಶಾಲಿ ತಿರವತ', 'FatherName': '', 'HusbandName': 'ತಾನಾಜಿ ಹ್', 'MotherName': '', 'num': 561}\n",
      "{'Name': 'ಸಂಭಾಜಿ ತಿರವತ', 'FatherName': 'ಮಲಗೊಂಡಾ ಗ ಇ', 'HusbandName': '', 'MotherName': '', 'num': 562}\n",
      "{'Name': 'ಕಾವೇರಿ ಪಾಟೀಲ', 'FatherName': '', 'HusbandName': 'ದೇವೆಂದ್ರ ಹ್', 'MotherName': '', 'num': 563}\n",
      "{'Name': 'ರುಕ್ಮಿಣಿ ನಲವಡೆ', 'FatherName': '', 'HusbandName': 'ರಾಮಚಂದ್ರ', 'MotherName': '', 'num': 564}\n",
      "{'Name': 'ಅಲಕಾ ನಲವಾಡೆ', 'FatherName': '', 'HusbandName': 'ಸದಾಶಿವ', 'MotherName': '', 'num': 565}\n",
      "{'Name': 'ಲಕ್ಷ್ಮಣ ನಲವಡೆ', 'FatherName': 'ರಾಮಚಂದ್ರ', 'HusbandName': '', 'MotherName': '', 'num': 566}\n",
      "{'Name': 'ರೇಖಾತಾಯಿ ನಲವಡೆ', 'FatherName': '', 'HusbandName': 'ಲಕ್ಷ್ಮಣ', 'MotherName': '', 'num': 567}\n",
      "{'Name': 'ಬಾಪು ನಲವಡೆ', 'FatherName': 'ಜೋತಿ', 'HusbandName': '', 'MotherName': '', 'num': 568}\n",
      "{'Name': 'ತಾತೋಬಾ ನಲವಡೆ', 'FatherName': 'ಜೋತಿ', 'HusbandName': '', 'MotherName': '', 'num': 569}\n"
     ]
    },
    {
     "data": {
      "application/vnd.jupyter.widget-view+json": {
       "model_id": "7273fc2887da4d8cbf9cd1f001b46f34",
       "version_major": 2,
       "version_minor": 0
      },
      "text/plain": [
       "interactive(children=(IntSlider(value=50, description='x', max=255, min=1), Output()), _dom_classes=('widget-i…"
      ]
     },
     "metadata": {},
     "output_type": "display_data"
    },
    {
     "name": "stdout",
     "output_type": "stream",
     "text": [
      "{'Name': 'ಸುಮನ ನಲ್ಲವಡೆ', 'FatherName': '', 'HusbandName': 'ತಾರ್ತೊಬಾ', 'MotherName': '', 'num': 570}\n",
      "{'Name': 'ಅನೀಲ ನಲವಡೆ', 'FatherName': 'ಬಾಪು', 'HusbandName': '', 'MotherName': '', 'num': 571}\n",
      "{'Name': 'ಸೋನಾಲಿ ನಲವಡೆ', 'FatherName': 'ತಾತ್ಕೊಬಾ', 'HusbandName': '', 'MotherName': '', 'num': 572}\n",
      "{'Name': 'ಶಿವಾಜಿ ಪಾಟೀಲ', 'FatherName': 'ತುಕಾರಾಮ ೯', 'HusbandName': '', 'MotherName': '', 'num': 573}\n",
      "{'Name': 'ಸ್ವಷ್ನೀಲ ಮಗದುಮ್ಮ', 'FatherName': 'ಸಾವಬಾ ೭', 'HusbandName': '', 'MotherName': '', 'num': 574}\n",
      "{'Name': 'ಅಭಿಜೀತ ನಲವಡೆ', 'FatherName': 'ಮಹಾದೇವ ಲ್', 'HusbandName': '', 'MotherName': '', 'num': 575}\n",
      "{'Name': 'ಸೋನಾಬಾಯಿ ಮಗದುಮ್ಮ', 'FatherName': '', 'HusbandName': 'ಪಾಂಡುರಂಗ', 'MotherName': '', 'num': 576}\n",
      "{'Name': 'ಪುತಳಾಬಾಯಿ ನಲವಡೆ', 'FatherName': '', 'HusbandName': 'ಬಾಳಕೃಷ್ಣ', 'MotherName': '', 'num': 577}\n",
      "{'Name': 'ಮಹಾದೇವ ನಲವಡೆ', 'FatherName': 'ಬಾಳಕೃಷ್ಣ', 'HusbandName': '', 'MotherName': '', 'num': 578}\n",
      "{'Name': 'ಸಾವಬಾ ಮಗದುಮ್', 'FatherName': 'ಪಾಂಡುರಂಗ', 'HusbandName': '', 'MotherName': '', 'num': 579}\n",
      "{'Name': 'ಸುರೇಖಾ ಮಗದುಮ', 'FatherName': '', 'HusbandName': 'ಸಾವಬಾ', 'MotherName': '', 'num': 580}\n",
      "{'Name': 'ವಂದನಾ ನಲವಡೆ', 'FatherName': '', 'HusbandName': 'ಮಹಾದೇವ', 'MotherName': '', 'num': 581}\n",
      "{'Name': 'ನೆಲವಡೆ ಸಂತೋಷ', 'FatherName': 'ರಾವಸೊ', 'HusbandName': '', 'MotherName': '', 'num': 582}\n",
      "{'Name': 'ಅಂಜನಾ ನಲವಡೆ', 'FatherName': '', 'HusbandName': 'ರಾವಸೊ', 'MotherName': '', 'num': 583}\n",
      "{'Name': 'ಶತ್ರುಘ್ನ ನಲ್ಲವಡೆ', 'FatherName': 'ರಾವಸೋ', 'HusbandName': '', 'MotherName': '', 'num': 584}\n",
      "{'Name': 'ಭರತ ನಲವಡೆ', 'FatherName': 'ರಾವಸೊ', 'HusbandName': '', 'MotherName': '', 'num': 585}\n",
      "{'Name': 'ರಾಮಚಂದ್ರ ನಲ್ಲವಡೆ', 'FatherName': 'ಭಾವು', 'HusbandName': '', 'MotherName': '', 'num': 586}\n",
      "{'Name': 'ಪದ್ಮಾವತಿ ನಲ್ಲವಡೆ', 'FatherName': '', 'HusbandName': 'ರಾಮಚಂದ್ರ', 'MotherName': '', 'num': 587}\n",
      "{'Name': 'ವಿಲಾಸ ಮಗದುಮ್', 'FatherName': 'ರಾಜಾರಾಮ', 'HusbandName': '', 'MotherName': '', 'num': 588}\n",
      "{'Name': 'ರಾಧಾಬಾಯಿ ಮಗದುಮ ಗೆಂಡನ ಹೆಸರು ವಿಲಾಸ', 'FatherName': '', 'HusbandName': '', 'MotherName': '', 'num': 589}\n",
      "{'Name': 'ವಂದನಾ ಮಗದುಮ್', 'FatherName': '', 'HusbandName': 'ಆನಂದರಾವ', 'MotherName': '', 'num': 590}\n",
      "{'Name': 'ನರಸಿಂಹ ಮಗದುಮ್', 'FatherName': 'ಅನಂದರಾವ', 'HusbandName': '', 'MotherName': '', 'num': 591}\n",
      "{'Name': 'ಸುಪ್ರಿಯಾ ಕುಂಬಾರೆ', 'FatherName': '', 'HusbandName': 'ವಿಜಯ', 'MotherName': '', 'num': 592}\n",
      "{'Name': 'ಹಾಸಾಬಾಯಿ ಕುಂಬಾರ', 'FatherName': '', 'HusbandName': 'ಕೇಶವ', 'MotherName': '', 'num': 593}\n",
      "{'Name': 'ವಿಜಯ ಕುಂಬಾರ', 'FatherName': 'ಕೇಶವ', 'HusbandName': '', 'MotherName': '', 'num': 594}\n",
      "{'Name': 'ವಿಷ್ಣು ಕುಂಬಾರ', 'FatherName': 'ಕೇದಾರಿ', 'HusbandName': '', 'MotherName': '', 'num': 595}\n",
      "{'Name': 'ರುಕ್ಮಿಣಿ ಕುಂಬಾರ', 'FatherName': '', 'HusbandName': 'ದಿಲೀಪ', 'MotherName': '', 'num': 596}\n",
      "{'Name': 'ಸುಜಾತಾ ಕುಂಬಾರ', 'FatherName': '', 'HusbandName': 'ದತ್ತಾತ್ರಯ', 'MotherName': '', 'num': 597}\n",
      "{'Name': 'ಧನಂಜಯ ಕುಂಭಾರ', 'FatherName': 'ದತ್ತಾತ್ರೇಯ   ಕುಂಭಾರ ಓ', 'HusbandName': '', 'MotherName': '', 'num': 598}\n",
      "{'Name': 'ಮದನ ವಾಸಕರ', 'FatherName': 'ಶಾಂತಾರಾಮ್  ವಾಸಕರ ಟೌ', 'HusbandName': '', 'MotherName': '', 'num': 599}\n"
     ]
    },
    {
     "data": {
      "application/vnd.jupyter.widget-view+json": {
       "model_id": "f1103f0627a44c64896548e1ed772ecc",
       "version_major": 2,
       "version_minor": 0
      },
      "text/plain": [
       "interactive(children=(IntSlider(value=50, description='x', max=255, min=1), Output()), _dom_classes=('widget-i…"
      ]
     },
     "metadata": {},
     "output_type": "display_data"
    },
    {
     "name": "stdout",
     "output_type": "stream",
     "text": [
      "{'Name': 'ವತ್ಸಲಾ ಕುಂಬಾರ', 'FatherName': '', 'HusbandName': 'ಬಾಳು', 'MotherName': '', 'num': 600}\n",
      "{'Name': 'ಮಹಾದೇವ ಕುಂಬಾರ', 'FatherName': 'ಬಾಳು', 'HusbandName': '', 'MotherName': '', 'num': 601}\n",
      "{'Name': 'ಮಾಧುರಿ ಕಂಬಾರ', 'FatherName': '', 'HusbandName': 'ಮಹಾದೇವ', 'MotherName': '', 'num': 602}\n",
      "{'Name': 'ಪ್ರಥಮೇಶ ಹುಂಭಾರ', 'FatherName': 'ಮಹಾದೇವ   ಕುಂಭಾರ ಓಂ', 'HusbandName': '', 'MotherName': '', 'num': 603}\n",
      "{'Name': 'ಬಬನ ಕುಂಬಾರ', 'FatherName': 'ಪರಸು', 'HusbandName': '', 'MotherName': '', 'num': 604}\n",
      "{'Name': 'ಅಂಬುಬಾಯಿ ಕುಂಬಾರ', 'FatherName': '', 'HusbandName': 'ಬಬನ', 'MotherName': '', 'num': 605}\n",
      "{'FatherName': '', 'HusbandName': 'ಸೋನಾಜಿ', 'MotherName': '', 'num': 606}\n",
      "{'Name': 'ವಿಷ್ಣು ಅಂಬೊಲೆ', 'FatherName': 'ಪುಂಡಲೀಕ', 'HusbandName': '', 'MotherName': '', 'num': 607}\n",
      "{'Name': 'ಸಂದೀಪಚಾಗಲೆ', 'FatherName': 'ಮಾರುತಿ', 'HusbandName': '', 'MotherName': '', 'num': 608}\n",
      "{'Name': 'ಸಕ್ಕುಬಾಯಿ ಚೌಗುಲೆ', 'FatherName': '', 'HusbandName': 'ಅಪ್ಪಾಸಾಹೇಬ', 'MotherName': '', 'num': 609}\n",
      "{'Name': 'ಮಾರುತಿ ಚೌಗುಲೆ', 'FatherName': 'ಪ್ರೆಂಡಲೀಕ', 'HusbandName': '', 'MotherName': '', 'num': 610}\n",
      "{'Name': 'ಸೋನಾಬಾಯಿ ಚಾಗುಲೆ', 'FatherName': '', 'HusbandName': 'ಮಾರುತಿ', 'MotherName': '', 'num': 611}\n",
      "{'Name': 'ಗಣಪತಿ ಚೌಗುಲೆ', 'FatherName': 'ಪ್ರೆಂಡಲೀಕ', 'HusbandName': '', 'MotherName': '', 'num': 612}\n",
      "{'Name': 'ಚಂಪಾಚಾಗುಲೆ', 'FatherName': '', 'HusbandName': 'ಗಣಪತಿ', 'MotherName': '', 'num': 613}\n",
      "{'Name': 'ಅನಿಲ ಚೌಗುಲೆ', 'FatherName': 'ಮಾರುತಿ', 'HusbandName': '', 'MotherName': '', 'num': 614}\n",
      "{'Name': 'ಸುನಿಲಚಾಗುಲೆ', 'FatherName': 'ಗಣಪತಿ', 'HusbandName': '', 'MotherName': '', 'num': 615}\n",
      "{'Name': 'ಚಂದ್ರಕಾಂತ ಚೌಗುಲೆ', 'FatherName': 'ಗಣಪತಿ', 'HusbandName': '', 'MotherName': '', 'num': 616}\n",
      "{'Name': 'ಮನಿಶಾಚೌಗಲೆ', 'FatherName': '', 'HusbandName': 'ಸುನೀಲ', 'MotherName': '', 'num': 617}\n",
      "{'Name': 'ಸೂರ್ಯಕಾಂತ ಚೌಗುಲೆ', 'FatherName': 'ಗಣಪತಿ', 'HusbandName': '', 'MotherName': '', 'num': 618}\n",
      "{'Name': 'ಗೋರಕನಾಥ ಚೌಗುಲೆ', 'FatherName': 'ಅಪ್ಪಾಸಾಹೇಬ', 'HusbandName': '', 'MotherName': '', 'num': 619}\n",
      "{'Name': 'ರಾಮಚಂದ್ರ ಮಾನೆ', 'FatherName': 'ಗೋವಿಂದ', 'HusbandName': '', 'MotherName': '', 'num': 620}\n",
      "{'Name': 'ತಾನಾಜೀ ಚವ್ಹಾಣ', 'FatherName': 'ಸದಾಶಿವ', 'HusbandName': '', 'MotherName': '', 'num': 621}\n",
      "{'Name': 'ಸರೀತಾ ಚವ್ಹಾಣ', 'FatherName': '', 'HusbandName': 'ತಾನಾಜೀ', 'MotherName': '', 'num': 622}\n",
      "{'Name': 'ನಿಶಾಂತ ಮಾನೆ', 'FatherName': 'ರಾಮಚಂದ್ರ', 'HusbandName': '', 'MotherName': '', 'num': 623}\n",
      "{'Name': 'ಸೌರಭ ಚವ್ಹಾಣ', 'FatherName': 'ತಾನಾಜಿ', 'HusbandName': '', 'MotherName': '', 'num': 624}\n",
      "{'Name': 'ದಿಗಂಬರ ಪಾಟೀಲ', 'FatherName': 'ಹರಿ', 'HusbandName': '', 'MotherName': '', 'num': 625}\n",
      "{'Name': 'ಸೂರ್ಯಪ್ರಭಾ ಮಗದುಮ್', 'FatherName': '', 'HusbandName': 'ವಸಂತ', 'MotherName': '', 'num': 626}\n",
      "{'Name': 'ಲಿಲಾತಾಯಿ ಮಾನೆ', 'FatherName': '', 'HusbandName': 'ಜಯಸಿಂಹ', 'MotherName': '', 'num': 627}\n",
      "{'Name': 'ಶಶಿಕಾಂತ ಮಾನೆ', 'FatherName': 'ಜಯಸಿಂಹ ೯ ್', 'HusbandName': '', 'MotherName': '', 'num': 628}\n",
      "{'Name': 'ಸೊರ್ಯಕಾಂತ ಮಾನೆ', 'FatherName': 'ಜಯಸಿಂಹ ಲ್', 'HusbandName': '', 'MotherName': '', 'num': 629}\n"
     ]
    },
    {
     "data": {
      "application/vnd.jupyter.widget-view+json": {
       "model_id": "e0dedd98c0384e2582b352a8558b1d4f",
       "version_major": 2,
       "version_minor": 0
      },
      "text/plain": [
       "interactive(children=(IntSlider(value=50, description='x', max=255, min=1), Output()), _dom_classes=('widget-i…"
      ]
     },
     "metadata": {},
     "output_type": "display_data"
    },
    {
     "name": "stdout",
     "output_type": "stream",
     "text": [
      "{'Name': 'ಚತುರ ಮಾನೆ', 'FatherName': 'ಜಯಸಿಂಹ ೭', 'HusbandName': '', 'MotherName': '', 'num': 630}\n",
      "{'Name': 'ಕಾಂಚನ ಮಾನೆ', 'FatherName': '', 'HusbandName': 'ಚತುರ', 'MotherName': '', 'num': 631}\n",
      "{'Name': 'ರಾಜಶ್ರೀ ಮಾನೆ', 'FatherName': '', 'HusbandName': 'ಶಶಿಕಾಂತ', 'MotherName': '', 'num': 632}\n",
      "{'Name': 'ಸುಮಾ ಮಾನೇ', 'FatherName': '', 'HusbandName': 'ಸುರ್ಕಾಂತ', 'MotherName': '', 'num': 633}\n",
      "{'FatherName': 'ಶಶಿಕಾಂತ ಮಾನೆ. |', 'HusbandName': '', 'MotherName': '', 'num': 634}\n",
      "{'Name': 'ಭರತ ಮಾನೆ', 'FatherName': 'ಗುಂಡೋಜಿರಾವ ಲ್', 'HusbandName': '', 'MotherName': '', 'num': 635}\n",
      "{'Name': 'ದಮಯಂತಿ ಮಾನೆ', 'FatherName': '', 'HusbandName': 'ಭರತ', 'MotherName': '', 'num': 636}\n",
      "{'Name': 'ಪ್ರದೀಪ ಮಾನೆ', 'FatherName': 'ಭರತ', 'HusbandName': '', 'MotherName': '', 'num': 637}\n",
      "{'Name': 'ಶಿವಾಜಿ ಪಾಟೀಲ', 'FatherName': 'ಪುಂಡಲೀಕ', 'HusbandName': '', 'MotherName': '', 'num': 638}\n",
      "{'Name': 'ಸುನೀತಾ ಪಾಟೀಲ', 'FatherName': '', 'HusbandName': 'ಶಿವಾಜಿ', 'MotherName': '', 'num': 639}\n",
      "{'Name': 'ಹರಿ ಪಾಟೀಲ', 'FatherName': 'ಪುಂಡಲೀಕ', 'HusbandName': '', 'MotherName': '', 'num': 640}\n",
      "{'Name': 'ಕುಸಮ ಪಾಟೀಲ', 'FatherName': '', 'HusbandName': 'ಪುಂಡಲೀಕ', 'MotherName': '', 'num': 641}\n",
      "{'Name': 'ವಿನುತಾಯಿ ಪಾಟೀಲ', 'FatherName': '', 'HusbandName': 'ಹರಿ', 'MotherName': '', 'num': 642}\n",
      "{'Name': 'ಸುಚಾತ ಮಾನೆ', 'FatherName': '', 'HusbandName': 'ಪ್ರದೀಪ', 'MotherName': '', 'num': 643}\n",
      "{'Name': 'ಸಖಾರಾಮ ಪಾಟೀಲ', 'FatherName': 'ದತ್ತು', 'HusbandName': '', 'MotherName': '', 'num': 644}\n",
      "{'Name': 'ಸುಶೀಲಾ ಪಾಟೀಲ', 'FatherName': '', 'HusbandName': 'ಸಖಾರಾಮ', 'MotherName': '', 'num': 645}\n",
      "{'Name': 'ದಿಲೀಪ ಪಾಟೀಲ', 'FatherName': 'ಸಕಾರಾಮ', 'HusbandName': '', 'MotherName': '', 'num': 646}\n",
      "{'Name': 'ವೈಶಾಲಿ ಪಾಟೀಲ', 'FatherName': '', 'HusbandName': 'ದೀಲಿಪ ೮', 'MotherName': '', 'num': 647}\n",
      "{'Name': 'ಸಂತೋಷ ತಿರೋಳೆ', 'FatherName': 'ಕೇಶವ', 'HusbandName': '', 'MotherName': '', 'num': 648}\n",
      "{'Name': 'ಸಾಗರ ಪಾಟೀಲ', 'FatherName': 'ಸಖಾರಾಮ', 'HusbandName': '', 'MotherName': '', 'num': 649}\n",
      "{'Name': 'ಅಕ್ಕಾತಾಯಿ ಶೇಲಕೆ', 'FatherName': '', 'HusbandName': 'ಮಾರುತಿ', 'MotherName': '', 'num': 650}\n",
      "{'Name': 'ರೂಪಾಲಿ ಕಾಂಬಳೆ', 'FatherName': '', 'HusbandName': 'ಆಕಾಶ ೯ ಇ', 'MotherName': '', 'num': 651}\n",
      "{'Name': 'ಮಹಾದೇವ ಪಾಟೀಲ', 'FatherName': 'ದತ್ತು', 'HusbandName': '', 'MotherName': '', 'num': 652}\n",
      "{'Name': 'ವಿಮಲ ಪಾಟೀಲ', 'FatherName': '', 'HusbandName': 'ಮಹಾದೇವ', 'MotherName': '', 'num': 653}\n",
      "{'Name': 'ರಂಜೀತ ಪಾಟೀಲ', 'FatherName': 'ಮಹಾದೇವ ೯', 'HusbandName': '', 'MotherName': '', 'num': 654}\n",
      "{'Name': 'ಅಕ್ಕಾತಾಯಿ ಪಾಟೀಲ', 'FatherName': '', 'HusbandName': 'ರಾಮಗೊಂಡಾ', 'MotherName': '', 'num': 655}\n",
      "{'Name': 'ಬಾಬಾಸೊ ಪಾಟೀಲ', 'FatherName': 'ರಾಮಗೊಂಡಾ', 'HusbandName': '', 'MotherName': '', 'num': 656}\n",
      "{'Name': 'ಸುನಿತಾ ಪಾಟೀಲ', 'FatherName': '', 'HusbandName': 'ಬಾಬಾಸೊ', 'MotherName': '', 'num': 657}\n",
      "{'Name': 'ದಾಮೋದರ ಶೇಳಕಿ', 'FatherName': 'ದತ್ತು', 'HusbandName': '', 'MotherName': '', 'num': 658}\n",
      "{'Name': 'ಮಾಲತಿ ಶೇಳಕೆ', 'FatherName': '', 'HusbandName': 'ದಾಮೋದರ', 'MotherName': '', 'num': 659}\n"
     ]
    },
    {
     "data": {
      "application/vnd.jupyter.widget-view+json": {
       "model_id": "5f761b619ad74698b06626e22bb43f57",
       "version_major": 2,
       "version_minor": 0
      },
      "text/plain": [
       "interactive(children=(IntSlider(value=50, description='x', max=255, min=1), Output()), _dom_classes=('widget-i…"
      ]
     },
     "metadata": {},
     "output_type": "display_data"
    },
    {
     "name": "stdout",
     "output_type": "stream",
     "text": [
      "{'Name': 'ಮಾಧವಿ ಖೋತ', 'FatherName': '', 'HusbandName': 'ಸುಭಾಷ', 'MotherName': '', 'num': 660}\n",
      "{'Name': 'ಸುನೀತಾ ಕಾಂಬಳೆ', 'FatherName': '', 'HusbandName': 'ಮಲ್ಲೇಶ', 'MotherName': '', 'num': 661}\n",
      "{'Name': 'ಚಂದ್ರಭಾಗಾ ಶೇಳಕೆ', 'FatherName': '', 'HusbandName': 'ಗುಂಡು', 'MotherName': '', 'num': 662}\n",
      "{'Name': 'ವಿನೋದ ಶೇಳಕೆ', 'FatherName': 'ಗುಂಡು', 'HusbandName': '', 'MotherName': '', 'num': 663}\n",
      "{'Name': 'ಆಷಿಷ ಶೆಳಕೆ', 'FatherName': 'ಗುಂಡು ೭', 'HusbandName': '', 'MotherName': '', 'num': 664}\n",
      "{'Name': 'ರಾಹುಲ ಮಗದುವು', 'FatherName': 'ದೇವಗೌಡಾ ೯ ಲ್', 'HusbandName': '', 'MotherName': '', 'num': 665}\n",
      "{'Name': 'ಸುಮನ ಪಾಟೀಲ', 'FatherName': '', 'HusbandName': 'ಸದಾಶಿವ', 'MotherName': '', 'num': 666}\n",
      "{'FatherName': 'ಸದಾಶಿವ', 'HusbandName': '', 'MotherName': '', 'num': 667}\n",
      "{'Name': 'ಭಾಗೇಶ ಪಾಟೀಲ', 'FatherName': 'ಸದಾಶಿವ', 'HusbandName': '', 'MotherName': '', 'num': 668}\n",
      "{'Name': 'ಜ್ಯೋತಿ ಪಾಟೀಲ', 'FatherName': '', 'HusbandName': 'ಭಾಗೇಶ', 'MotherName': '', 'num': 669}\n",
      "{'Name': 'ಶಾಂತಾಬಾಯಿ ಚಾಗುಲೆ', 'FatherName': '', 'HusbandName': 'ರಾಜಾರಾಮ', 'MotherName': '', 'num': 670}\n",
      "{'Name': 'ಸಂಜಯ ಚಾೌಗುಲೆ', 'FatherName': 'ರಾಜಾರಾಮ', 'HusbandName': '', 'MotherName': '', 'num': 671}\n",
      "{'Name': 'ಉಜ್ವಲಾ ಚೌಗುಲೆ', 'FatherName': '', 'HusbandName': 'ಸಂಜಯ ೭', 'MotherName': '', 'num': 672}\n",
      "{'Name': 'ಮಹಾದೇವ ಚಾಗುಲೆ', 'FatherName': 'ರಾಜಾರಾಮ', 'HusbandName': '', 'MotherName': '', 'num': 673}\n",
      "{'Name': 'ಭಾಗ್ಯಶ್ರೀ ಚೌಗುಲೆ', 'FatherName': '', 'HusbandName': 'ಮಹಾದೇವ', 'MotherName': '', 'num': 674}\n",
      "{'Name': 'ಪ್ರವೀಣ ಕಾಂಬಳೆ', 'FatherName': 'ದತ್ತಾತ್ರೆಯ', 'HusbandName': '', 'MotherName': '', 'num': 675}\n",
      "{'Name': 'ವಿಶಾಲ ಕಾಂಬಳೆ', 'FatherName': 'ದತ್ತಾತ್ರಯ ೭', 'HusbandName': '', 'MotherName': '', 'num': 676}\n",
      "{'Name': 'ಸುಶೀಲಾ ಸುತ್ವಾರ', 'FatherName': '', 'HusbandName': 'ಸದಾಶಿವ “ಟ್', 'MotherName': '', 'num': 677}\n",
      "{'Name': 'ಜನಾಬಾಯಿ ಲೋಹಾರ', 'FatherName': '', 'HusbandName': 'ರಾಮಾ', 'MotherName': '', 'num': 678}\n",
      "{'Name': 'ಬೇಬಿ ಲೋಹಾರ', 'FatherName': '', 'HusbandName': 'ಮಾರುತಿ', 'MotherName': '', 'num': 679}\n",
      "{'FatherName': 'ಸದಾಶಿವ', 'HusbandName': '', 'MotherName': '', 'num': 680}\n",
      "{'Name': 'ತುಳಸಿದಾಸ ಸುತಾರ', 'FatherName': 'ಸದಾಶಿವ', 'HusbandName': '', 'MotherName': '', 'num': 681}\n",
      "{'Name': 'ರಾಜೇಂದ್ರ ಲೋಹಾರ', 'FatherName': 'ರಾಮಚಂದ್ರ', 'HusbandName': '', 'MotherName': '', 'num': 682}\n",
      "{'Name': 'ಸಾಗರ ಲೊಹಾರ', 'FatherName': 'ರಾಮಚಂದ್ರ', 'HusbandName': '', 'MotherName': '', 'num': 683}\n",
      "{'Name': 'ಸಾರಿಕಾಲೋಹಾರ', 'FatherName': '', 'HusbandName': 'ರಾಜೇಂದ್ರ', 'MotherName': '', 'num': 684}\n",
      "{'Name': 'ಮನೀಶಾ ಲೋಹಾರ', 'FatherName': '', 'HusbandName': 'ಸಾಗರ ಲೋಹಾರ ೮', 'MotherName': '', 'num': 685}\n",
      "{'Name': 'ಸಿದ್ದಪ್ಪಾ ಘಾಟಗೆ', 'FatherName': 'ಸದಾಶಿವ', 'HusbandName': '', 'MotherName': '', 'num': 686}\n",
      "{'Name': 'ರೂತೀರಕೇಷ ಸುತಾರ', 'FatherName': 'ಪ್ರಕಾಷ ಸುತಾರ', 'HusbandName': '', 'MotherName': '', 'num': 687}\n",
      "{'Name': 'ರಿತೆಶ', 'FatherName': 'ಮರುತಿ ಪೋವರ್', 'HusbandName': '', 'MotherName': '', 'num': 688}\n",
      "{'Name': 'ಸಂಜೀವಿನಿ ಪೊವಾರ', 'FatherName': '', 'HusbandName': 'ರಾಜಾರಾಮ', 'MotherName': '', 'num': 689}\n"
     ]
    },
    {
     "data": {
      "application/vnd.jupyter.widget-view+json": {
       "model_id": "2d50eac7c630480ebe45e7f81fabaaa0",
       "version_major": 2,
       "version_minor": 0
      },
      "text/plain": [
       "interactive(children=(IntSlider(value=50, description='x', max=255, min=1), Output()), _dom_classes=('widget-i…"
      ]
     },
     "metadata": {},
     "output_type": "display_data"
    },
    {
     "name": "stdout",
     "output_type": "stream",
     "text": [
      "{'Name': 'ಸೀತಾರಾಮ ಪೊವಾರ', 'FatherName': 'ಶಂಕರ', 'HusbandName': '', 'MotherName': '', 'num': 690}\n",
      "{'Name': 'ಭಾಗೀರಥಿ ಪೊವಾರ ಗೆಂಡನ ಹೆಸರು  ಸೀತಾರಾಮ', 'FatherName': '', 'HusbandName': '', 'MotherName': '', 'num': 691}\n",
      "{'Name': 'ತೇಜಶ್ರೀ ಪೋವಾರ', 'FatherName': '', 'HusbandName': 'ಚಂದ್ರಕಾಂತ', 'MotherName': '', 'num': 692}\n",
      "{'Name': 'ಬಾಳಕೃಷ್ಣ ಪೊವಾರ', 'FatherName': 'ತುಕಾರಾಮ', 'HusbandName': '', 'MotherName': '', 'num': 693}\n",
      "{'Name': 'ನಿವೃತ್ತಿ ಪೊವಾರ', 'FatherName': 'ತುಕಾರಾಮ', 'HusbandName': '', 'MotherName': '', 'num': 694}\n",
      "{'Name': 'ಶಾಂತಾಬಾಯಿ ಪೊವಾರ', 'FatherName': '', 'HusbandName': 'ಬಾಳಕೃಷ್ಣ', 'MotherName': '', 'num': 695}\n",
      "{'Name': 'ಸುಶೀಲಾ ಪೊವಾರ', 'FatherName': '', 'HusbandName': 'ನಿವೃತ್ತಿ', 'MotherName': '', 'num': 696}\n",
      "{'Name': 'ಸಯಾಜಿ ಪೊವಾರ', 'FatherName': 'ನಿವೃತ್ತಿ ೭', 'HusbandName': '', 'MotherName': '', 'num': 697}\n",
      "{'Name': 'ಅಮರ ಪೊವಾರ್', 'FatherName': 'ಬಾಳಾಸೋ', 'HusbandName': '', 'MotherName': '', 'num': 698}\n",
      "{'Name': 'ಪೂನಂ ಪೋವಾರ', 'FatherName': '', 'HusbandName': 'ಅಮರ ಪೋವಾರ', 'MotherName': '', 'num': 699}\n",
      "{'Name': 'ಸುಚಾತಾ ಕಂಬಳೆ', 'FatherName': '', 'HusbandName': 'ದಶರಥ', 'MotherName': '', 'num': 700}\n",
      "{'Name': 'ಆರತಿ ಪೋವಾರ', 'FatherName': 'ಶಿವಾಜಿ', 'HusbandName': '', 'MotherName': '', 'num': 701}\n",
      "{'Name': 'ಭಾಗೀರಥಿ ಪಾಟೀಲ', 'FatherName': '', 'HusbandName': 'ಸಂಬಾಜಿ', 'MotherName': '', 'num': 702}\n",
      "{'Name': 'ಸುಭಾಷ ಪಾಟಿಲ', 'FatherName': 'ಸಂಭಾಜಿ', 'HusbandName': '', 'MotherName': '', 'num': 703}\n",
      "{'Name': 'ರೂಪಾಲಿ ಪಾಟೀಲ', 'FatherName': '', 'HusbandName': 'ಸುಭಾಷ', 'MotherName': '', 'num': 704}\n",
      "{'Name': 'ರತ್ನಾಬಾಯಿ ಪೊವಾರ', 'FatherName': '', 'HusbandName': 'ದತ್ತು', 'MotherName': '', 'num': 705}\n",
      "{'Name': 'ವಿಲಾಸ ಪೊವಾರ', 'FatherName': 'ದತ್ತು', 'HusbandName': '', 'MotherName': '', 'num': 706}\n",
      "{'Name': 'ಅಕ್ಕಾತಾಯಿ ಪೊವಾರ', 'FatherName': '', 'HusbandName': 'ವಿಲಾಸ', 'MotherName': '', 'num': 707}\n",
      "{'Name': 'ಗೀತಾಬಾಯಿ ಪೊವಾರ', 'FatherName': '', 'HusbandName': 'ಶಿವಾಜಿ ಹ್', 'MotherName': '', 'num': 708}\n",
      "{'Name': 'ನಂದಕುಮಾರ ಪೋವಾರ', 'FatherName': 'ವಿಲಾಸ', 'HusbandName': '', 'MotherName': '', 'num': 709}\n",
      "{'Name': 'ಬಾಳು ಪೊವಾರ', 'FatherName': 'ಪರಶುರಾಮ', 'HusbandName': '', 'MotherName': '', 'num': 710}\n",
      "{'Name': 'ಮಲಗೊಂಡಾ ಪೊವಾರ', 'FatherName': 'ಪರಶುರಾಮ', 'HusbandName': '', 'MotherName': '', 'num': 711}\n",
      "{'Name': 'ಸುವರ್ಣಾ ಪೊವಾರ', 'FatherName': '', 'HusbandName': 'ಮಲಗೊಂಡಾ', 'MotherName': '', 'num': 712}\n",
      "{'Name': 'ಮಹಾದೇವಿ ಪೊವಾರ', 'FatherName': '', 'HusbandName': 'ಬಾಳು', 'MotherName': '', 'num': 713}\n",
      "{'Name': 'ಪ್ರದೀಪ ಪೊವಾರ್', 'FatherName': 'ಮಲಗೊಂಡಾ ೯', 'HusbandName': '', 'MotherName': '', 'num': 714}\n",
      "{'Name': 'ವಸಂತ ಪೊವಾರ', 'FatherName': 'ಧೊಂಡಿಬಾ', 'HusbandName': '', 'MotherName': '', 'num': 715}\n",
      "{'Name': 'ಸುವರ್ಣಾ ಪೊವಾರ', 'FatherName': '', 'HusbandName': 'ವಸಂತ', 'MotherName': '', 'num': 716}\n",
      "{'Name': 'ವಿಲಾಸ ಪೋವಾರ', 'FatherName': 'ವಸಂತ', 'HusbandName': '', 'MotherName': '', 'num': 717}\n",
      "{'Name': 'ಅನುಬಾಯಿ ಮರ್ದಾನೆ', 'FatherName': '', 'HusbandName': 'ಹರಿ', 'MotherName': '', 'num': 718}\n",
      "{'Name': 'ಆನಂದಾ ಮರ್ದಾನೆ', 'FatherName': 'ಹರಿ ಗಬಐ', 'HusbandName': '', 'MotherName': '', 'num': 719}\n"
     ]
    },
    {
     "data": {
      "application/vnd.jupyter.widget-view+json": {
       "model_id": "66429cff8c50437e83d085d51f70eded",
       "version_major": 2,
       "version_minor": 0
      },
      "text/plain": [
       "interactive(children=(IntSlider(value=50, description='x', max=255, min=1), Output()), _dom_classes=('widget-i…"
      ]
     },
     "metadata": {},
     "output_type": "display_data"
    },
    {
     "name": "stdout",
     "output_type": "stream",
     "text": [
      "{'Name': 'ಮಂಗೆಲ ಮರ್ದಾನೆ', 'FatherName': '', 'HusbandName': 'ರಾಮಚಂದ್ರ', 'MotherName': '', 'num': 720}\n",
      "{'Name': 'ಭಾರತಿ ಮರ್ದಾನೆ', 'FatherName': '', 'HusbandName': 'ಆನಂದ', 'MotherName': '', 'num': 721}\n",
      "{'Name': 'ರಾಮಚಂದ್ರ ಮರ್ದಾನೆ', 'FatherName': 'ಹರಿ', 'HusbandName': '', 'MotherName': '', 'num': 722}\n",
      "{'Name': 'ಹೇಮಂತ ಮರ್ದಾನೆ', 'FatherName': 'ರಾಮಚಂದ್ರ', 'HusbandName': '', 'MotherName': '', 'num': 723}\n",
      "{'Name': 'ಅತುಲ ಮರ್ದಾನೆ', 'FatherName': 'ಆನಂದ', 'HusbandName': '', 'MotherName': '', 'num': 724}\n",
      "{'Name': 'ರಂಜನಾ ಕಾಂಬಳೆ', 'FatherName': '', 'HusbandName': 'ಮಹಾದೇವ ೯ ಲ್', 'MotherName': '', 'num': 725}\n",
      "{'Name': 'ಶಿವಾಜಿ ಅಂಬೋಲೆ', 'FatherName': 'ಗುಂಡು', 'HusbandName': '', 'MotherName': '', 'num': 726}\n",
      "{'Name': 'ಸಂಗ್ರಾಮ ಪೋವಾರ', 'FatherName': 'ಸದಾಶಿವ', 'HusbandName': '', 'MotherName': '', 'num': 727}\n",
      "{'Name': 'ಅಜಿತ ತಿರಾವತ', 'FatherName': 'ಬಾಳಾಸೋ', 'HusbandName': '', 'MotherName': '', 'num': 728}\n",
      "{'Name': 'ರಾಹುಲ ಪವಾರ', 'FatherName': 'ರವಿಂದ್ರ ಹ್', 'HusbandName': '', 'MotherName': '', 'num': 729}\n",
      "{'Name': 'ಕರೀಶ್ಮಾ ಕಾಂಬಳೆ', 'FatherName': '', 'HusbandName': 'ರಂಜೀತ', 'MotherName': '', 'num': 730}\n",
      "{'Name': 'ಅಕ್ಷಯ ಪವಾರ', 'FatherName': 'ಬಾಳೆ', 'HusbandName': '', 'MotherName': '', 'num': 731}\n",
      "{'Name': 'ಕೆಂಚಪ್ಪಾ ಭಿಂಗರೆ', 'FatherName': 'ವಿಠ್ಠಲ', 'HusbandName': '', 'MotherName': '', 'num': 732}\n",
      "{'Name': 'ಸುನೀತಾ ಪೊವಾರ', 'FatherName': '', 'HusbandName': 'ಸಾಯಾಜಿ', 'MotherName': '', 'num': 733}\n",
      "{'Name': 'ಧನಶ್ರೀ ಮಗದುಮ್ಮ', 'FatherName': 'ಯುವರಾಜ ೭', 'HusbandName': '', 'MotherName': '', 'num': 734}\n",
      "{'Name': 'ಕೃಷ್ಣಾತ ಪೋವಾರ', 'FatherName': 'ಬಾಳಕೃಷ್ಣ ಪೋವಾರ | ವ', 'HusbandName': '', 'MotherName': '', 'num': 735}\n",
      "{'Name': 'ಪಿಂಕುತಾಯಿ ಕಾಂಬಳೆ', 'FatherName': '', 'HusbandName': 'ಮಹಾದೇವ', 'MotherName': '', 'num': 736}\n",
      "{'Name': 'ಮಹೇಶ ವಿಠೆ', 'FatherName': 'ಬಬನ', 'HusbandName': '', 'MotherName': '', 'num': 737}\n",
      "{'Name': 'ಅಕ್ಷಯ ಕುಪಟೆ', 'FatherName': 'ಬಚಾರಾಮ', 'HusbandName': '', 'MotherName': '', 'num': 738}\n",
      "{'Name': 'ಕಾಜಲ ಕಾಂಬಳೆ', 'FatherName': '', 'HusbandName': 'ಗುರುಪ್ರಸಾದ', 'MotherName': '', 'num': 739}\n",
      "{'Name': 'ಮೀನಾಕ್ಷಿ ಕಾಂಬಳೆ', 'FatherName': '', 'HusbandName': 'ರವೀಂದ್ರ', 'MotherName': '', 'num': 740}\n",
      "{'Name': 'ಮಾಧುರಿ ಕಾಂಬಳೆ', 'FatherName': '', 'HusbandName': 'ಶಿವಾಜಿ', 'MotherName': '', 'num': 741}\n",
      "{'Name': 'ಸತೀಶ ಕಾಂಬಳೆ', 'FatherName': 'ಅಪ್ಪಾಸೊ ಹ್', 'HusbandName': '', 'MotherName': '', 'num': 742}\n",
      "{'Name': 'ಮಾಯಾ ಕಾಂಬಳೆ', 'FatherName': '', 'HusbandName': 'ಸತೀಶ ಕಾಂಬಳೆ ಅ ಲ್', 'MotherName': '', 'num': 743}\n",
      "{'Name': 'ನಿಖಿಲ ಕಾಂಬಳೆ', 'FatherName': 'ಭಾಗವಾನ', 'HusbandName': '', 'MotherName': '', 'num': 744}\n",
      "{'Name': 'ಪೂನಮ ಕಾಂಬಳೆ', 'FatherName': '', 'HusbandName': 'ಸತೀಶ', 'MotherName': '', 'num': 745}\n",
      "{'Name': 'ಭಗವಾನ ಕಾಂಬಳೆ', 'FatherName': 'ಬಾಳು', 'HusbandName': '', 'MotherName': '', 'num': 746}\n",
      "{'Name': 'ರೂಪಾಲಿ ಕಾಂಬಳೆ', 'FatherName': '', 'HusbandName': 'ಜಗದೀಶ', 'MotherName': '', 'num': 747}\n",
      "{'Name': 'ಪ್ರೀತಮ ಕಾಂಬಳೆ', 'FatherName': 'ಚಂದ್ರಕಾಂತ ಕಾಂಬಳೆ! ವ್ಲ್ರ', 'HusbandName': '', 'MotherName': '', 'num': 748}\n",
      "{'Name': 'ವಿಶಾಲ ಕಾಂಬಳೆ', 'FatherName': 'ತುಳಸಿದಾಸೆ', 'HusbandName': '', 'MotherName': '', 'num': 749}\n"
     ]
    },
    {
     "data": {
      "application/vnd.jupyter.widget-view+json": {
       "model_id": "09893da26b3f467d8c7f9776c84a7eeb",
       "version_major": 2,
       "version_minor": 0
      },
      "text/plain": [
       "interactive(children=(IntSlider(value=50, description='x', max=255, min=1), Output()), _dom_classes=('widget-i…"
      ]
     },
     "metadata": {},
     "output_type": "display_data"
    },
    {
     "name": "stdout",
     "output_type": "stream",
     "text": [
      "{'Name': 'ವೈಶಾಲಿ ಕಾಂಬಳೆ', 'FatherName': '', 'HusbandName': 'ಭಜರಂಗ', 'MotherName': '', 'num': 750}\n",
      "{'Name': 'ಅಮೃತ ಕಾಂಬಲೆ', 'FatherName': 'ಸಂಜಯ', 'HusbandName': '', 'MotherName': '', 'num': 751}\n",
      "{'Name': 'ಸನ್ನಿ ಕಾಂಬಳೆ', 'FatherName': 'ಬಾಬಾಸೊ', 'HusbandName': '', 'MotherName': '', 'num': 752}\n",
      "{'Name': 'ವೈಭವ ಕಾಂಬಲೇ', 'FatherName': 'ನಾರಾಯಣ', 'HusbandName': '', 'MotherName': '', 'num': 753}\n",
      "{'Name': 'ಕವೀತಾ ಕಾಂಬಳೆ', 'FatherName': 'ಜೋತಿರಾಮ', 'HusbandName': '', 'MotherName': '', 'num': 754}\n",
      "{'Name': 'ಪ್ರಮೋದ ಕಾಂಬಳೆ', 'FatherName': 'ಗಣಪತಿ ೯ ಲ್', 'HusbandName': '', 'MotherName': '', 'num': 755}\n",
      "{'Name': 'ಶೈಲಾ ಕಾಂಬಳೆ', 'FatherName': 'ಗಣಪತಿ', 'HusbandName': '', 'MotherName': '', 'num': 756}\n",
      "{'Name': 'ರೂಪಾಲಿ ಕಾಂಬಳೆ', 'FatherName': '', 'HusbandName': 'ಬಾಗೇಶ', 'MotherName': '', 'num': 757}\n",
      "{'Name': 'ಕಾಂಬಳೆಮೋಹನ', 'FatherName': 'ಕಾಶಿನಾಥ', 'HusbandName': '', 'MotherName': '', 'num': 758}\n",
      "{'Name': 'ವೈಭವ ಕಾಂಬಳೆ', 'FatherName': 'ಬಾಬಾಸೋ', 'HusbandName': '', 'MotherName': '', 'num': 759}\n",
      "{'Name': 'ಶಾರದಾ ಕಾಂಬಳೆ', 'FatherName': '', 'HusbandName': 'ಭೀಮರಾವ', 'MotherName': '', 'num': 760}\n",
      "{'Name': 'ಶುಭಾಂಗಿ ಕಾಂಬಳೆ', 'FatherName': '', 'HusbandName': 'ಸತ್ತೆಪ್ಪಾ', 'MotherName': '', 'num': 761}\n",
      "{'Name': 'ಕರಣ ಕಾಂಬಳೆ', 'FatherName': 'ಜನಾರ್ಧನ ಟ್', 'HusbandName': '', 'MotherName': '', 'num': 762}\n",
      "{'Name': 'ಪೂಜಾ ಕಾಂಬಳೆ', 'FatherName': 'ಜನಾರ್ಧನ', 'HusbandName': '', 'MotherName': '', 'num': 763}\n",
      "{'Name': 'ದಿಗ್ವಿಜಯ ಕಾಂಬಳೆ', 'FatherName': 'ದೀಲಿಪ', 'HusbandName': '', 'MotherName': '', 'num': 764}\n",
      "{'Name': 'ಸಾತಪ್ಪಾ ಕಾಂಬಳೆ', 'FatherName': 'ಶಾಮರಾವ', 'HusbandName': '', 'MotherName': '', 'num': 765}\n",
      "{'Name': 'ಉಜ್ವಲಾ ಕಾಂಬಳೆ', 'FatherName': '', 'HusbandName': 'ಜಿತೇಂದ್ರ', 'MotherName': '', 'num': 766}\n",
      "{'Name': 'ಮಾಧುರಿ ಕಾಂಬಳೆ', 'FatherName': '', 'HusbandName': 'ಲಲಿತಕುಮಾರ ಲ್', 'MotherName': '', 'num': 767}\n",
      "{'Name': 'ಲಿಲತಕುಮಾರೆ ಕಾಂಬಳೆ', 'FatherName': 'ಮಹಾದೇವ ೭', 'HusbandName': '', 'MotherName': '', 'num': 768}\n",
      "{'Name': 'ಸ್ವಾತಿ ಕಾಂಬಳೆ', 'FatherName': '', 'HusbandName': 'ಸಾಗರೆ', 'MotherName': '', 'num': 769}\n",
      "{'Name': 'ಅಶ್ವಿನಿ', 'FatherName': '', 'HusbandName': 'ಅಜಿತ ನಲವಡೇ', 'MotherName': '', 'num': 770}\n",
      "{'Name': 'ಅಮರ ನಲವಡೆ', 'FatherName': 'ಸದಾಶಿವ', 'HusbandName': '', 'MotherName': '', 'num': 771}\n",
      "{'Name': 'ಓಂಕಾರ ಕಾಂಬಳೆ', 'FatherName': 'ಕೃಷ್ಣಾತ', 'HusbandName': '', 'MotherName': '', 'num': 772}\n",
      "{'Name': 'ಅತುಲ ಕಾಂಬಳೆ', 'FatherName': 'ಗೋವಿಂದ', 'HusbandName': '', 'MotherName': '', 'num': 773}\n",
      "{'Name': 'ರಣಜೀತ ಕಾಂಬಳೆ', 'FatherName': 'ಗೋವಿಂದ', 'HusbandName': '', 'MotherName': '', 'num': 774}\n",
      "{'Name': 'ರೇಷ್ಮಾ ಕಾಂಬಳೆ', 'FatherName': 'ಚಂದ್ರಕಾಂತ', 'HusbandName': '', 'MotherName': '', 'num': 775}\n",
      "{'Name': 'ರವೀಂದ್ರ ಕಾಂಬಳೆ', 'FatherName': 'ಪ್ರಕಾಶ', 'HusbandName': '', 'MotherName': '', 'num': 776}\n",
      "{'Name': 'ದೀಪಾಲಿ ಕಾಂಬಳೆ', 'FatherName': '', 'HusbandName': 'ಶಿಕಂದರ', 'MotherName': '', 'num': 777}\n",
      "{'Name': 'ದತ್ತಾತ್ರೇಯ ಪೊವಾರ', 'FatherName': 'ದಾದಾಸೊ', 'HusbandName': '', 'MotherName': '', 'num': 778}\n",
      "{'Name': 'ಸ್ನೇಹಲ ಕಾಂಬಳೆ', 'FatherName': 'ದೀಪಕ', 'HusbandName': '', 'MotherName': '', 'num': 779}\n"
     ]
    },
    {
     "data": {
      "application/vnd.jupyter.widget-view+json": {
       "model_id": "50954ee351884da2a12bec3e9f992d74",
       "version_major": 2,
       "version_minor": 0
      },
      "text/plain": [
       "interactive(children=(IntSlider(value=50, description='x', max=255, min=1), Output()), _dom_classes=('widget-i…"
      ]
     },
     "metadata": {},
     "output_type": "display_data"
    },
    {
     "name": "stdout",
     "output_type": "stream",
     "text": [
      "{'Name': 'ನಾನುಬಾಯಿ ಕಾಂಬಳೆ', 'FatherName': '', 'HusbandName': 'ಅನಂದ', 'MotherName': '', 'num': 780}\n",
      "{'Name': 'ಬುದ್ದಮ ಕಾಂಬಳೆ', 'FatherName': 'ಬಾಪು ೭', 'HusbandName': '', 'MotherName': '', 'num': 781}\n",
      "{'Name': 'ಅತುಲ ಕಾಂಬಳೆ', 'FatherName': 'ವಿನಾಯಕ', 'HusbandName': '', 'MotherName': '', 'num': 782}\n",
      "{'Name': 'ಅಮೂಲ ಕಾಂಬಳೆ', 'FatherName': 'ದಿಲೀಪ', 'HusbandName': '', 'MotherName': '', 'num': 783}\n",
      "{'Name': 'ಅಂಕುಶ ಕಾಂಬಳೆ', 'FatherName': 'ದಿಲೀಪ', 'HusbandName': '', 'MotherName': '', 'num': 784}\n",
      "{'Name': 'ಸುಪ್ರೀಯಾ ಕಾಂಬಳೆ', 'FatherName': '', 'HusbandName': 'ಅಜೀತ', 'MotherName': '', 'num': 785}\n",
      "{'Name': 'ಮಹಾದೇವ ಕಾಂಬಳೆ', 'FatherName': 'ಶಿವಾಜಿ ॥', 'HusbandName': '', 'MotherName': '', 'num': 786}\n",
      "{'Name': 'ಶಕ್ತಿ ಕಾಂಬಳೆ', 'FatherName': 'ಅಶೋಕ', 'HusbandName': '', 'MotherName': '', 'num': 787}\n",
      "{'Name': 'ಮನಿಷಾ ಕಾಂಬಳೆ', 'FatherName': '', 'HusbandName': 'ಭೀಕಾಜಿ', 'MotherName': '', 'num': 788}\n",
      "{'Name': 'ಜ್ಯೋತಿ ಕಾಂಬಳೆ', 'FatherName': '', 'HusbandName': 'ಶಕ್ತಿ ಕಾಂಬಳೆ', 'MotherName': '', 'num': 789}\n",
      "{'Name': 'ಮಂಜುಳಾಬಾಯಿ ಕಾಂಬಳೆ', 'FatherName': '', 'HusbandName': 'ವಿಷ್ಣು', 'MotherName': '', 'num': 790}\n",
      "{'Name': 'ಕಾಂಬಳೆ ಬಾವುಸೊ', 'FatherName': 'ಬಾಳು', 'HusbandName': '', 'MotherName': '', 'num': 791}\n",
      "{'Name': 'ಪ್ರದೀಪ ಕಾಂಬಳೆ', 'FatherName': 'ಸಕಾರಾಮ ಟ್', 'HusbandName': '', 'MotherName': '', 'num': 792}\n",
      "{'Name': 'ಪ್ರತಾಪ ಕಾಂಬಳೆ', 'FatherName': 'ಸಖಾರಾಮ', 'HusbandName': '', 'MotherName': '', 'num': 793}\n",
      "{'Name': 'ಗಾಗೇಶ ಕಾಂಬಲೇ', 'FatherName': 'ಸರದಾರ', 'HusbandName': '', 'MotherName': '', 'num': 794}\n",
      "{'Name': 'ಸಂತೋಷ ಕಾಂಬಳೆ', 'FatherName': 'ಪುಂಡಲೀಕ ]', 'HusbandName': '', 'MotherName': '', 'num': 795}\n",
      "{'Name': 'ಮಹೇಶ ವಿಭೂತೆ', 'FatherName': 'ದೀನಕರ', 'HusbandName': '', 'MotherName': '', 'num': 796}\n",
      "{'Name': 'ಅಮೀತ ವಿಭೂತೆ', 'FatherName': 'ಪ್ರಭಾಕರ “ಟ್', 'HusbandName': '', 'MotherName': '', 'num': 797}\n",
      "{'Name': 'ಕುಮಾರ ಕಾಂಬಳೆ', 'FatherName': 'ಅಶೋಕ', 'HusbandName': '', 'MotherName': '', 'num': 798}\n",
      "{'Name': 'ರಾಹುಲ ಕಾಂಬಳೆ', 'FatherName': 'ಅಶೋಕ', 'HusbandName': '', 'MotherName': '', 'num': 799}\n",
      "{'Name': 'ವಸಂತ ಕಾಂಬಳೆ', 'FatherName': 'ಸೆಂಜು', 'HusbandName': '', 'MotherName': '', 'num': 800}\n",
      "{'Name': 'ಪ್ರಾಜಕತ ಪಾಟೀಲ', 'FatherName': 'ಶಂಕರ [', 'HusbandName': '', 'MotherName': '', 'num': 801}\n",
      "{'Name': 'ನಾಗೇಶ ಪಾಟೀಲ', 'FatherName': 'ಹರಿ', 'HusbandName': '', 'MotherName': '', 'num': 802}\n",
      "{'Name': 'ಅಂಕೀತಾ ಕಾಂಬಲೇ', 'FatherName': 'ಕೀರಣ', 'HusbandName': '', 'MotherName': '', 'num': 803}\n",
      "{'Name': 'ಶ್ರೀನಾಥ ಮಗದುಮ್ಮ', 'FatherName': 'ಲೇಮನ', 'HusbandName': '', 'MotherName': '', 'num': 804}\n",
      "{'Name': 'ಅಶ್ವಿನಿ ಕಾಂಬಳೆ', 'FatherName': 'ಕೇಶವ ಕಾಂಬಳೆ   ಸ  ವಯಸ್ಸು  ಲಿಂಗ  ಹೆಣ್ಣು', 'HusbandName': '', 'MotherName': '', 'num': 805}\n",
      "{'Name': 'ಅನುರಾಧಾ ಕಾಂಬಳೆ', 'FatherName': '', 'HusbandName': 'ಅವಿನಾಷ ಕಾಂಬಳೆ', 'MotherName': '', 'num': 806}\n",
      "{'Name': 'ಸತ್ಯನಾರಾಯಣ ಪೊವಾರ', 'FatherName': 'ಸದಾಶೀವ ಪೊಡಾರ | ಲ್ಲ', 'HusbandName': '', 'MotherName': '', 'num': 807}\n",
      "{'Name': 'ಓಂಕಾರ ಪಾಟೀಲ', 'FatherName': 'ಶಂಕರ', 'HusbandName': '', 'MotherName': '', 'num': 808}\n",
      "{'Name': 'ರೋಹಿಣಿ ವನೆರೆ', 'FatherName': '', 'HusbandName': 'ಪ್ರಮೋದ', 'MotherName': '', 'num': 809}\n"
     ]
    },
    {
     "data": {
      "application/vnd.jupyter.widget-view+json": {
       "model_id": "7975ffb99a1e46268585df91a285f0bf",
       "version_major": 2,
       "version_minor": 0
      },
      "text/plain": [
       "interactive(children=(IntSlider(value=50, description='x', max=255, min=1), Output()), _dom_classes=('widget-i…"
      ]
     },
     "metadata": {},
     "output_type": "display_data"
    },
    {
     "name": "stdout",
     "output_type": "stream",
     "text": [
      "{'Name': 'ಸುಪ್ರೀಯಾ ಮಾನೆ', 'FatherName': 'ಅರ್ಜುನ', 'HusbandName': '', 'MotherName': '', 'num': 810}\n",
      "{'Name': 'ಅನಿತಾ ಕಾಂಬಳೆ', 'FatherName': '', 'HusbandName': 'ರವೀಂದ್ರ', 'MotherName': '', 'num': 811}\n",
      "{'Name': 'ವಿದ್ಯಾ ನಲವಡೆ', 'FatherName': '', 'HusbandName': 'ಭರತ', 'MotherName': '', 'num': 812}\n",
      "{'Name': 'ಪೂಜಾ ಫೋವಾರ', 'FatherName': 'ಉತ್ತಮ', 'HusbandName': '', 'MotherName': '', 'num': 813}\n",
      "{'Name': 'ಅನುರಾಧಾ ಕಾಂಬಳೆ', 'FatherName': 'ಲಕ್ಷ್ಮಣ ಕಾಂಬಳೆ', 'HusbandName': '', 'MotherName': '', 'num': 814}\n"
     ]
    },
    {
     "data": {
      "application/vnd.jupyter.widget-view+json": {
       "model_id": "55968fbfdbad46b69b5d60480584e960",
       "version_major": 2,
       "version_minor": 0
      },
      "text/plain": [
       "interactive(children=(IntSlider(value=50, description='x', max=255, min=1), Output()), _dom_classes=('widget-i…"
      ]
     },
     "metadata": {},
     "output_type": "display_data"
    },
    {
     "name": "stdout",
     "output_type": "stream",
     "text": [
      "{'Name': 'ಯುವರಾಜ ಲೋಹಾರ', 'FatherName': 'ಬಾಳಾಸೋ ಟ್', 'HusbandName': '', 'MotherName': '', 'num': 815}\n",
      "{'Name': 'ಸೌರಭ ಪೋವಾರ', 'FatherName': 'ಆನಂದಾ', 'HusbandName': '', 'MotherName': '', 'num': 816}\n",
      "{'Name': 'ಪ್ರಕಾಶ ಕಾಂಬಳೆ', 'FatherName': 'ರಾಜಾರಾಮ', 'HusbandName': '', 'MotherName': '', 'num': 817}\n",
      "{'Name': 'ರಾಜುಮಗದುಮ್ಮ', 'FatherName': 'ಮಹಾದೇವ ೯  ಮಗದುಮ್ಮ ಓಂ', 'HusbandName': '', 'MotherName': '', 'num': 818}\n",
      "{'Name': 'ಆರತಿ ಪಾಟೀಲ', 'FatherName': '', 'HusbandName': 'ಪ್ರವೀಣ  ಇ', 'MotherName': '', 'num': 819}\n",
      "{'Name': 'ರೋಹನ ಮಗದುಮ್ಮ', 'FatherName': 'ಮನೋಹರ ಲ್', 'HusbandName': '', 'MotherName': '', 'num': 820}\n",
      "{'Name': 'ಆತ್ಮಾರಾಮ ಪಾಟೀಲ', 'FatherName': 'ಪಾಂಡುರಂಗ ೭', 'HusbandName': '', 'MotherName': '', 'num': 821}\n",
      "{'Name': 'ಕಮಲ ಪಾಟೀಲ', 'FatherName': '', 'HusbandName': 'ಆತ್ಮಾರಾಮ', 'MotherName': '', 'num': 822}\n",
      "{'Name': 'ಸೀತಾರಾಮ ಪಾಟೀಲ', 'FatherName': 'ಪಾಂಡುರಂಗ', 'HusbandName': '', 'MotherName': '', 'num': 823}\n",
      "{'Name': 'ಸಮರ್ಜಿತ್ ನಲವಡೇ', 'FatherName': 'ಮಹದೇವ್ ಹ್ ನಲವಡೇ ಹಗ', 'HusbandName': '', 'MotherName': '', 'num': 824}\n",
      "{'Name': 'ಮಂಜುಳಾ', 'FatherName': '', 'HusbandName': 'ಸಚಿನ್ ಮಗದೂಮ ಟ್', 'MotherName': '', 'num': 825}\n",
      "{'Name': 'ತ್ವಿನಕಲ', 'FatherName': 'ಕಿರಣ್ ಕಾಮ್ಬಲೇ', 'HusbandName': '', 'MotherName': '', 'num': 826}\n"
     ]
    },
    {
     "data": {
      "application/vnd.jupyter.widget-view+json": {
       "model_id": "dbd100f1ec7041859b6191d8c1761f98",
       "version_major": 2,
       "version_minor": 0
      },
      "text/plain": [
       "interactive(children=(IntSlider(value=50, description='x', max=255, min=1), Output()), _dom_classes=('widget-i…"
      ]
     },
     "metadata": {},
     "output_type": "display_data"
    },
    {
     "name": "stdout",
     "output_type": "stream",
     "text": [
      "{'Name': 'ಬಾಬುರಾವ ಮಗದುವು', 'FatherName': 'ಖಂಡು', 'HusbandName': '', 'MotherName': '', 'num': 827}\n",
      "{'Name': 'ವಸಂತ ಮಗದುವು', 'FatherName': 'ಖಂಡು', 'HusbandName': '', 'MotherName': '', 'num': 828}\n",
      "{'Name': 'ಭಾಗೇಶ ಮಗದುವು', 'FatherName': 'ಬಾಬುರಾವ', 'HusbandName': '', 'MotherName': '', 'num': 829}\n",
      "{'Name': 'ಉಮೇಶ ಮಗದುಮ', 'FatherName': 'ಕೃಷ್ಣಾತ', 'HusbandName': '', 'MotherName': '', 'num': 830}\n",
      "{'Name': 'ಪ್ರೀತಮಕುಮಾರ ಮಗದುವು', 'FatherName': 'ಬಾಬುರಾವ', 'HusbandName': '', 'MotherName': '', 'num': 831}\n",
      "{'Name': 'ರೇವತಿ ಕಾಂಬಳೆ', 'FatherName': '', 'HusbandName': 'ರವಿಂದ್ರ', 'MotherName': '', 'num': 832}\n",
      "{'Name': 'ಮಧುರಾಚಾಗಲೆ', 'FatherName': '', 'HusbandName': 'ಸಂದೀಪ', 'MotherName': '', 'num': 833}\n",
      "{'Name': 'ಮಹೇಶ ಪೊವಾರ', 'FatherName': 'ಶಿವಾಜಿ ೭', 'HusbandName': '', 'MotherName': '', 'num': 834}\n",
      "{'Name': 'ಸನ್ಕೇಟ', 'FatherName': 'ಸುರೀಶ ಕಾಮ್ಬಲೇ ೌ್', 'HusbandName': '', 'MotherName': '', 'num': 835}\n"
     ]
    },
    {
     "data": {
      "application/vnd.jupyter.widget-view+json": {
       "model_id": "0319b8e2e5f54f3bb759ec787fb91cf9",
       "version_major": 2,
       "version_minor": 0
      },
      "text/plain": [
       "interactive(children=(IntSlider(value=50, description='x', max=255, min=1), Output()), _dom_classes=('widget-i…"
      ]
     },
     "metadata": {},
     "output_type": "display_data"
    },
    {
     "name": "stdout",
     "output_type": "stream",
     "text": [
      "{'Name': 'ಗೀತಾ ಕುಂಬಾರ', 'FatherName': '', 'HusbandName': 'ಜಯವಂತ ಟ್', 'MotherName': '', 'num': 836}\n",
      "{'Name': 'ಯುವರಾಜ ಕಾಂಬಳೆ', 'FatherName': 'ಬಾಬುರಾವ', 'HusbandName': '', 'MotherName': '', 'num': 837}\n",
      "{'Name': 'ಕುಮಾರ್ ತಾನಾಜೀ ತಿರುವತ ತಿರುವತ', 'FatherName': 'ತಾನಾಜೀ', 'HusbandName': '', 'MotherName': '', 'num': 838}\n",
      "{'Name': 'ವೀನಾಶ್ರೀ ಮಗದೂಮ', 'FatherName': '', 'HusbandName': 'ದತ್ವಾತ್ರಯ್  ಮಗದೂಮ ಓಡ', 'MotherName': '', 'num': 839}\n",
      "{'Name': 'ರಾಜಾರಾಮ ಗುರವ', 'FatherName': 'ಸುಖದೇವ ಅ ಫ್', 'HusbandName': '', 'MotherName': '', 'num': 840}\n",
      "{'Name': 'ಅನಂಜಯ ಕಾಂಬಳೆ', 'FatherName': 'ಗಣಪತಿ ಕಾಂಬಳೆ ಲ್', 'HusbandName': '', 'MotherName': '', 'num': 841}\n",
      "{'Name': 'ಮಾಧುರಿ ಯುವರಾಜ ಕಾಂಬಳೆ ಕಾಂಬಳೆ   ಇತರೆ ಸಂಬಂಧಿಯ ಹೆಸರು ಹಗ ಯುವರಾಜ್', 'FatherName': '', 'HusbandName': '', 'MotherName': '', 'num': 842}\n",
      "{'Name': 'ಸುಮನ ಕಾಂಬಳೆ ಗೆಂಡನ ಹೆಸರು  ವಿಲಾಸ', 'FatherName': '', 'HusbandName': '', 'MotherName': '', 'num': 843}\n",
      "{'Name': 'ಮಹಾದೇವ ಕಾಂಬಳೆ', 'FatherName': 'ವಿಲಾಸ ಅ ಫ್', 'HusbandName': '', 'MotherName': '', 'num': 844}\n",
      "{'Name': 'ಅಪ್ಪಾಸೊಕಾಂಬಳೆ', 'FatherName': 'ಲಹು ೯ ಇ', 'HusbandName': '', 'MotherName': '', 'num': 845}\n",
      "{'Name': 'ಸಾತಾಬಾಯಿ ಕಾಂಬಳೆ', 'FatherName': '', 'HusbandName': 'ಅಪ್ಪಾಸೊ', 'MotherName': '', 'num': 846}\n",
      "{'Name': 'ಅತೀಶ ಕಾಂಬಳೆ', 'FatherName': 'ದಿನಕರ', 'HusbandName': '', 'MotherName': '', 'num': 847}\n",
      "{'Name': 'ಕರುಣಾ ಕಾಂಬಳೆ', 'FatherName': '', 'HusbandName': 'ನಿವಾಸ', 'MotherName': '', 'num': 848}\n",
      "{'Name': 'ಗೋದಾಬಾಯಿ ಕಾಂಬಳೆ', 'FatherName': '', 'HusbandName': 'ತುಕಾರಾಮ', 'MotherName': '', 'num': 849}\n",
      "{'Name': 'ವಂದನಾ ಕಾಂಬಳೆ', 'FatherName': '', 'HusbandName': 'ಆನಂದಾ', 'MotherName': '', 'num': 850}\n",
      "{'Name': 'ರವೀಂದ್ರ ಕಾಂಬಳೆ', 'FatherName': 'ತುಕಾರಾಮ', 'HusbandName': '', 'MotherName': '', 'num': 851}\n",
      "{'Name': 'ಸತೀಶ ಕಾಂಬಳೆ', 'FatherName': 'ಆನಂದ', 'HusbandName': '', 'MotherName': '', 'num': 852}\n",
      "{'Name': 'ಕೇರಾಬಾಯಿ ವಿಟೇ', 'FatherName': '', 'HusbandName': 'ಬಾಳು', 'MotherName': '', 'num': 853}\n",
      "{'Name': 'ಲಕ್ಷ್ಮಣ ವಿಟೇ', 'FatherName': 'ಬಾಳು', 'HusbandName': '', 'MotherName': '', 'num': 854}\n",
      "{'Name': 'ಮಾಯಾ ವಿಟೇ', 'FatherName': '', 'HusbandName': 'ಲಕ್ಷ್ಮಣ', 'MotherName': '', 'num': 855}\n",
      "{'Name': 'ಅಲ್ಪನಾ ವಿಟೇ', 'FatherName': '', 'HusbandName': 'ಭಗವಾನ ೭', 'MotherName': '', 'num': 856}\n",
      "{'Name': 'ವಿಶ್ವನಾಥ ಕಾಂಬಳೆ', 'FatherName': 'ಶಿವಾಜಿ', 'HusbandName': '', 'MotherName': '', 'num': 857}\n",
      "{'Name': 'ಮಂಜುಳಾ ಕಾಂಬಳೆ', 'FatherName': '', 'HusbandName': 'ವಿಷ್ಣು', 'MotherName': '', 'num': 858}\n",
      "{'Name': 'ಶಿವಾಜಿ ಕಾಂಬಳೆ', 'FatherName': 'ವಿಷ್ಣು ೭', 'HusbandName': '', 'MotherName': '', 'num': 859}\n",
      "{'Name': 'ಮಹಾದೇವ ವಿಟೇ', 'FatherName': 'ದಾದು', 'HusbandName': '', 'MotherName': '', 'num': 860}\n",
      "{'Name': 'ಸುಮನ ವಿಟೇ', 'FatherName': '', 'HusbandName': 'ಮಹಾದೇವ', 'MotherName': '', 'num': 861}\n",
      "{'Name': 'ರಾಜೇಂದ್ರ ವಿಟೇ', 'FatherName': 'ಮಹಾದೇವ ಲ್', 'HusbandName': '', 'MotherName': '', 'num': 862}\n",
      "{'Name': 'ಜ್ಯೋತಿ ವಿಟೆ', 'FatherName': '', 'HusbandName': 'ರಾಜಾರಾಮ', 'MotherName': '', 'num': 863}\n",
      "{'Name': 'ದತ್ತಾತ್ರಯ ಕಾಂಬಳೆ', 'FatherName': 'ಪಾಂಡುರಂಗ', 'HusbandName': '', 'MotherName': '', 'num': 864}\n",
      "{'Name': 'ಅಕ್ಕಾತಾಯಿ ಕಾಂಬಳೆ', 'FatherName': '', 'HusbandName': 'ದತ್ತಾತ್ರಯ', 'MotherName': '', 'num': 865}\n"
     ]
    },
    {
     "data": {
      "application/vnd.jupyter.widget-view+json": {
       "model_id": "678b9e78a6c64564a582bd19414e185b",
       "version_major": 2,
       "version_minor": 0
      },
      "text/plain": [
       "interactive(children=(IntSlider(value=50, description='x', max=255, min=1), Output()), _dom_classes=('widget-i…"
      ]
     },
     "metadata": {},
     "output_type": "display_data"
    },
    {
     "name": "stdout",
     "output_type": "stream",
     "text": [
      "{'Name': 'ನೇತಾಜಿ ಕಾಂಬಳೆ', 'FatherName': 'ಪಾಂಡುರಂಗ ಐ', 'HusbandName': '', 'MotherName': '', 'num': 866}\n",
      "{'Name': 'ಮಂಗಲಾತಾಯಿ ಕಾಂಬಳೆ', 'FatherName': '', 'HusbandName': 'ನೇತಾಜಿ', 'MotherName': '', 'num': 867}\n",
      "{'Name': 'ವತ್ಸಲಾಬಾಯಿ ಕಾಂಬಳೆ', 'FatherName': '', 'HusbandName': 'ದೇವಾಪ್ಪಾ', 'MotherName': '', 'num': 868}\n",
      "{'Name': 'ಚಂದ್ರಕಾಂತ ಕಾಂಬಳೆ', 'FatherName': 'ದೇವಾಪ್ಪಾ ೭', 'HusbandName': '', 'MotherName': '', 'num': 869}\n",
      "{'Name': 'ಜಗದೀಶ ಕಾಂಬಳೆ', 'FatherName': 'ದೇವಾಪ್ಪಾ ೭', 'HusbandName': '', 'MotherName': '', 'num': 870}\n",
      "{'Name': 'ತುಳಸಿದಾಸ ಕಾಂಬಳೆ', 'FatherName': 'ಶಿವಾಜಿ', 'HusbandName': '', 'MotherName': '', 'num': 871}\n",
      "{'Name': 'ಕಲ್ಪನಾ ಕಾಂಬಳೆ', 'FatherName': '', 'HusbandName': 'ತುಳಸಿದಾಸ ೭', 'MotherName': '', 'num': 872}\n",
      "{'Name': 'ದಾಮುಕಾಂಬಳೆ', 'FatherName': 'ದತ್ತು', 'HusbandName': '', 'MotherName': '', 'num': 873}\n",
      "{'Name': 'ಬಾಬಾಸೋ ಕಾಂಬಳೆ', 'FatherName': 'ದಾಮೋದರ ೭', 'HusbandName': '', 'MotherName': '', 'num': 874}\n",
      "{'Name': 'ಸರಸ್ವತಿ ಕಾಂಬಳೆ', 'FatherName': '', 'HusbandName': 'ದತ್ತು', 'MotherName': '', 'num': 875}\n",
      "{'Name': 'ಗೌತಮ ಕಾಂಬಳೆ', 'FatherName': 'ದಾಮು', 'HusbandName': '', 'MotherName': '', 'num': 876}\n",
      "{'Name': 'ಪುಷ್ಪಾತಾಯಿ ಕಾಂಬಳೆ', 'FatherName': '', 'HusbandName': 'ವಸಂತ ಅ ಫ್', 'MotherName': '', 'num': 877}\n",
      "{'Name': 'ಶಿವಾಜಿ ಕಾಂಬಳೆ', 'FatherName': 'ವಸಂತ', 'HusbandName': '', 'MotherName': '', 'num': 878}\n",
      "{'Name': 'ಭಜರಂಗ ಕಾಂಬಳೆ', 'FatherName': 'ವಸಂತ ೯', 'HusbandName': '', 'MotherName': '', 'num': 879}\n",
      "{'Name': 'ಅಶೋಕ ಕಾಂಬಳೆ', 'FatherName': 'ವಸಂತ', 'HusbandName': '', 'MotherName': '', 'num': 880}\n",
      "{'Name': 'ಛಾಯಾ ಕಾಂಬಳೆ', 'FatherName': '', 'HusbandName': 'ಅಶೋಕ', 'MotherName': '', 'num': 881}\n",
      "{'Name': 'ಅನೀಕೇತ ಕಾಂಬಳೆ', 'FatherName': 'ಅಶೋಕ', 'HusbandName': '', 'MotherName': '', 'num': 882}\n",
      "{'Name': 'ರೋಹನ ಕಾಂಬಳೆ', 'FatherName': 'ಭಗವಾನ', 'HusbandName': '', 'MotherName': '', 'num': 883}\n",
      "{'Name': 'ರಾಜಾರಾಮ ಶಿಂಗೆ', 'FatherName': 'ಬಾಬು', 'HusbandName': '', 'MotherName': '', 'num': 884}\n",
      "{'Name': 'ಸಂಗೀತಾ ಶಿಂಗೆ', 'FatherName': '', 'HusbandName': 'ಜನಾರ್ಧನ', 'MotherName': '', 'num': 885}\n",
      "{'Name': 'ಜಯಶ್ರೀ ಶಿಂಗೆ', 'FatherName': '', 'HusbandName': 'ರಾಜಾರಾಮ', 'MotherName': '', 'num': 886}\n",
      "{'Name': 'ಜನಾರ್ಧನ ಶಿಂಗೆ', 'FatherName': 'ಬಾಬು', 'HusbandName': '', 'MotherName': '', 'num': 887}\n",
      "{'Name': 'ಪಾಂಡುರಂಗ ಕಾಂಬಳೆ', 'FatherName': 'ಶಿವಪ್ಪ', 'HusbandName': '', 'MotherName': '', 'num': 888}\n",
      "{'Name': 'ವಿಠಾಬಾಯಿ ಕಾಂಬಳೆ', 'FatherName': '', 'HusbandName': 'ಪಾಂಡುರಂಗ ೭', 'MotherName': '', 'num': 889}\n",
      "{'Name': 'ಸಂಜಯ ಕಾಂಬಳೆ', 'FatherName': 'ವಿಷ್ಣು', 'HusbandName': '', 'MotherName': '', 'num': 890}\n",
      "{'Name': 'ಲಕ್ಷ್ಮೀ ಕಾಂಬಳೆ', 'FatherName': '', 'HusbandName': 'ಸಂಜಯ', 'MotherName': '', 'num': 891}\n",
      "{'Name': 'ಪ್ರಲ್ಹಾದ ಕಾಂಬಳೆ', 'FatherName': 'ಶಿವಾಜಿ', 'HusbandName': '', 'MotherName': '', 'num': 892}\n",
      "{'Name': 'ಅವುಬಾಯಿ ಕಾಂಬಳೆ', 'FatherName': '', 'HusbandName': 'ಪ್ರಲ್ಹಾದ', 'MotherName': '', 'num': 893}\n",
      "{'Name': 'ರಮೇಶ ಕಾಂಬಳೆ', 'FatherName': 'ಶಿವಾಜಿ', 'HusbandName': '', 'MotherName': '', 'num': 894}\n",
      "{'Name': 'ಸುರೇಶ ಕಾಂಬಳೆ', 'FatherName': 'ಶಿವಾಜಿ', 'HusbandName': '', 'MotherName': '', 'num': 895}\n"
     ]
    },
    {
     "data": {
      "application/vnd.jupyter.widget-view+json": {
       "model_id": "3ad74271460f481f9c07bd75879ea77a",
       "version_major": 2,
       "version_minor": 0
      },
      "text/plain": [
       "interactive(children=(IntSlider(value=50, description='x', max=255, min=1), Output()), _dom_classes=('widget-i…"
      ]
     },
     "metadata": {},
     "output_type": "display_data"
    },
    {
     "name": "stdout",
     "output_type": "stream",
     "text": [
      "{'Name': 'ಮಾಯಾವತಿ ಕಾಂಬಳೆ', 'FatherName': '', 'HusbandName': 'ರಮೇಶ', 'MotherName': '', 'num': 896}\n",
      "{'Name': 'ಇಂದುಬಾಯಿ ಕಾಂಬಳೆ', 'FatherName': '', 'HusbandName': 'ಸುರೇಶ', 'MotherName': '', 'num': 897}\n",
      "{'Name': 'ಕೃಷ್ಣಾತ ಕಾಂಬಳೆ', 'FatherName': 'ಶಂಕರ', 'HusbandName': '', 'MotherName': '', 'num': 898}\n",
      "{'Name': 'ಅಕ್ಕಾತಾಯಿ ಕಾಂಬಳೆ', 'FatherName': '', 'HusbandName': 'ಕೃಷ್ಣಾತ', 'MotherName': '', 'num': 899}\n",
      "{'Name': 'ವಸಂತ ಕಾಂಬಳೆ', 'FatherName': 'ಕೃಷ್ಣಾತ', 'HusbandName': '', 'MotherName': '', 'num': 900}\n",
      "{'Name': 'ವಿಜಯ ಕಾಂಬಳೆ', 'FatherName': 'ಕೃಷ್ಣಾತ', 'HusbandName': '', 'MotherName': '', 'num': 901}\n",
      "{'Name': 'ಬಾಳು ಕಾಂಬಳೆ', 'FatherName': 'ಗುಂಡು', 'HusbandName': '', 'MotherName': '', 'num': 902}\n",
      "{'Name': 'ಶಾಲನ ಕಾಂಬಳೆ', 'FatherName': '', 'HusbandName': 'ಬಾಳು', 'MotherName': '', 'num': 903}\n",
      "{'Name': 'ವಿಮಲ ಕಾಂಬಳೆ', 'FatherName': '', 'HusbandName': 'ಆನಂದಾ', 'MotherName': '', 'num': 904}\n",
      "{'Name': 'ಸಂಜಯ ಕಾಂಬಳೆ', 'FatherName': 'ಬಾಳು', 'HusbandName': '', 'MotherName': '', 'num': 905}\n",
      "{'Name': 'ರಾಜಾರಾಮ ಕಾಂಬಳೆ', 'FatherName': 'ಬಾಳು', 'HusbandName': '', 'MotherName': '', 'num': 906}\n",
      "{'Name': 'ಶೀತಲ ಕಾಂಬಳೆ', 'FatherName': '', 'HusbandName': 'ರಾಜಾರಾಮ ಕಾಂಬಳೆ | ಕ್ಲೂ', 'MotherName': '', 'num': 907}\n",
      "{'Name': 'ಆನಂದ ಕಾಂಬಳೆ', 'FatherName': 'ಗುಂಡು', 'HusbandName': '', 'MotherName': '', 'num': 908}\n",
      "{'Name': 'ಸಂಜಯ ಕಾಂಬಳೆ', 'FatherName': 'ವಿಷ್ಣು', 'HusbandName': '', 'MotherName': '', 'num': 909}\n",
      "{'Name': 'ಬಾಬಾಸೊಕಾಂಬಳೆ', 'FatherName': 'ಜಾನಬಾ', 'HusbandName': '', 'MotherName': '', 'num': 910}\n",
      "{'Name': 'ಕಲ್ಪನಾ ಕಾಂಬಳೆ', 'FatherName': '', 'HusbandName': 'ಬಾಬಾಸೊ', 'MotherName': '', 'num': 911}\n",
      "{'Name': 'ನಾರಾಯಣ ಕಾಂಬಳೆ', 'FatherName': 'ಭಾಸ್ಕರ', 'HusbandName': '', 'MotherName': '', 'num': 912}\n",
      "{'Name': 'ಸುಚಾತಾ ಕಾಂಬಳೆ', 'FatherName': '', 'HusbandName': 'ನಾರಾಯಣ ೮', 'MotherName': '', 'num': 913}\n",
      "{'Name': 'ಇಂದುಕಾಂಬಳೆ', 'FatherName': '', 'HusbandName': 'ವಸಂತ', 'MotherName': '', 'num': 914}\n",
      "{'Name': 'ಜೋತಿರಾಮ ಕಾಂಬಳೆ', 'FatherName': 'ವಸಂತ', 'HusbandName': '', 'MotherName': '', 'num': 915}\n",
      "{'Name': 'ರವೀಂದ್ರ ಕಾಂಬಳೆ', 'FatherName': 'ವಸಂತ', 'HusbandName': '', 'MotherName': '', 'num': 916}\n",
      "{'Name': 'ಯಮುನಾ ಕಾಂಬಳೆ', 'FatherName': '', 'HusbandName': 'ಖೀರಪ್ಪಾ ೭', 'MotherName': '', 'num': 917}\n",
      "{'Name': 'ದಗಡುಕಾಂಬಳೆ', 'FatherName': 'ಖೀರಪ್ಪಾ', 'HusbandName': '', 'MotherName': '', 'num': 918}\n",
      "{'Name': 'ಸಂಗೀತಾ ಕಾಂಬಳೆ', 'FatherName': '', 'HusbandName': 'ದಗಡು', 'MotherName': '', 'num': 919}\n",
      "{'Name': 'ರಾಮಾ ಕಾಂಬಳೆ', 'FatherName': 'ಭಾವು', 'HusbandName': '', 'MotherName': '', 'num': 920}\n",
      "{'Name': 'ಸುನಂದಾ ಕಾಂಬಳೆ', 'FatherName': '', 'HusbandName': 'ರಾಮಾ', 'MotherName': '', 'num': 921}\n",
      "{'Name': 'ಸಾತಾಬಾಯಿ ಕಾಂಬಳೆ', 'FatherName': '', 'HusbandName': 'ರಾಮಾ', 'MotherName': '', 'num': 922}\n",
      "{'Name': 'ಗಣಪತಿ ಕಾಂಬಳೆ', 'FatherName': 'ಸಂತರಾಮ', 'HusbandName': '', 'MotherName': '', 'num': 923}\n",
      "{'Name': 'ಲತಾ ಕಾಂಬಳೆ', 'FatherName': '', 'HusbandName': 'ಗಣಪತಿ', 'MotherName': '', 'num': 924}\n",
      "{'Name': 'ನಂದಾ ಕಾಂಬಳೆ', 'FatherName': '', 'HusbandName': 'ಸದು', 'MotherName': '', 'num': 925}\n"
     ]
    },
    {
     "data": {
      "application/vnd.jupyter.widget-view+json": {
       "model_id": "135277a70749428cadb33e3a24911aaf",
       "version_major": 2,
       "version_minor": 0
      },
      "text/plain": [
       "interactive(children=(IntSlider(value=50, description='x', max=255, min=1), Output()), _dom_classes=('widget-i…"
      ]
     },
     "metadata": {},
     "output_type": "display_data"
    },
    {
     "name": "stdout",
     "output_type": "stream",
     "text": [
      "{'Name': 'ಮಂಗಲ ಕಾಂಬಳೆ', 'FatherName': '', 'HusbandName': 'ಬಾಳು', 'MotherName': '', 'num': 926}\n",
      "{'Name': 'ಭಾಗ್ಯೇಶ ಕಾಂಬಳೆ', 'FatherName': 'ಬಾಳು', 'HusbandName': '', 'MotherName': '', 'num': 927}\n",
      "{'Name': 'ರಮೇಶ ಕಾಂಬಳೆ', 'FatherName': 'ಬಾಳು', 'HusbandName': '', 'MotherName': '', 'num': 928}\n",
      "{'Name': 'ಛಬುಕಾಂಬಳೆ', 'FatherName': '', 'HusbandName': 'ಬಳವಂತ', 'MotherName': '', 'num': 929}\n",
      "{'Name': 'ಬೇಬಿ ಕಾಂಬಳೆ', 'FatherName': '', 'HusbandName': 'ಮೋಹನ', 'MotherName': '', 'num': 930}\n",
      "{'Name': 'ಅಶೋಕ ಕಾಂಬಳೆ', 'FatherName': 'ಧೊಂಡಿರಾಮ ಲ್', 'HusbandName': '', 'MotherName': '', 'num': 931}\n",
      "{'Name': 'ಶಾಂತಾಬಾಯಿ ಕಾಂಬಳೆ', 'FatherName': '', 'HusbandName': 'ಅಶೋಕ', 'MotherName': '', 'num': 932}\n",
      "{'Name': 'ರಾಮದಾಸ ಕಾಂಬಳೆ', 'FatherName': 'ಅಶೋಕ', 'HusbandName': '', 'MotherName': '', 'num': 933}\n",
      "{'Name': 'ಹೌಸಾಬಾಯಿ ಕಾಂಬಳೆ', 'FatherName': '', 'HusbandName': 'ಬಾಜಿರಾವ', 'MotherName': '', 'num': 934}\n",
      "{'Name': 'ಬಾಬಾಸೊಕಾಂಬಳೆ', 'FatherName': 'ಬಾಜಿರಾವ', 'HusbandName': '', 'MotherName': '', 'num': 935}\n",
      "{'Name': 'ಛಬುತಾಯಿ ಕಾಂಬಳೆ', 'FatherName': '', 'HusbandName': 'ಸಾತಪ್ಪ', 'MotherName': '', 'num': 936}\n",
      "{'Name': 'ಪಾಂಡು ಕಾಂಬಳೆ', 'FatherName': 'ಧರ್ಮಾ ಅ ಫ್', 'HusbandName': '', 'MotherName': '', 'num': 937}\n",
      "{'Name': 'ಶಕುಂತಲಾ ಕಾಂಬಳೆ', 'FatherName': '', 'HusbandName': 'ಪಾಂಡು', 'MotherName': '', 'num': 938}\n",
      "{'Name': 'ಸಾತಪ್ಪಾ ಕಾಂಬಳೆ', 'FatherName': 'ಪಾಂಡುರಂಗ ೮', 'HusbandName': '', 'MotherName': '', 'num': 939}\n",
      "{'Name': 'ದಿಲೀಪ ಕಾಂಬಳೆ', 'FatherName': 'ದೇವಪ್ಪ', 'HusbandName': '', 'MotherName': '', 'num': 940}\n",
      "{'Name': 'ಆನಂದ ಕಾಂಬಳೆ', 'FatherName': 'ದೇವಪ್ಪ', 'HusbandName': '', 'MotherName': '', 'num': 941}\n",
      "{'Name': 'ಜನಾರ್ಧನ ಕಾಂಬಳೆ', 'FatherName': 'ದೇವಪ್ಪ', 'HusbandName': '', 'MotherName': '', 'num': 942}\n",
      "{'Name': 'ವಂದನಾ ಕಾಂಬಳೆ', 'FatherName': '', 'HusbandName': 'ದಿಲೀಪ ೮', 'MotherName': '', 'num': 943}\n",
      "{'Name': 'ರಾಧಾಬಾಯಿ ಕಾಂಬಳೆ', 'FatherName': '', 'HusbandName': 'ಜಾಲೆಂದರ', 'MotherName': '', 'num': 944}\n",
      "{'Name': 'ಕಲ್ಬನಾ ಕಾಂಬಳೆ', 'FatherName': '', 'HusbandName': 'ಜನಾರ್ಧನ', 'MotherName': '', 'num': 945}\n",
      "{'Name': 'ಸಂಗೀತಾ ಕಾಂಬಳೆ', 'FatherName': '', 'HusbandName': 'ಸಾತಪ್ಪಾ', 'MotherName': '', 'num': 946}\n",
      "{'Name': 'ಗಣಪತಿ ಕಾಂಬಳೆ', 'FatherName': 'ಧೊಂಡಿರಾಮ', 'HusbandName': '', 'MotherName': '', 'num': 947}\n",
      "{'Name': 'ಸರಿತಾ ಕಾಂಬಳೆ', 'FatherName': '', 'HusbandName': 'ಗಣಪತಿ', 'MotherName': '', 'num': 948}\n",
      "{'Name': 'ಗೀತಾಬಾಯಿ ಕಾಂಬಳೆ', 'FatherName': '', 'HusbandName': 'ದತ್ತಾತ್ರೇಯ', 'MotherName': '', 'num': 949}\n",
      "{'Name': 'ಸಿಂಧುಕಾಂಬಳೆ', 'FatherName': '', 'HusbandName': 'ಹಿಂದುರಾವ', 'MotherName': '', 'num': 950}\n",
      "{'Name': 'ಹಿಂದುರಾವ ಕಾಂಬಳೆ', 'FatherName': 'ಸಹದೇವ', 'HusbandName': '', 'MotherName': '', 'num': 951}\n",
      "{'Name': 'ಸಂದೀಪ ಕಾಂಬಳೆ', 'FatherName': 'ಹಿಂದುರಾವ ಫ್', 'HusbandName': '', 'MotherName': '', 'num': 952}\n",
      "{'Name': 'ಸಾವಿತ್ರಿ ಕಾಂಬಳೆ', 'FatherName': '', 'HusbandName': 'ರಾಯಗೊಂಡಾ', 'MotherName': '', 'num': 953}\n",
      "{'Name': 'ಮನೋಹರ ಕಾಂಬಳೆ', 'FatherName': 'ರಾಯಗೊಂಡಾ', 'HusbandName': '', 'MotherName': '', 'num': 954}\n",
      "{'Name': 'ರಾಜಶ್ರೀ ಕಾಂಬಳೆ', 'FatherName': '', 'HusbandName': 'ಮನೋಹರ ೭', 'MotherName': '', 'num': 955}\n"
     ]
    },
    {
     "data": {
      "application/vnd.jupyter.widget-view+json": {
       "model_id": "a83b080206b146cab6de584c025cb407",
       "version_major": 2,
       "version_minor": 0
      },
      "text/plain": [
       "interactive(children=(IntSlider(value=50, description='x', max=255, min=1), Output()), _dom_classes=('widget-i…"
      ]
     },
     "metadata": {},
     "output_type": "display_data"
    },
    {
     "name": "stdout",
     "output_type": "stream",
     "text": [
      "{'Name': 'ಸುನಿತಾ ಕಾಂಬಳೆ', 'FatherName': '', 'HusbandName': 'ಮಾರುತಿ', 'MotherName': '', 'num': 956}\n",
      "{'Name': 'ಜೀತೇಂದ್ರ ಕಾಂಬಳೆ', 'FatherName': 'ರಾಯಗೊಂಡ', 'HusbandName': '', 'MotherName': '', 'num': 957}\n",
      "{'Name': 'ರಾಣುಬಾಯಿ ಕಾಂಬಳೆ', 'FatherName': '', 'HusbandName': 'ಸದಾಶಿವ', 'MotherName': '', 'num': 958}\n",
      "{'Name': 'ಸುನಿತಾ ಕಾಂಬಳೆ', 'FatherName': '', 'HusbandName': 'ಬಾಬಾಸೊ', 'MotherName': '', 'num': 959}\n",
      "{'Name': 'ದಿನಕರ ಕಾಂಬಳೆ', 'FatherName': 'ಈಶ್ವರ', 'HusbandName': '', 'MotherName': '', 'num': 960}\n",
      "{'Name': 'ಸುನಿತಾ ಕಾಂಬಳೆ', 'FatherName': '', 'HusbandName': 'ದಿನಕರ ೮', 'MotherName': '', 'num': 961}\n",
      "{'Name': 'ಹಿಂದೂರಾವ ಕಾಂಬಳೆ', 'FatherName': 'ಈಶ್ವರ', 'HusbandName': '', 'MotherName': '', 'num': 962}\n",
      "{'Name': 'ಬಾಬಾಸೊಕಾಂಬಳೆ', 'FatherName': '| ರಾಮು', 'HusbandName': '', 'MotherName': '', 'num': 963}\n",
      "{'Name': 'ತುಕಾರಾಮ ಕಾಂಬಳೆ', 'FatherName': 'ಸಿದ್ದು', 'HusbandName': '', 'MotherName': '', 'num': 964}\n",
      "{'Name': 'ದಯಾವತಿ ಕಾಂಬಳೆ', 'FatherName': '', 'HusbandName': 'ತುಕಾರಾಮ', 'MotherName': '', 'num': 965}\n",
      "{'Name': 'ಸಾಗರ ಕಾಂಬಳೆ', 'FatherName': 'ತುಕಾರಾಮ', 'HusbandName': '', 'MotherName': '', 'num': 966}\n",
      "{'Name': 'ಶುಭಾಂಗಿ', 'FatherName': '', 'HusbandName': 'ಅಮ್ಮರ್ ನಲವಡೇ ದ', 'MotherName': '', 'num': 967}\n",
      "{'Name': 'ಶೋಭಾತಾಯಿ ನಲ್ಲವಡೆ', 'FatherName': '', 'HusbandName': 'ಸದಾಶಿವ', 'MotherName': '', 'num': 968}\n",
      "{'Name': 'ಆನಂದಾ ನಲ್ಲವಡೆ', 'FatherName': 'ಅಪ್ಪಾಸೊ ೯ ್', 'HusbandName': '', 'MotherName': '', 'num': 969}\n",
      "{'Name': 'ಗೀತಾನಲ್ಲವಡೆ', 'FatherName': '', 'HusbandName': 'ಆನಂದಾ', 'MotherName': '', 'num': 970}\n",
      "{'Name': 'ಮಾರುತಿ ಕುಂಬಾರ', 'FatherName': 'ಪಾಂಡುರಂಗ ೯', 'HusbandName': '', 'MotherName': '', 'num': 971}\n",
      "{'Name': 'ಶಾಂತಾ ಕಂಬಾರ', 'FatherName': '', 'HusbandName': 'ಮಾರುತಿ', 'MotherName': '', 'num': 972}\n",
      "{'Name': 'ದ್ವಾರಕಾ ಕಾಂಬಳೆ', 'FatherName': '', 'HusbandName': 'ಲಹು', 'MotherName': '', 'num': 973}\n",
      "{'Name': 'ಕೃಷ್ಣಾತ ಕಾಂಬಳೆ', 'FatherName': 'ಲಹು', 'HusbandName': '', 'MotherName': '', 'num': 974}\n",
      "{'Name': 'ಪುಂಡಲೀಕ ಕಾಂಬಳೆ', 'FatherName': 'ಲಹು', 'HusbandName': '', 'MotherName': '', 'num': 975}\n",
      "{'Name': 'ಉಷಾ ಕಾಂಬಳೆ', 'FatherName': '', 'HusbandName': 'ಕೃಷ್ಣಾತ', 'MotherName': '', 'num': 976}\n",
      "{'Name': 'ರಘುನಾಥ ಕಾಂಬಳೆ', 'FatherName': 'ದೇವಪ್ಪ', 'HusbandName': '', 'MotherName': '', 'num': 977}\n",
      "{'Name': 'ಆಶಾಬಾಯಿ ಕಾಂಬಳೆ', 'FatherName': '', 'HusbandName': 'ರಘುನಾಥ', 'MotherName': '', 'num': 978}\n",
      "{'Name': 'ರವಿಂದ್ರ ಕಾಂಬಳೆ', 'FatherName': 'ರಘುನಾಥ', 'HusbandName': '', 'MotherName': '', 'num': 979}\n",
      "{'Name': 'ವೈಶಾಲಿ ಕಾಂಬಳೆ', 'FatherName': '', 'HusbandName': 'ತಾನಾಜಿ ೭', 'MotherName': '', 'num': 980}\n",
      "{'Name': 'ಸುಶೀಲಾ ಕಾಂಬಳೆ', 'FatherName': '', 'HusbandName': 'ಅಪ್ಪಾಸೊ ೭', 'MotherName': '', 'num': 981}\n",
      "{'Name': 'ಶಿವಾಜಿ ಕಾಂಬಳೆ', 'FatherName': 'ಆಪ್ಪಾಸೋ', 'HusbandName': '', 'MotherName': '', 'num': 982}\n",
      "{'Name': 'ಸಾತಪ್ಪ ಕಾಂಬಳೆ', 'FatherName': 'ಗೋವಿಂದ', 'HusbandName': '', 'MotherName': '', 'num': 983}\n",
      "{'Name': 'ಶೇವಂತಾ ಕಾಂಬಳೆ', 'FatherName': '', 'HusbandName': 'ಸಾತಪ್ಪ', 'MotherName': '', 'num': 984}\n",
      "{'Name': 'ಸುನಂದಾ ಕಾಂಬಳೆ', 'FatherName': '', 'HusbandName': 'ಬಳವಂತ', 'MotherName': '', 'num': 985}\n"
     ]
    },
    {
     "data": {
      "application/vnd.jupyter.widget-view+json": {
       "model_id": "73a3340fd45b42abae135f41e33a3816",
       "version_major": 2,
       "version_minor": 0
      },
      "text/plain": [
       "interactive(children=(IntSlider(value=50, description='x', max=255, min=1), Output()), _dom_classes=('widget-i…"
      ]
     },
     "metadata": {},
     "output_type": "display_data"
    },
    {
     "name": "stdout",
     "output_type": "stream",
     "text": [
      "{'Name': 'ಗೋವಿಂದ ಕಾಂಬಳೆ', 'FatherName': 'ಸಾತಪ್ಪ', 'HusbandName': '', 'MotherName': '', 'num': 986}\n",
      "{'Name': 'ಸರಲಾ ಕಾಂಬಳೆ', 'FatherName': '', 'HusbandName': 'ಗೋವಿಂದ ಣು', 'MotherName': '', 'num': 987}\n",
      "{'Name': 'ಹಿಂದುರಾವ ಕಾಂಬಳೆ', 'FatherName': 'ಸಾತಪ್ಪ ಡ್', 'HusbandName': '', 'MotherName': '', 'num': 988}\n",
      "{'Name': 'ಭಾರತಿ ಕಾಂಬಳೆ', 'FatherName': '', 'HusbandName': 'ಹಿಂದರಾವ ೭', 'MotherName': '', 'num': 989}\n",
      "{'Name': 'ಅಜೀತ ಕಾಂಬಳೆ', 'FatherName': 'ಬಳವಂತ', 'HusbandName': '', 'MotherName': '', 'num': 990}\n",
      "{'Name': 'ಇಂದುಬಾಯಿ ಕಾಂಬಳೆ', 'FatherName': '', 'HusbandName': 'ಬಾಬು', 'MotherName': '', 'num': 991}\n",
      "{'Name': 'ಚಂದ್ರಕಾಂತ ಕಾಂಬಳೆ', 'FatherName': 'ಬಾಬು', 'HusbandName': '', 'MotherName': '', 'num': 992}\n",
      "{'Name': 'ಶ್ರೀಮಂತ ಕಾಂಬಳೆ', 'FatherName': 'ಬಾಬು', 'HusbandName': '', 'MotherName': '', 'num': 993}\n",
      "{'Name': 'ವೈಶಾಲಿ ಕಾಂಬಳೆ', 'FatherName': '', 'HusbandName': 'ಚಂದ್ರಕಾತ ಅ ಫ್', 'MotherName': '', 'num': 994}\n",
      "{'Name': 'ರಂಜನಾ ಕಾಂಬಳೆ', 'FatherName': '', 'HusbandName': 'ಶ್ರೀಮಂತ', 'MotherName': '', 'num': 995}\n",
      "{'Name': 'ರೂತೀಕೇಷ ಕಾಂಬಳೆ', 'FatherName': 'ಚಂದ್ರಕಾಂತ ಕಾಂಬಳೆ | ನ', 'HusbandName': '', 'MotherName': '', 'num': 996}\n",
      "{'Name': 'ಕರಿಷ್ಮಾ ಕಾಂಬಳೆ', 'FatherName': 'ಚಂದ್ರಕಾಂತ', 'HusbandName': '', 'MotherName': '', 'num': 997}\n",
      "{'Name': 'ರೋಹಿಣಿ ಕಾಂಬಳೆ', 'FatherName': '', 'HusbandName': 'ತುಕಾರಾಮ', 'MotherName': '', 'num': 998}\n",
      "{'Name': 'ರಾಜಾರಾಮ ಧನಾನಂದ', 'FatherName': 'ತುಕಾರಾಮ', 'HusbandName': '', 'MotherName': '', 'num': 999}\n",
      "{'Name': 'ಬಾಬುಕಾಂಬಳೆ', 'FatherName': 'ಕಾಳು', 'HusbandName': '', 'MotherName': '', 'num': 1000}\n",
      "{'Name': 'ಪಾರುಬಾಯಿ ಕಾಂಬಳೆ', 'FatherName': '', 'HusbandName': 'ಬಾಬು', 'MotherName': '', 'num': 1001}\n",
      "{'Name': 'ಪ್ರಕಾಶ ಕಾಂಬಳೆ', 'FatherName': 'ರಾಮಾ', 'HusbandName': '', 'MotherName': '', 'num': 1002}\n",
      "{'Name': 'ಸುಕಮಾ ಕಾಂಬಳೆ', 'FatherName': '', 'HusbandName': 'ಪ್ರಕಾಶ ೮', 'MotherName': '', 'num': 1003}\n",
      "{'Name': 'ದಶರಥ ಕಾಂಬಳೆ', 'FatherName': 'ಬಾಬು', 'HusbandName': '', 'MotherName': '', 'num': 1004}\n",
      "{'Name': 'ಅನ್ನಾಸಾಹೇಬ ಕಾಂಬಳೆ', 'FatherName': 'ಲಹು', 'HusbandName': '', 'MotherName': '', 'num': 1005}\n",
      "{'Name': 'ಕವಿತಾ ಕಾಂಬಳೆ', 'FatherName': '', 'HusbandName': 'ಕಿರಣ', 'MotherName': '', 'num': 1006}\n",
      "{'Name': 'ಸವಿತಾ ಕಾಂಬಳೆ', 'FatherName': '', 'HusbandName': 'ತರುಣ', 'MotherName': '', 'num': 1007}\n",
      "{'Name': 'ರಾಧಿಕಾ ಕಾಂಬಳೆ', 'FatherName': 'ತರುಣ ಕಾಂಬಳೆ ್್', 'HusbandName': '', 'MotherName': '', 'num': 1008}\n",
      "{'Name': 'ಸೌರಭ ಕಾಂಬಳೆ', 'FatherName': 'ತರುಣ', 'HusbandName': '', 'MotherName': '', 'num': 1009}\n",
      "{'Name': 'ಸೋನಾಬಾಯಿ ಕಾಂಬಳೆ', 'FatherName': '', 'HusbandName': 'ಬಾಪು', 'MotherName': '', 'num': 1010}\n",
      "{'Name': 'ಆನಂದಾ ಕಾಂಬಳೆ', 'FatherName': 'ಸಂತು', 'HusbandName': '', 'MotherName': '', 'num': 1011}\n",
      "{'Name': 'ದೀಪಕ ಕಾಂಬಳೆ', 'FatherName': 'ಬಾಪು', 'HusbandName': '', 'MotherName': '', 'num': 1012}\n",
      "{'Name': 'ಕಿರಣ ಕಾಂಬಳೇ', 'FatherName': 'ಬಾಪು', 'HusbandName': '', 'MotherName': '', 'num': 1013}\n",
      "{'Name': 'ರೆಶಮಾ ಕಾಂಬಳೆ', 'FatherName': '', 'HusbandName': 'ದೀಪಕ', 'MotherName': '', 'num': 1014}\n",
      "{'Name': 'ಜೋತಿರಾಮ ಕಾಂಬಳೆ', 'FatherName': 'ಶೀತಾರಾಮ', 'HusbandName': '', 'MotherName': '', 'num': 1015}\n"
     ]
    },
    {
     "data": {
      "application/vnd.jupyter.widget-view+json": {
       "model_id": "1c98255bad6a49ca9d386d88394643a9",
       "version_major": 2,
       "version_minor": 0
      },
      "text/plain": [
       "interactive(children=(IntSlider(value=50, description='x', max=255, min=1), Output()), _dom_classes=('widget-i…"
      ]
     },
     "metadata": {},
     "output_type": "display_data"
    },
    {
     "name": "stdout",
     "output_type": "stream",
     "text": [
      "{'Name': 'ವಿನಾಯಕ ಕಾಂಬಳೇ', 'FatherName': 'ಸಾತಪ್ಪ', 'HusbandName': '', 'MotherName': '', 'num': 1016}\n",
      "{'Name': 'ಸುನಿತಾ ಕಾಂಬಳೇ', 'FatherName': '', 'HusbandName': 'ವಿನಾಯಕ', 'MotherName': '', 'num': 1017}\n",
      "{'Name': 'ದಿಲೀಪ ಕಾಂಬಳೇ', 'FatherName': 'ಶ್ಯಾಮಾರಾವ', 'HusbandName': '', 'MotherName': '', 'num': 1018}\n",
      "{'Name': 'ಲಕ್ಷ್ಮೀ ಕಾಂಬಳೇ', 'FatherName': '', 'HusbandName': 'ದಿಲೀಪ', 'MotherName': '', 'num': 1019}\n",
      "{'Name': 'ಮನೋಹರ ಕಾಂಬಳೇ', 'FatherName': 'ಶ್ಯಾಮಾರಾವ', 'HusbandName': '', 'MotherName': '', 'num': 1020}\n",
      "{'Name': 'ರೇಖಾ ಕಾಂಬಳೆ', 'FatherName': '', 'HusbandName': 'ಮನೋಹರ ೭', 'MotherName': '', 'num': 1021}\n",
      "{'Name': 'ಸಖಾರಾಮ ಕಾಂಬಳೇ', 'FatherName': 'ಶ್ಯಾಮಾರಾವ', 'HusbandName': '', 'MotherName': '', 'num': 1022}\n",
      "{'Name': 'ಅಶೋಕ ಕಾಂಬಳೆ', 'FatherName': 'ಶ್ಯಾಮಾರಾವ', 'HusbandName': '', 'MotherName': '', 'num': 1023}\n",
      "{'Name': 'ಗಂಗೂಬಾಯಿ ಕಾಂಬಳೇ', 'FatherName': '', 'HusbandName': 'ಸೆಖಾರಾಮ', 'MotherName': '', 'num': 1024}\n",
      "{'Name': 'ಪ್ರವೀಣ ಕಾಂಬಳೆ', 'FatherName': 'ಅಶೋಕ ಕಾಂಬಳೆ', 'HusbandName': '', 'MotherName': '', 'num': 1025}\n",
      "{'Name': 'ನಿವೃತ್ತಿ ಕಾಂಬಳೇ', 'FatherName': 'ಧೊಂಢಿಬಾ  &', 'HusbandName': '', 'MotherName': '', 'num': 1026}\n",
      "{'Name': 'ದಾದಾಸೊಕಾಂಬಳೆ', 'FatherName': 'ನಿವೃತ್ತಿ', 'HusbandName': '', 'MotherName': '', 'num': 1027}\n",
      "{'Name': 'ಅಮರ ಕಾಂಬಳೆ', 'FatherName': 'ಅಶೋಕ ಟ್', 'HusbandName': '', 'MotherName': '', 'num': 1028}\n",
      "{'Name': 'ಅಶೋಕ ಕಾಂಬಳೇ', 'FatherName': 'ಲವು', 'HusbandName': '', 'MotherName': '', 'num': 1029}\n",
      "{'Name': 'ರೇಖಾ ಕಾಂಬಳೇ', 'FatherName': '', 'HusbandName': 'ಭೋಲಾ', 'MotherName': '', 'num': 1030}\n",
      "{'Name': 'ಲತಾ ಕಾಂಬಳೇ', 'FatherName': '', 'HusbandName': 'ಅಶೋಕ', 'MotherName': '', 'num': 1031}\n",
      "{'Name': 'ಭಿಕಾಜಿ ಕಾಂಬಳೆ', 'FatherName': 'ಭೊಲಾ', 'HusbandName': '', 'MotherName': '', 'num': 1032}\n",
      "{'Name': 'ಬಾಳು ಕಾಂಬಳೇ', 'FatherName': 'ವಿಷ್ಣು', 'HusbandName': '', 'MotherName': '', 'num': 1033}\n",
      "{'Name': 'ಸುಶೀಲಾ ಕಾಂಬಳೇ', 'FatherName': '', 'HusbandName': 'ಬಾಳು', 'MotherName': '', 'num': 1034}\n",
      "{'Name': 'ಮಂಗಲ ಕಾಂಬಳೇ', 'FatherName': '', 'HusbandName': 'ಶಿವಾಜಿ', 'MotherName': '', 'num': 1035}\n",
      "{'Name': 'ಮಾಲಾತಾಯಿ ಕಾಂಬಳೇ', 'FatherName': '', 'HusbandName': 'ಕಾಳು', 'MotherName': '', 'num': 1036}\n",
      "{'Name': 'ಸಕಾರಾಮ ಕಾಂಬಳೇ', 'FatherName': 'ಕಾಳು ಹ್', 'HusbandName': '', 'MotherName': '', 'num': 1037}\n",
      "{'Name': 'ನಂದಿನಿ ಕಾಂಬಳೆ', 'FatherName': '', 'HusbandName': 'ಪ್ರದೀಪ ಕಾಂಬಳೆ ್್', 'MotherName': '', 'num': 1038}\n",
      "{'Name': 'ಸೋನಾಬಾಯಿ ಕಾಂಬಳೇ', 'FatherName': '', 'HusbandName': 'ಪಾಂಡು', 'MotherName': '', 'num': 1039}\n",
      "{'Name': 'ಅರ್ಜುನ ಕಾಂಬಳೆ', 'FatherName': 'ಪಾಂಡುರಂಗ', 'HusbandName': '', 'MotherName': '', 'num': 1040}\n",
      "{'Name': 'ಮನಿಶಾ ಕಾಂಬಳೆ', 'FatherName': '', 'HusbandName': 'ಅರ್ಜುನ', 'MotherName': '', 'num': 1041}\n",
      "{'Name': 'ಮಲ್ಲೇಶ ಕಾಂಬಳೆ', 'FatherName': 'ಪಾಂಡುರಂಗ ಫ್', 'HusbandName': '', 'MotherName': '', 'num': 1042}\n",
      "{'Name': 'ವಿಜಯ ಕಾಂಬಳೆ', 'FatherName': 'ಕೊಂಡಿರಾಮ', 'HusbandName': '', 'MotherName': '', 'num': 1043}\n",
      "{'Name': 'ಲಕ್ಷ್ಮಿ ಕಾಂಬಳೆ', 'FatherName': '', 'HusbandName': 'ವಿಜಯ', 'MotherName': '', 'num': 1044}\n",
      "{'Name': 'ಅಕ್ಕಾತಾಯಿ ಕಾಂಬಳೇ', 'FatherName': '', 'HusbandName': 'ಬಳವಂತ', 'MotherName': '', 'num': 1045}\n"
     ]
    },
    {
     "data": {
      "application/vnd.jupyter.widget-view+json": {
       "model_id": "f1fbd27ce3f14ab283fdbd6320da01bf",
       "version_major": 2,
       "version_minor": 0
      },
      "text/plain": [
       "interactive(children=(IntSlider(value=50, description='x', max=255, min=1), Output()), _dom_classes=('widget-i…"
      ]
     },
     "metadata": {},
     "output_type": "display_data"
    },
    {
     "name": "stdout",
     "output_type": "stream",
     "text": [
      "{'Name': 'ಶ್ರೀಕಾಂತ ಕಾಂಬಳೇ', 'FatherName': 'ಜಾನಬಾ', 'HusbandName': '', 'MotherName': '', 'num': 1046}\n",
      "{'Name': 'ಶಾರದಾ ಕಾಂಬಳೇ', 'FatherName': '', 'HusbandName': 'ಶ್ರೀಕಾಂತ', 'MotherName': '', 'num': 1047}\n",
      "{'Name': 'ಸರದಾರ ಕಾಂಬಳೇ', 'FatherName': 'ಬಳವಂತ', 'HusbandName': '', 'MotherName': '', 'num': 1048}\n",
      "{'Name': 'ಶಿವಾಜಿ ಕಾಂಬಳೆ', 'FatherName': 'ಶ್ರೀಕಾಂತ', 'HusbandName': '', 'MotherName': '', 'num': 1049}\n",
      "{'Name': 'ರೂಪಾಲಿ ಕಾಂಬಳೆ', 'FatherName': '', 'HusbandName': 'ಸರದಾರ', 'MotherName': '', 'num': 1050}\n",
      "{'Name': 'ತಾನಾಜಿ ಕಾಂಬಳೆ', 'FatherName': 'ಶ್ರೀಕಾಂತ ೯ ಲ್', 'HusbandName': '', 'MotherName': '', 'num': 1051}\n",
      "{'Name': 'ಪುಂಡಲೀಕ ಕಾಂಬಳೇ', 'FatherName': 'ತುಕಾರಾಮ', 'HusbandName': '', 'MotherName': '', 'num': 1052}\n",
      "{'Name': 'ಶೋಭಾ ಕಾಂಬಳೇ', 'FatherName': '', 'HusbandName': 'ಪೆಂಡಲೀಕ', 'MotherName': '', 'num': 1053}\n",
      "{'Name': 'ಕವಿತಾ ವಿಭೂತೆ', 'FatherName': '', 'HusbandName': 'ದಿನಕರ', 'MotherName': '', 'num': 1054}\n",
      "{'Name': 'ರೇಖಾತಾಯಿ ವಿಭೂತೆ', 'FatherName': '', 'HusbandName': 'ಪ್ರಭಾಕರ', 'MotherName': '', 'num': 1055}\n",
      "{'Name': 'ಇಂದುಬಾಯಿ ಕಾಂಬಳೆ', 'FatherName': '', 'HusbandName': 'ಗಣಪತಿ', 'MotherName': '', 'num': 1056}\n",
      "{'Name': 'ಅಶೋಕ ಕಾಂಬಳೆ', 'FatherName': 'ಗಣಪತಿ ಅ ಫ್', 'HusbandName': '', 'MotherName': '', 'num': 1057}\n",
      "{'Name': 'ಮಾರುತಿ ಕಾಂಬಳೆ', 'FatherName': 'ಗಣಪತಿ', 'HusbandName': '', 'MotherName': '', 'num': 1058}\n",
      "{'Name': 'ಸಂಪದಾ ಕಾಂಬಳೆ', 'FatherName': '', 'HusbandName': 'ಅಶೋಕ', 'MotherName': '', 'num': 1059}\n",
      "{'Name': 'ಛಾಯಾಬಾಯಿ ಕಾಂಬಳೆ', 'FatherName': '', 'HusbandName': 'ಮಾರುತಿ', 'MotherName': '', 'num': 1060}\n",
      "{'Name': 'ಗಣೇಶ ಕಾಂಬಳೆ', 'FatherName': 'ಅಶೋಕ', 'HusbandName': '', 'MotherName': '', 'num': 1061}\n",
      "{'Name': 'ಚೆಣುಬಾಯಿ ಕಾಂಬಳೆ', 'FatherName': '', 'HusbandName': 'ಸಂತರಾಮ', 'MotherName': '', 'num': 1062}\n",
      "{'Name': 'ಸರಸ್ವತಿ ಕಾಂಬಳೆ', 'FatherName': '', 'HusbandName': 'ವಸಂತ ೮', 'MotherName': '', 'num': 1063}\n",
      "{'Name': 'ಸುಶೀಲಾ ಶಿಂಗೆ', 'FatherName': '', 'HusbandName': 'ಮಾರುತಿ', 'MotherName': '', 'num': 1064}\n",
      "{'Name': 'ನಾರಾಯಣ ಮಾನೆ', 'FatherName': 'ನಾಮದೇವ ಹ್', 'HusbandName': '', 'MotherName': '', 'num': 1065}\n",
      "{'Name': 'ಅಂಶುಮನ ಅರ್ಜುನ ಕಾಂಬಳೆ ಕಾಂಬಳೆ', 'FatherName': 'ಅರ್ಜುನ್ ಯ', 'HusbandName': '', 'MotherName': '', 'num': 1066}\n"
     ]
    },
    {
     "data": {
      "application/vnd.jupyter.widget-view+json": {
       "model_id": "9bf0087ed2d344b1905bdf7990ccc217",
       "version_major": 2,
       "version_minor": 0
      },
      "text/plain": [
       "interactive(children=(IntSlider(value=50, description='x', max=255, min=1), Output()), _dom_classes=('widget-i…"
      ]
     },
     "metadata": {},
     "output_type": "display_data"
    },
    {
     "name": "stdout",
     "output_type": "stream",
     "text": [
      "{'Name': 'ಪದ್ಮವತಿ ಪಾಟೀಲ', 'FatherName': '', 'HusbandName': 'ರಾಮದಾಸ ಟ್', 'MotherName': '', 'num': 1067}\n",
      "{'Name': 'ರಾಜಶ್ರೀ ಪೋವಾರ', 'FatherName': '', 'HusbandName': 'ಅಪ್ಪಾಸೊ', 'MotherName': '', 'num': 1068}\n",
      "{'Name': 'ಛಾಯಾ ಪೋವಾರ', 'FatherName': '', 'HusbandName': 'ಮಧುಕರ', 'MotherName': '', 'num': 1069}\n",
      "{'Name': 'ಕೃಷ್ಣಾತ ಪೊವಾರ', 'FatherName': 'ಬಳವಂತ', 'HusbandName': '', 'MotherName': '', 'num': 1070}\n",
      "{'Name': 'ಸುವರ್ಣಾ ಮಗದುಮ್', 'FatherName': '', 'HusbandName': 'ಮಲಗೊಂಡಾ', 'MotherName': '', 'num': 1071}\n",
      "{'Name': 'ಶಾಲನ ನಲ್ಲವಡೆ', 'FatherName': '', 'HusbandName': 'ಗಣಪತಿ', 'MotherName': '', 'num': 1072}\n",
      "{'Name': 'ರುಶಿಕೇಷ ಮಗದುಮ್ಮ', 'FatherName': 'ಅಪ್ಪಾಸಾಹೇಬ', 'HusbandName': '', 'MotherName': '', 'num': 1073}\n",
      "{'Name': 'ಚಂದ್ರಕಾಂತ ಶಿರೊಳೆ', 'FatherName': 'ಬಾಬುರಾವ', 'HusbandName': '', 'MotherName': '', 'num': 1074}\n",
      "{'Name': 'ಪಾರುಬಾಯಿ ಲೋಹಾರ', 'FatherName': '', 'HusbandName': 'ಮಾರುತಿ', 'MotherName': '', 'num': 1075}\n",
      "{'Name': 'ಕಾಜಲ ಪಾಟೀಲ', 'FatherName': 'ವಿಕಾಸ ಟ್', 'HusbandName': '', 'MotherName': '', 'num': 1076}\n",
      "{'Name': 'ಸ್ನಹಲ ಲೋಹಾರ', 'FatherName': '', 'HusbandName': 'ಸಂದೀಪ', 'MotherName': '', 'num': 1077}\n",
      "{'Name': 'ಉಮಾ ಕಾಂಬಳೆ', 'FatherName': '', 'HusbandName': 'ಶಿವಾಜಿ', 'MotherName': '', 'num': 1078}\n",
      "{'Name': 'ಕುಸುಮ ಕಾಂಬಳೆ', 'FatherName': '', 'HusbandName': 'ಸದಾಶಿವ', 'MotherName': '', 'num': 1079}\n",
      "{'Name': 'ಛಾಯಾ ಕಾಂಬಳೆ', 'FatherName': '', 'HusbandName': 'ಅಂತು', 'MotherName': '', 'num': 1080}\n",
      "{'Name': 'ದುರ್ಗಾ ಕಾಂಬಳೆ', 'FatherName': '', 'HusbandName': 'ನಿವೃತ್ತಿ', 'MotherName': '', 'num': 1081}\n",
      "{'Name': 'ಶಿವಾಜಿ ಕಾಂಬಳೇ', 'FatherName': 'ವಿಷ್ಣು', 'HusbandName': '', 'MotherName': '', 'num': 1082}\n",
      "{'Name': 'ಅಕ್ಕಾತಾಯಿ ಮಗದುಮ್ಮ', 'FatherName': '', 'HusbandName': 'ಸೀತಾರಾಮ', 'MotherName': '', 'num': 1083}\n",
      "{'Name': 'ಬಾಳಾಸೋ ಮಾನೆ', 'FatherName': 'ನಾಮದೇವ ೮', 'HusbandName': '', 'MotherName': '', 'num': 1084}\n",
      "{'Name': 'ಶೋಭಾತಾಯಿ ಮಗದುಮ್ಮ', 'FatherName': '', 'HusbandName': 'ನಾರಾಯಣ', 'MotherName': '', 'num': 1085}\n",
      "{'Name': 'ಇಂದ್ರಾಯಣಿ ಮಾನೆ', 'FatherName': '', 'HusbandName': 'ಬಾಳಾಸೋ', 'MotherName': '', 'num': 1086}\n",
      "{'Name': 'ಸುರೇಶ ಕಾಂಬಳೆ', 'FatherName': 'ಕೃಷ್ಣಾ', 'HusbandName': '', 'MotherName': '', 'num': 1087}\n",
      "{'Name': 'ವೈಭವ ಪಾಟೀಲ', 'FatherName': 'ಅರವಿಂದ', 'HusbandName': '', 'MotherName': '', 'num': 1088}\n"
     ]
    },
    {
     "data": {
      "application/vnd.jupyter.widget-view+json": {
       "model_id": "0c2818b94fe64e19b95b7de13e50b95d",
       "version_major": 2,
       "version_minor": 0
      },
      "text/plain": [
       "interactive(children=(IntSlider(value=50, description='x', max=255, min=1), Output()), _dom_classes=('widget-i…"
      ]
     },
     "metadata": {},
     "output_type": "display_data"
    },
    {
     "name": "stdout",
     "output_type": "stream",
     "text": [
      "{'Name': 'ಸಿದ್ದಾರ್ಥ ಕಾಂಬಳೆ', 'FatherName': 'ಗಣಪತಿ ಕಾಂಬಳೆ', 'HusbandName': '', 'MotherName': '', 'num': 1089}\n",
      "{'Name': 'ಅನುಸೂಯ ಕಾಂಬಳೆ', 'FatherName': '', 'HusbandName': 'ಶಿವಾಜಿ ಕಾಂಬಳೆ', 'MotherName': '', 'num': 1090}\n",
      "{'Name': 'ಓಂಕಾರ ಮಗದುಮ್ಮ', 'FatherName': 'ಅರವಿಂದ   ಮಗದುಮ್ಮ ಓಜ', 'HusbandName': '', 'MotherName': '', 'num': 1091}\n",
      "{'Name': 'ವಿಘ್ನೇಶ್ ತಿರುವತ', 'FatherName': 'ತಾನಾಜಿ ತಿರುವತ', 'HusbandName': '', 'MotherName': '', 'num': 1092}\n",
      "{'Name': 'ಅನುರಾಗ ಕಾಂಬಳೆ', 'FatherName': 'ರಮೇಶ ಕಾಂಬಳೆ ಫ್', 'HusbandName': '', 'MotherName': '', 'num': 1093}\n",
      "{'Name': 'ವಿವೇಕ ಪಾಟೀಲ', 'FatherName': 'ಅಶೋಕ ಪಾಟೀಲ ಅ ಲ್', 'HusbandName': '', 'MotherName': '', 'num': 1094}\n",
      "{'Name': 'ಶಂತನುಶಿರೋಳೆ', 'FatherName': 'ಸುಹಾಸ ಶಿರೋಳೆ ೭', 'HusbandName': '', 'MotherName': '', 'num': 1095}\n",
      "{'Name': 'ಶಂಭುರಾಜ ಮಾನೆ', 'FatherName': 'ಶಶಿಕಾಂತ ಮಾನೆ', 'HusbandName': '', 'MotherName': '', 'num': 1096}\n",
      "{'Name': 'ಅಮ್ರಪಾಲಿ ಕಾಂಬಳೆ', 'FatherName': 'ಅಶೋಕ ಕಾಂಬಳೆ', 'HusbandName': '', 'MotherName': '', 'num': 1097}\n",
      "{'Name': 'ಆರತಿ ಮಗದುಮ್ಮ', 'FatherName': '', 'HusbandName': 'ಗಣೇಶ ಮಗದುಮ್ಮ', 'MotherName': '', 'num': 1098}\n",
      "{'Name': 'ರೋಹಿತ ಕಾಂಬಳೆ', 'FatherName': 'ವಿಜಯ ಕಾಂಬಳೆ', 'HusbandName': '', 'MotherName': '', 'num': 1099}\n",
      "{'Name': 'ಶ್ವೇತಾ ಕಾಂಬಳೆ', 'FatherName': 'ಮಹದೇವ ಕಾಂಬಳೆ | . ವಯಸ್ಸು  ಲಿಂಗ  ಹೆಣ್ಣು', 'HusbandName': '', 'MotherName': '', 'num': 1100}\n",
      "{'Name': 'ಧೈರ್ಯಶೀಲ ಪಾಟೀಲ', 'FatherName': 'ರಾಮದಾಸ   ಪಾಟೀಲ ಓ', 'HusbandName': '', 'MotherName': '', 'num': 1101}\n",
      "{'Name': 'ಚಂದ್ರಕಾಂತ ಕಾಂಬಳೆ', 'FatherName': 'ಅರುಣ ಕಾಂಬಳೆ', 'HusbandName': '', 'MotherName': '', 'num': 1102}\n",
      "{'Name': 'ಅವಿನಾಶ ಮಗದುಮ್ಮ', 'FatherName': 'ಅನಿಲ ಮಗದುಮ್ಮ ಲ್', 'HusbandName': '', 'MotherName': '', 'num': 1103}\n",
      "{'Name': 'ಉದಯ ವಿಭುತೆ', 'FatherName': 'ದಿನಕರ ವಿಭುತೆ ಆ ಫ್', 'HusbandName': '', 'MotherName': '', 'num': 1104}\n",
      "{'Name': 'ಸಾಣಿಕಾ', 'FatherName': 'ಹರಿಶ ಪೋವರ್ ೭', 'HusbandName': '', 'MotherName': '', 'num': 1105}\n",
      "{'Name': 'ರಾಜಶ್ರೀ', 'FatherName': '', 'HusbandName': 'ಅಜಿನ್ಕಾ | ಕಾಮ್ಬಲೇ', 'MotherName': '', 'num': 1106}\n",
      "{'Name': 'ಶ್ರೇಯಶ', 'FatherName': 'ದಯಆನಂದ   ಪಾಟಿಲ್ ಓ', 'HusbandName': '', 'MotherName': '', 'num': 1107}\n",
      "{'Name': 'ವೈಭವ್', 'FatherName': 'ಸರ್ದಾರ್ ಕಾಮ್ಬಲೇ ೯ ್', 'HusbandName': '', 'MotherName': '', 'num': 1108}\n",
      "{'Name': 'ಸತಿಶ್', 'FatherName': 'ಬಾಲಾಸೋ ಶೇಲಾಕ್ಕೆ | ನಿಟ', 'HusbandName': '', 'MotherName': '', 'num': 1109}\n"
     ]
    },
    {
     "data": {
      "application/vnd.jupyter.widget-view+json": {
       "model_id": "e90d2fdcfd5f4d86941eaac0694b0d1e",
       "version_major": 2,
       "version_minor": 0
      },
      "text/plain": [
       "interactive(children=(IntSlider(value=50, description='x', max=255, min=1), Output()), _dom_classes=('widget-i…"
      ]
     },
     "metadata": {},
     "output_type": "display_data"
    },
    {
     "name": "stdout",
     "output_type": "stream",
     "text": [
      "{'Name': 'ವೈಭವ್', 'FatherName': 'ಹರಿಶ ಪೋವರ್', 'HusbandName': '', 'MotherName': '', 'num': 1110}\n",
      "{'Name': 'ವೈಭವ್', 'FatherName': 'ರವಸಾಹೇಬ   ಮಗ್ದೂಮ ಓ', 'HusbandName': '', 'MotherName': '', 'num': 1111}\n",
      "{'Name': '', 'FatherName': '', 'HusbandName': 'ಮಹದೇವ್ ಕಾಮ್ಬಲೇ', 'MotherName': '', 'num': 1112}\n",
      "{'Name': 'ಜ್ಯೊತಿ', 'FatherName': '', 'HusbandName': 'ಅಮೋಲ ೭ ಮೇರ್ದಾಣೇ ಹಯಂ', 'MotherName': '', 'num': 1113}\n",
      "{'Name': 'ಸರಿಕ', 'FatherName': '', 'HusbandName': 'ಸಂತೊಶ್ ಪೋವರ್  ಇ', 'MotherName': '', 'num': 1114}\n",
      "{'Name': 'ಮಾನಸೀ', 'FatherName': '', 'HusbandName': 'ಅಜಯ ಶಿರೋಲೇ', 'MotherName': '', 'num': 1115}\n",
      "{'Name': 'ಪಾವನ್', 'FatherName': '', 'HusbandName': '', 'MotherName': 'ಅಂಜನಾ ಪೋವರ್ | ಕ್ಲ', 'num': 1116}\n",
      "{'Name': 'ಸಮೃದ್ದಿ', 'FatherName': 'ಜ್ಞಾನ್ವೇವ ಪೋವರ್', 'HusbandName': '', 'MotherName': '', 'num': 1117}\n",
      "{'Name': 'ಸಚಿನ್', 'FatherName': 'ತಾನಾಜೀ ಚವನ್', 'HusbandName': '', 'MotherName': '', 'num': 1118}\n",
      "{'Name': 'ಮಹೆಶ್', 'FatherName': '', 'HusbandName': '', 'MotherName': 'ಉಜ್ವಾಲ ಕಾಮ್ಬಲ್ಲೆ |', 'num': 1119}\n",
      "{'Name': 'ಪೆಂಕಜ್', 'FatherName': '', 'HusbandName': '', 'MotherName': 'ವೈಶಾಲಿ ಗುರವ್', 'num': 1120}\n",
      "{'Name': 'ಓಂಕಾರ್', 'FatherName': '', 'HusbandName': '', 'MotherName': 'ರೊಪಾಲಿ   ಮಗದೂಮ ಬಜ', 'num': 1121}\n",
      "{'Name': 'ವೈಭವ್ ರವಸಾಹೇಬ ಮಗ್ದೂಮ ಮಗದೂಮ', 'FatherName': 'ರವಸಾಹೇಬ ಟ್ ಮಗ್ದೂಮ', 'HusbandName': '', 'MotherName': '', 'num': 1122}\n",
      "{'Name': 'ಖತಿಕ', 'FatherName': '', 'HusbandName': '', 'MotherName': 'ಆರ್ಚನಾ ಸುತರ್', 'num': 1123}\n",
      "{'Name': 'ಯೋಗೇಶ್', 'FatherName': 'ಸುಭಶ ಪಾಟಿಲ್', 'HusbandName': '', 'MotherName': '', 'num': 1124}\n",
      "{'Name': 'ರುಪೇಶ್', 'FatherName': 'ಜಗದಿಶ ಕಾಮ್ಬಲೇ', 'HusbandName': '', 'MotherName': '', 'num': 1125}\n",
      "{'Name': 'ಸಾಹಿಲ್', 'FatherName': 'ಟ ಕಾಮ್ಬಲೇ', 'HusbandName': '', 'MotherName': '', 'num': 1126}\n",
      "{'Name': '', 'FatherName': '', 'HusbandName': 'ಅವಿನಾಶ್   ಸೂಲಗಾಂವಕರ', 'MotherName': '', 'num': 1127}\n",
      "{'Name': 'ಮಹೆಶ್', 'FatherName': 'ಲಕ್ಷ್ಮಣ ನಲವಡೇ', 'HusbandName': '', 'MotherName': '', 'num': 1128}\n",
      "{'Name': 'ಪ್ರೇಮನಂದ', 'FatherName': '', 'HusbandName': '', 'MotherName': 'ವೈಶಾಲಿ ಕಾಮ್ಬಳೇ', 'num': 1129}\n",
      "{'Name': 'ಪ್ರಾಜಕ್ತಾ ಅನಿಕಿತ ಕಾಂಬಳೇ', 'FatherName': '', 'HusbandName': 'ಅನಿಕೇತ', 'MotherName': '', 'num': 1130}\n",
      "2 completed\n",
      "===\n",
      "end\n"
     ]
    }
   ],
   "source": [
    "print(\"started\")\n",
    "for pdf_file in range(start_pdf, end_pdf+1):\n",
    "    images = convert_pdf_to_image(str(pdf_file)+\".pdf\", 300)\n",
    "    \n",
    "    final_list = []\n",
    "    count = 0\n",
    "    for i in range(2, len(images)-1):\n",
    "        img = cv2.cvtColor(images[i], cv2.COLOR_BGR2GRAY)\n",
    "        \n",
    "        (thresh, img_bin) = cv2.threshold(img, 128, 255, cv2.THRESH_BINARY | cv2.THRESH_OTSU)\n",
    "        img_bin = 255 - img_bin\n",
    "        cv2.imwrite(\"Images/Image_bin.jpg\", img_bin)\n",
    "\n",
    "        interact(f, x = widgets.IntSlider(min = 1, max = 255, step = 1, value = 50));\n",
    "        \n",
    "        alpha = 0.5\n",
    "        beta = 1.0 - alpha\n",
    "        img_final_bin = cv2.addWeighted(verticle_lines_img, alpha, horizontal_lines_img, beta, 0.0)\n",
    "        img_final_bin = cv2.erode(~img_final_bin, kernel, iterations=2)\n",
    "        (thresh, img_final_bin) = cv2.threshold(img_final_bin, 128, 255, cv2.THRESH_BINARY | cv2.THRESH_OTSU)\n",
    "        \n",
    "        contours, hierarchy = cv2.findContours(img_final_bin, cv2.RETR_TREE, cv2.CHAIN_APPROX_SIMPLE)\n",
    "        (contours, boundingBoxes) = sort_contours(contours,\"top-to-bottom\")\n",
    "        \n",
    "        g = []\n",
    "        for c in contours:\n",
    "            x, y, w, h = cv2.boundingRect(c)\n",
    "            if(w < 800 and w > 500 and h > 250):\n",
    "                g.append([x, y, w, h])\n",
    "                \n",
    "        a = []\n",
    "        for i in range(len(g)):\n",
    "            if i == 0:\n",
    "                a.append(g[i])\n",
    "            else:\n",
    "                if np.abs(g[i][0] - g[i-1][0]) < 50:\n",
    "                    pass\n",
    "                else:\n",
    "                    a.append(g[i])\n",
    "                \n",
    "        for i in a:\n",
    "            new_img = img[i[1]:i[1]+i[3], i[0]:i[0]+i[2]]\n",
    "            dic = {}\n",
    "                        \n",
    "            extracted_text = pytesseract.image_to_string(new_img, lang='kan', config='--oem 3 --psm 6')\n",
    "            extracted_text = extracted_text.split()\n",
    "            \n",
    "            #Getting name from the list\n",
    "            start_index_for_name = None\n",
    "            end_index_for_name = None\n",
    "            for i, item in enumerate(extracted_text):\n",
    "                if (item.startswith(\"ಹೆಸರ\") or item.startswith(\"ಹಸರ\")) and start_index_for_name is None:\n",
    "                    start_index_for_name = i\n",
    "                elif (item.startswith(\"ತಂದೆ\") or item.startswith(\"ಗಂಡ\") or item.startswith('ಮನೆ') or item.startswith(\"ತೆಂದೆ\") or item.startswith(\"ತಾಯಿ\")) and end_index_for_name is None:\n",
    "                    end_index_for_name = i\n",
    "                    break\n",
    "                    \n",
    "            if start_index_for_name is not None and end_index_for_name is not None:\n",
    "                name = ' '.join(extracted_text[start_index_for_name + 1:end_index_for_name])\n",
    "                pattern_for_name_filter = str.maketrans('', '', '೦೧೨೩೪೫೬0123456789/:ABCDEFGHIJKLMNOPQRSTUVWXYZabcdefghijklmnopqrstuvwxyz')\n",
    "                name = name.translate(pattern_for_name_filter)\n",
    "                \n",
    "                patterns = r\"\\u200c\"\n",
    "                name = re.sub(patterns, \"\", name)\n",
    "                \n",
    "                name = name.strip()\n",
    "                dic[\"Name\"] = name\n",
    "            else:\n",
    "                name = \"None\"\n",
    "                \n",
    "            #Getting relation_name from the list\n",
    "            start_index_for_relation = None\n",
    "            end_index_for_relation = None\n",
    "            relation = None\n",
    "            for i, item in enumerate(extracted_text):\n",
    "                if (item.startswith('ತಂದೆ') or item.startswith('ತೆಂದೆ')) and start_index_for_relation is None:\n",
    "                    relation = \"Father\"\n",
    "                    start_index_for_relation = i\n",
    "                    break\n",
    "                elif item.startswith('ಗಂಡ') and start_index_for_relation is None:\n",
    "                    relation = \"Husband\"\n",
    "                    start_index_for_relation = i\n",
    "                    break\n",
    "                elif item.startswith('ತಾಯಿ') and start_index_for_relation is None:\n",
    "                    relation = \"Mother\"\n",
    "                    start_index_for_relation = i\n",
    "                    break\n",
    "                    \n",
    "            for i, item in enumerate(extracted_text):\n",
    "                if (item.startswith('ಮನೆ') or item.startswith('ಮನೆ')) and end_index_for_relation is None:\n",
    "                    end_index_for_relation = i\n",
    "                    break\n",
    "    \n",
    "            if start_index_for_relation is not None and start_index_for_relation is not None:\n",
    "                relation_name =  ' '.join(extracted_text[start_index_for_relation + 1:end_index_for_relation])\n",
    "                pattern_for_relation_filter = str.maketrans('', '', '೦೧೨೩೪೫೬0123456789/:ABCDEFGHIJKLMNOPQRSTUVWXYZabcdefghijklmnopqrstuvwxyz')\n",
    "                relation_name = relation_name.translate(pattern_for_relation_filter)\n",
    "                \n",
    "                patterns = r\"ಹೆಸರು: |\\u200c|ಹೆಸರು\"\n",
    "                relation_name = re.sub(patterns, \"\", relation_name)\n",
    "                relation_name = relation_name.strip()\n",
    "                \n",
    "            if relation == \"Father\":\n",
    "                dic[\"FatherName\"] = relation_name\n",
    "            else:\n",
    "                dic[\"FatherName\"] = \"\"\n",
    "                \n",
    "            if relation == \"Husband\":\n",
    "                dic[\"HusbandName\"] = relation_name\n",
    "            else:\n",
    "                dic[\"HusbandName\"] = \"\"\n",
    "                \n",
    "            if relation == \"Mother\":\n",
    "                dic[\"MotherName\"] = relation_name\n",
    "            else:\n",
    "                dic[\"MotherName\"] = \"\"\n",
    "            \n",
    "            dic[\"num\"] = count\n",
    "            print(dic)\n",
    "            final_list.append(dic)\n",
    "            count += 1\n",
    "            \n",
    "    sd = pd.DataFrame(final_list)\n",
    "    sd[[\"Name\", \"FatherName\", \"HusbandName\", \"MotherName\"]].to_excel(str(pdf_file) + \".xlsx\")\n",
    "    \n",
    "    print(f\"{pdf_file} completed\")\n",
    "    \n",
    "print(\"===\")\n",
    "print(\"end\")"
   ]
  },
  {
   "cell_type": "code",
   "execution_count": null,
   "id": "f6e275aa",
   "metadata": {},
   "outputs": [],
   "source": []
  }
 ],
 "metadata": {
  "kernelspec": {
   "display_name": "Python 3 (ipykernel)",
   "language": "python",
   "name": "python3"
  },
  "language_info": {
   "codemirror_mode": {
    "name": "ipython",
    "version": 3
   },
   "file_extension": ".py",
   "mimetype": "text/x-python",
   "name": "python",
   "nbconvert_exporter": "python",
   "pygments_lexer": "ipython3",
   "version": "3.11.4"
  }
 },
 "nbformat": 4,
 "nbformat_minor": 5
}
