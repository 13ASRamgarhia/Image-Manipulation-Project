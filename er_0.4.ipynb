{
 "cells": [
  {
   "cell_type": "code",
   "execution_count": 8,
   "metadata": {},
   "outputs": [],
   "source": [
    "# v0.2 is extracting Age with 99+% accuracy.\n",
    "# v0.3 is extracting Age and Gender with 99+% accuracy.\n",
    "# v0.4 is for Name"
   ]
  },
  {
   "cell_type": "code",
   "execution_count": 9,
   "metadata": {},
   "outputs": [],
   "source": [
    "import cv2\n",
    "import pandas as pd\n",
    "import numpy as np\n",
    "import matplotlib.pyplot as plt                                               #importing libraries\n",
    "import matplotlib as mpl\n",
    "from ipywidgets import interact, interactive, fixed, interact_manual\n",
    "import ipywidgets as widgets\n",
    "import pdf2image\n",
    "import re\n",
    "from PIL import Image\n",
    "from pytesseract import pytesseract\n",
    "import numpy\n",
    "\n",
    "\n",
    "mpl.rcParams['image.cmap'] = 'gray'\n",
    "\n",
    "path_to_tesseract = r\"C:\\Program Files\\Tesseract-OCR\\tesseract.exe\"    #providing path of tesseract\n",
    "pytesseract.tesseract_cmd = path_to_tesseract\n"
   ]
  },
  {
   "cell_type": "code",
   "execution_count": 10,
   "metadata": {},
   "outputs": [],
   "source": [
    "def convert_pdf_to_image(document, dpi):\n",
    "    images = []\n",
    "    images.extend(\n",
    "                    list(\n",
    "                        map(\n",
    "                            lambda image: cv2.cvtColor(\n",
    "                                np.asarray(image), code=cv2.COLOR_RGB2BGR             \n",
    "                            ),                                                     #converting all pages of pdf into images and storing them in a list\n",
    "                            pdf2image.convert_from_path(document, dpi=dpi, poppler_path=r\"C:\\Users\\Amandeep Singh\\Downloads\\Release-23.05.0-0\\poppler-23.05.0\\Library\\bin\"),\n",
    "                        )\n",
    "                    )\n",
    "                )\n",
    "    return images"
   ]
  },
  {
   "cell_type": "code",
   "execution_count": 11,
   "metadata": {},
   "outputs": [],
   "source": [
    "def f(x):\n",
    "    \n",
    "    global horizontal_lines_img, verticle_lines_img, kernel\n",
    "    kernel_length = np.array(img).shape[1]//x\n",
    "\n",
    "    verticle_kernel = cv2.getStructuringElement(cv2.MORPH_RECT, (1, kernel_length))\n",
    "    hori_kernel = cv2.getStructuringElement(cv2.MORPH_RECT, (kernel_length, 1))\n",
    "    kernel = cv2.getStructuringElement(cv2.MORPH_RECT, (3, 3))\n",
    "    img_temp1 = cv2.erode(img_bin, verticle_kernel, iterations=3)                    #Creating Horizontal&Vertical Lines images\n",
    "    verticle_lines_img = cv2.dilate(img_temp1, verticle_kernel, iterations=3)\n",
    "    cv2.imwrite(\"Images/verticle_lines.jpg\",verticle_lines_img)\n",
    "    img_temp2 = cv2.erode(img_bin, hori_kernel, iterations=3)\n",
    "    horizontal_lines_img = cv2.dilate(img_temp2, hori_kernel, iterations=3)\n",
    "    \n"
   ]
  },
  {
   "cell_type": "code",
   "execution_count": 12,
   "metadata": {},
   "outputs": [],
   "source": [
    "def sort_contours(cnts, method):\n",
    "                                                                      #Sorting Contours\n",
    "    boundingBoxes = [cv2.boundingRect(c) for c in cnts]\n",
    "    (cnts, boundingBoxes) = zip(*sorted(zip(cnts, boundingBoxes),key=lambda b:[b[1][1],b[1][0]] , reverse=False))\n",
    "\n",
    "    return (cnts, boundingBoxes)\n"
   ]
  },
  {
   "cell_type": "code",
   "execution_count": 13,
   "metadata": {},
   "outputs": [],
   "source": [
    "start_pg = 81                       #Providing Starting and End files range\n",
    "end_pg = 90"
   ]
  },
  {
   "cell_type": "code",
   "execution_count": null,
   "metadata": {
    "scrolled": true
   },
   "outputs": [
    {
     "data": {
      "application/vnd.jupyter.widget-view+json": {
       "model_id": "c8b36291dade4d82b6280fa862226f94",
       "version_major": 2,
       "version_minor": 0
      },
      "text/plain": [
       "interactive(children=(IntSlider(value=50, description='x', max=255, min=1), Output()), _dom_classes=('widget-i…"
      ]
     },
     "metadata": {},
     "output_type": "display_data"
    },
    {
     "data": {
      "application/vnd.jupyter.widget-view+json": {
       "model_id": "ea63799a2612405caad9f204481915fe",
       "version_major": 2,
       "version_minor": 0
      },
      "text/plain": [
       "interactive(children=(IntSlider(value=50, description='x', max=255, min=1), Output()), _dom_classes=('widget-i…"
      ]
     },
     "metadata": {},
     "output_type": "display_data"
    },
    {
     "data": {
      "application/vnd.jupyter.widget-view+json": {
       "model_id": "57fded35b0b44dc783ff7948ce66c55d",
       "version_major": 2,
       "version_minor": 0
      },
      "text/plain": [
       "interactive(children=(IntSlider(value=50, description='x', max=255, min=1), Output()), _dom_classes=('widget-i…"
      ]
     },
     "metadata": {},
     "output_type": "display_data"
    },
    {
     "data": {
      "application/vnd.jupyter.widget-view+json": {
       "model_id": "5589607bd64c44e8ac5adfb93fa0a40e",
       "version_major": 2,
       "version_minor": 0
      },
      "text/plain": [
       "interactive(children=(IntSlider(value=50, description='x', max=255, min=1), Output()), _dom_classes=('widget-i…"
      ]
     },
     "metadata": {},
     "output_type": "display_data"
    },
    {
     "data": {
      "application/vnd.jupyter.widget-view+json": {
       "model_id": "c3e4f99c23444e2baf83e3bac9e59890",
       "version_major": 2,
       "version_minor": 0
      },
      "text/plain": [
       "interactive(children=(IntSlider(value=50, description='x', max=255, min=1), Output()), _dom_classes=('widget-i…"
      ]
     },
     "metadata": {},
     "output_type": "display_data"
    }
   ],
   "source": [
    "for pg in range(start_pg,end_pg+1):\n",
    "    \n",
    "    images = convert_pdf_to_image(str(pg)+'.pdf', 300)\n",
    "    \n",
    "    final_lis = []\n",
    "    for i in range(2,len(images)-1):\n",
    "        img = cv2.cvtColor(images[i], cv2.COLOR_BGR2GRAY)                      #Converting color space of images to GrayScale\n",
    "\n",
    "        (thresh, img_bin) = cv2.threshold(img, 128, 255,cv2.THRESH_BINARY|     cv2.THRESH_OTSU)    #performing thresholding\n",
    "\n",
    "        img_bin = 255-img_bin \n",
    "        cv2.imwrite(\"Images/Image_bin.jpg\",img_bin)\n",
    "\n",
    "        interact(f,  x=widgets.IntSlider(min=1,max=255,step=1,value=50));\n",
    "\n",
    "        alpha = 0.5                                              \n",
    "        beta = 1.0 - alpha                                                 #blending of horizontal&vertical lines images\n",
    "        img_final_bin = cv2.addWeighted(verticle_lines_img, alpha, horizontal_lines_img, beta, 0.0)\n",
    "        img_final_bin = cv2.erode(~img_final_bin, kernel, iterations=2)\n",
    "        (thresh, img_final_bin) = cv2.threshold(img_final_bin, 128,255, cv2.THRESH_BINARY | cv2.THRESH_OTSU)\n",
    "        \n",
    "        contours, hierarchy = cv2.findContours(img_final_bin, cv2.RETR_TREE, cv2.CHAIN_APPROX_SIMPLE)    #contour detection\n",
    "        (contours, boundingBoxes) = sort_contours(contours,\"top-to-bottom\")          #sorting contours\n",
    "\n",
    "        g = []                                                 #taking only required rectangular boxes\n",
    "        for c in contours:\n",
    "            x, y, w, h = cv2.boundingRect(c)\n",
    "            if (w<800 and w > 700 and h>320):\n",
    "                g.append([x,y,w,h])\n",
    "        \n",
    "        a = []\n",
    "        for i in range(len(g)):\n",
    "            if i == 0:\n",
    "                a.append(g[i])\n",
    "            else:\n",
    "                if np.abs(g[i][0] - g[i-1][0]) < 50:\n",
    "                    pass\n",
    "                else:\n",
    "                    a.append(g[i])\n",
    "\n",
    "        for i in a:\n",
    "            new_img = img[i[1]:i[1]+i[3], i[0]:i[0]+i[2]]\n",
    "            dic = {}\n",
    "            \n",
    "            #OCR getting all details (regular)\n",
    "            text = pytesseract.image_to_string(new_img,config='--psm 6')  #extracting text from image\n",
    "            \n",
    "            #OCR getting name, relation_name, and gender (extracting text and single spaces only)\n",
    "            text_name = pytesseract.image_to_string(new_img, config = r'--psm 6 --oem 3 -c tessedit_char_whitelist=\"ABCDEFGHIJKLMNOPQRSTUVWXYZabcdefghijklmnopqrstuvwxyz \"')\n",
    "            text_for_name_relation_gender = text_name.split()\n",
    "            \n",
    "            #OCR getting age only (extracting numbers only)\n",
    "            text_age = pytesseract.image_to_string(new_img, config='--psm 6 --oem 3 -c tessedit_char_whitelist=0123456789')\n",
    "            temp_text_age = text_age.split()\n",
    "            text_after_config = temp_text_age[-1].strip()\n",
    "            \n",
    "            #OCR getting House no only\n",
    "            text_house = pytesseract.image_to_string(new_img, config = r'--psm 6 --oem 1 -c tessedit_char_whitelist=\"ABCDEFGHIJKLMNOPQRSTUVWXYZabcdefghijklmnopqrstuvwxyz0123456789/-.,\"')\n",
    "            text_house = text_house.split()\n",
    "            \n",
    "            #================\n",
    "            #POST PROCESSING\n",
    "            #================\n",
    "            \n",
    "            #Finding Name [OK]\n",
    "            temp_list_for_name = []\n",
    "            found_name = False\n",
    "            for item in text_for_name_relation_gender:                        \n",
    "                if item == \"Name\" or item == \"Nama\" or item == \"Narne\":\n",
    "                    found_name = True\n",
    "                    continue\n",
    "\n",
    "                if found_name and (item == \"Father\" or item == \"Mother\" or item == \"Husband\" or item == \"Other\" or item == \"Others\" or item == \"Husdand\"):\n",
    "                    break\n",
    "\n",
    "                if found_name:\n",
    "                    temp_list_for_name.append(item)\n",
    "\n",
    "            Name = \" \".join(temp_list_for_name)\n",
    "            dic[\"Name\"] = Name       \n",
    "            \n",
    "            #Finding Age [OK]\n",
    "            match6 = re.search(r\"\\nAge(.*):(.*)Gender\",text)\n",
    "            text_before_config = \"\"\n",
    "            if match6:\n",
    "                text_before_config = text[match6.start()+1:match6.end()-6].split(\":\")[1]\n",
    "                text_before_config = text_before_config.strip()\n",
    "                            \n",
    "            if text_before_config.isdigit() and len(text_before_config) <= 2:\n",
    "                dic[\"Age\"] = text_before_config\n",
    "            else:\n",
    "                if text_after_config.isdigit():\n",
    "                    if len(text_after_config) <= 2:\n",
    "                        dic[\"Age\"] = text_after_config\n",
    "                    else:\n",
    "                        temp_age = text_after_config\n",
    "                        temp_age = list(temp_age)\n",
    "                        final_age = temp_age[-2]+temp_age[-1]\n",
    "                        dic[\"Age\"] = final_age\n",
    "                        \n",
    "            #Finding Gender [OK]\n",
    "            temp_list_for_gender = []\n",
    "            for element in text_for_name_relation_gender:\n",
    "                if element == \"Age\":\n",
    "                    index = text_for_name_relation_gender.index(element)\n",
    "                    temp_list_for_gender = text_for_name_relation_gender[index:]\n",
    "                    \n",
    "                    for ele in temp_list_for_gender:\n",
    "                        if isinstance(ele, str) and (ele.startswith(\"M\")):\n",
    "                            dic[\"Gender\"] = \"Male\"\n",
    "                            break\n",
    "                        elif isinstance(ele, str) and (ele.startswith(\"F\")):\n",
    "                            dic[\"Gender\"] = \"Female\"\n",
    "                            break\n",
    "                        elif isinstance(ele, str) and (ele.startswith(\"T\")):\n",
    "                            dic[\"Gender\"] = \"Third Gender\"\n",
    "                            break\n",
    "                        else:\n",
    "                            dic[\"Gender\"] = \"\"                    \n",
    "                    \n",
    "#                     if temp_list_for_gender[2].startswith(\"M\"):\n",
    "#                         dic[\"Gender\"] = \"Male\"\n",
    "#                     elif temp_list_for_gender[2].startswith(\"F\"):\n",
    "#                         dic[\"Gender\"] = \"Female\"\n",
    "#                     elif temp_list_for_gender[2].startswith(\"T\"):\n",
    "#                         dic[\"Gender\"] = \"Third Gender\"\n",
    "#                     elif temp_list_for_gender[3].startswith(\"M\"):\n",
    "#                         dic[\"Gender\"] = \"Male\"\n",
    "#                     elif temp_list_for_gender[3].startswith(\"F\"):\n",
    "#                         dic[\"Gender\"] = \"Female\"\n",
    "#                     elif temp_list_for_gender[3].startswith(\"T\"):\n",
    "#                         dic[\"Gender\"] = \"Third Gender\"\n",
    "#                     else:\n",
    "#                         dic[\"Gender\"] = \"\"\n",
    "\n",
    "            #Finding father/mother/husband name [OK]\n",
    "            found_element = None\n",
    "            start_index = None\n",
    "            temp_list = []\n",
    "\n",
    "            for i in range(len(text_for_name_relation_gender)):\n",
    "                if text_for_name_relation_gender[i] == \"Father\":\n",
    "                    found_element = \"Father\"\n",
    "                    start_index = i + 2\n",
    "                    break\n",
    "                elif text_for_name_relation_gender[i] == \"Mother\":\n",
    "                    found_element = \"Mother\"\n",
    "                    start_index = i + 2\n",
    "                    break\n",
    "                elif text_for_name_relation_gender[i] == \"Husband\" or text[i] == \"Husdand\":\n",
    "                    found_element = \"Husband\"\n",
    "                    start_index = i + 2\n",
    "                    break\n",
    "\n",
    "            if found_element is not None:\n",
    "                for j in range(start_index, len(text_for_name_relation_gender)):\n",
    "                    if text_for_name_relation_gender[j] == \"Photo\" or text_for_name_relation_gender[j] == \"House\":\n",
    "                        break\n",
    "                    temp_list.append(text_for_name_relation_gender[j])\n",
    "\n",
    "            relation_name = \" \".join(temp_list)\n",
    "            \n",
    "            if found_element == \"Father\":\n",
    "                dic[\"FatherName\"] = relation_name\n",
    "            if found_element == \"Mother\":\n",
    "                dic[\"MotherName\"] = relation_name\n",
    "            if found_element == \"Husband\":\n",
    "                dic[\"HusbandName\"] = relation_name\n",
    "            \n",
    "            #Finding House no\n",
    "            temp_list_for_house_no = []\n",
    "            house_no = None\n",
    "            final_house_no = None\n",
    "\n",
    "            starting_index = 0\n",
    "            ending_index = 0\n",
    "            \n",
    "            for n in text_house:\n",
    "                if n.startswith(\"House\"):\n",
    "                    starting_index = text_house.index(n)\n",
    "                \n",
    "                if n.startswith(\"Photo\") or n.startswith(\"Phato\") or n.startswith(\"Age\"):\n",
    "                    ending_index = text_house.index(n)\n",
    "                    \n",
    "            temp_list_for_house_no = text_house[starting_index:ending_index]\n",
    "\n",
    "            house_no = \" \".join(temp_list_for_house_no)\n",
    "\n",
    "            patterns = r\"HouseNumbers|HouseNumbert|HouseNumber|HouseNurnber|HouseNumbber|HouseNurmnber|HouseNurmber|HouseNurber|HouseNumnber|Photo|Phato|Available|Availal|Pho|Avail|i|Py|Avai|Availab|\"\n",
    "            final_house_no = re.sub(patterns, \"\", house_no)\n",
    "            final_house_no = re.sub(patterns, \"\", house_no)\n",
    "            final_house_no = final_house_no.strip()\n",
    "            final_house_no = \" \" + final_house_no\n",
    "\n",
    "            dic[\"HouseNumber\"] = final_house_no\n",
    "            \n",
    "#             match8 = re.search(r\"BXW(.*)|TB(.*)\",text)\n",
    "#             if match8:\n",
    "#                 dic['Voter_id'] = text[match8.start():match8.end()]\n",
    "\n",
    "            final_lis.append(dic)\n",
    "            \n",
    "    sd = pd.DataFrame(final_lis)\n",
    "    sd = sd.astype({\"HouseNumber\": str})\n",
    "\n",
    "    sd['Party Inclination'] = ''\n",
    "    sd['Caste'] = ''\n",
    "\n",
    "    sd[['Name','Age','Gender',\"FatherName\",\"HusbandName\",\"MotherName\",\"HouseNumber\",\"Party Inclination\",\"Caste\"]].to_csv(str(pg) + \".csv\")\n",
    "\n",
    "    print(pg, \"completed\")\n",
    "\n",
    "    \n",
    "    "
   ]
  },
  {
   "cell_type": "code",
   "execution_count": 7,
   "metadata": {},
   "outputs": [],
   "source": [
    "# sd"
   ]
  },
  {
   "cell_type": "code",
   "execution_count": 8,
   "metadata": {},
   "outputs": [],
   "source": [
    "# sd['Name'].isnull().sum()"
   ]
  },
  {
   "cell_type": "code",
   "execution_count": 9,
   "metadata": {},
   "outputs": [],
   "source": [
    "# sd['Gender'].isnull().sum()"
   ]
  },
  {
   "cell_type": "code",
   "execution_count": 10,
   "metadata": {},
   "outputs": [],
   "source": [
    "# sd.to_excel('sample.xlsx')"
   ]
  },
  {
   "cell_type": "code",
   "execution_count": null,
   "metadata": {},
   "outputs": [],
   "source": []
  },
  {
   "cell_type": "code",
   "execution_count": null,
   "metadata": {},
   "outputs": [],
   "source": []
  }
 ],
 "metadata": {
  "kernelspec": {
   "display_name": "Python 3 (ipykernel)",
   "language": "python",
   "name": "python3"
  },
  "language_info": {
   "codemirror_mode": {
    "name": "ipython",
    "version": 3
   },
   "file_extension": ".py",
   "mimetype": "text/x-python",
   "name": "python",
   "nbconvert_exporter": "python",
   "pygments_lexer": "ipython3",
   "version": "3.11.4"
  }
 },
 "nbformat": 4,
 "nbformat_minor": 4
}
